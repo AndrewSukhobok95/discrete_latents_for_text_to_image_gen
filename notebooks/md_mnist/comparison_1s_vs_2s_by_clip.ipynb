{
 "cells": [
  {
   "cell_type": "code",
   "execution_count": 14,
   "id": "3d44331a",
   "metadata": {},
   "outputs": [],
   "source": [
    "import os\n",
    "import numpy as np\n",
    "import torch\n",
    "import matplotlib.pyplot as plt\n",
    "from tqdm.notebook import tqdm\n",
    "\n",
    "import torch.nn.functional as F\n",
    "from torch import nn, optim\n",
    "\n",
    "import sys\n",
    "sys.path.append(\"./../../\")\n",
    "\n",
    "from modules.dvae.model import DVAE\n",
    "from modules.clip.model import CLIP, DVAECLIP\n",
    "from config_reader import ConfigReader\n",
    "from datasets.mnist_loader import MNISTData\n",
    "from utilities.md_mnist_utils import LabelsInfo\n",
    "from notebooks.utils import show\n",
    "from modules.common_utils import latent_to_img, img_to_latent"
   ]
  },
  {
   "cell_type": "code",
   "execution_count": 15,
   "id": "4899d96b",
   "metadata": {},
   "outputs": [],
   "source": [
    "config_dir_path = '/u/82/sukhoba1/unix/Desktop/TA-VQVAE/configs/'\n",
    "config_path = config_dir_path + 'clip_mnistmd.yaml'\n",
    "CONFIG = ConfigReader(config_path=config_path)"
   ]
  },
  {
   "cell_type": "code",
   "execution_count": 16,
   "id": "61c61102",
   "metadata": {},
   "outputs": [
    {
     "ename": "TypeError",
     "evalue": "__init__() got an unexpected keyword argument 'custom_transform_version'",
     "output_type": "error",
     "traceback": [
      "\u001b[0;31m---------------------------------------------------------------------------\u001b[0m",
      "\u001b[0;31mTypeError\u001b[0m                                 Traceback (most recent call last)",
      "\u001b[0;32m<ipython-input-16-35fb27dd6bcd>\u001b[0m in \u001b[0;36m<module>\u001b[0;34m\u001b[0m\n\u001b[0;32m----> 1\u001b[0;31m data_source = MNISTData(\n\u001b[0m\u001b[1;32m      2\u001b[0m     \u001b[0mimg_type\u001b[0m\u001b[0;34m=\u001b[0m\u001b[0mCONFIG\u001b[0m\u001b[0;34m.\u001b[0m\u001b[0mdataset_type\u001b[0m\u001b[0;34m,\u001b[0m\u001b[0;34m\u001b[0m\u001b[0;34m\u001b[0m\u001b[0m\n\u001b[1;32m      3\u001b[0m     \u001b[0mroot_path\u001b[0m\u001b[0;34m=\u001b[0m\u001b[0mCONFIG\u001b[0m\u001b[0;34m.\u001b[0m\u001b[0mroot_path\u001b[0m\u001b[0;34m,\u001b[0m\u001b[0;34m\u001b[0m\u001b[0;34m\u001b[0m\u001b[0m\n\u001b[1;32m      4\u001b[0m     \u001b[0mbatch_size\u001b[0m\u001b[0;34m=\u001b[0m\u001b[0mCONFIG\u001b[0m\u001b[0;34m.\u001b[0m\u001b[0mBATCH_SIZE\u001b[0m\u001b[0;34m,\u001b[0m\u001b[0;34m\u001b[0m\u001b[0;34m\u001b[0m\u001b[0m\n\u001b[1;32m      5\u001b[0m     custom_transform_version=None)\n",
      "\u001b[0;31mTypeError\u001b[0m: __init__() got an unexpected keyword argument 'custom_transform_version'"
     ]
    }
   ],
   "source": [
    "data_source = MNISTData(\n",
    "    img_type=CONFIG.dataset_type,\n",
    "    root_path=CONFIG.root_path,\n",
    "    batch_size=CONFIG.BATCH_SIZE,\n",
    "    custom_transform_version=None)\n",
    "\n",
    "train_loader = data_source.get_train_loader(8)\n",
    "\n",
    "data_source_1 = MNISTData(\n",
    "    img_type=CONFIG.dataset_type,\n",
    "    root_path=CONFIG.root_path,\n",
    "    batch_size=CONFIG.BATCH_SIZE,\n",
    "    custom_transform_version=1)\n",
    "\n",
    "train_loader_1 = data_source_1.get_train_loader(8)"
   ]
  },
  {
   "cell_type": "code",
   "execution_count": null,
   "id": "34fe4e30",
   "metadata": {},
   "outputs": [],
   "source": [
    "if CONFIG.use_vae:\n",
    "    dvae = DVAE(\n",
    "        in_channels=CONFIG.img_channels,\n",
    "        vocab_size=CONFIG.vae_vocab_size,\n",
    "        num_x2downsamples=CONFIG.vae_num_x2downsamples,\n",
    "        num_resids_downsample=CONFIG.vae_num_resids_downsample,\n",
    "        num_resids_bottleneck=CONFIG.vae_num_resids_bottleneck,\n",
    "        hidden_dim=CONFIG.vae_hidden_dim,\n",
    "        device=CONFIG.DEVICE)\n",
    "\n",
    "    dvae.eval()\n",
    "\n",
    "    dvae.load_model(\n",
    "        root_path=CONFIG.vae_model_path,\n",
    "        model_name=CONFIG.vae_model_name)"
   ]
  },
  {
   "cell_type": "code",
   "execution_count": 17,
   "id": "975feae7",
   "metadata": {},
   "outputs": [
    {
     "name": "stdout",
     "output_type": "stream",
     "text": [
      "remote: Support for password authentication was removed on August 13, 2021. Please use a personal access token instead.\r\n",
      "remote: Please see https://github.blog/2020-12-15-token-authentication-requirements-for-git-operations/ for more information.\r\n",
      "fatal: unable to access 'https://github.com/AndrewSukhobok95/TA-VQVAE.git/': The requested URL returned error: 403\r\n"
     ]
    }
   ],
   "source": [
    "!git pull"
   ]
  },
  {
   "cell_type": "code",
   "execution_count": 6,
   "id": "4dd3d2ce",
   "metadata": {},
   "outputs": [],
   "source": [
    "img, txt = next(iter(train_loader))\n",
    "img = img.to(CONFIG.DEVICE)\n",
    "txt = txt.permute(1, 0).to(CONFIG.DEVICE)"
   ]
  },
  {
   "cell_type": "code",
   "execution_count": 7,
   "id": "6174af9d",
   "metadata": {},
   "outputs": [],
   "source": [
    "if CONFIG.use_vae:\n",
    "    with torch.no_grad():\n",
    "        img_recon = dvae.get_reconstruction(img)"
   ]
  },
  {
   "cell_type": "code",
   "execution_count": null,
   "id": "b4987a39",
   "metadata": {},
   "outputs": [],
   "source": []
  },
  {
   "cell_type": "code",
   "execution_count": null,
   "id": "37e764a6",
   "metadata": {},
   "outputs": [],
   "source": []
  },
  {
   "cell_type": "code",
   "execution_count": null,
   "id": "d51067fa",
   "metadata": {},
   "outputs": [],
   "source": []
  },
  {
   "cell_type": "code",
   "execution_count": null,
   "id": "a28e28d7",
   "metadata": {},
   "outputs": [],
   "source": []
  },
  {
   "cell_type": "code",
   "execution_count": null,
   "id": "f3247b62",
   "metadata": {},
   "outputs": [],
   "source": []
  },
  {
   "cell_type": "code",
   "execution_count": null,
   "id": "6ef76a43",
   "metadata": {},
   "outputs": [],
   "source": []
  },
  {
   "cell_type": "code",
   "execution_count": null,
   "id": "fd6cb6b0",
   "metadata": {},
   "outputs": [],
   "source": [
    "img, txt = next(iter(train_loader))\n",
    "\n",
    "img_1, txt = next(iter(train_loader_1))"
   ]
  },
  {
   "cell_type": "code",
   "execution_count": 12,
   "id": "fe225785",
   "metadata": {},
   "outputs": [
    {
     "data": {
      "image/png": "[encoded data removed]",
      "text/plain": [
       "<Figure size 1296x1296 with 1 Axes>"
      ]
     },
     "metadata": {
      "needs_background": "light"
     },
     "output_type": "display_data"
    }
   ],
   "source": [
    "show(img, figsize=(18, 18))"
   ]
  },
  {
   "cell_type": "code",
   "execution_count": 13,
   "id": "026bda66",
   "metadata": {},
   "outputs": [
    {
     "data": {
      "image/png": "[encoded data removed]",
      "text/plain": [
       "<Figure size 1296x1296 with 1 Axes>"
      ]
     },
     "metadata": {
      "needs_background": "light"
     },
     "output_type": "display_data"
    }
   ],
   "source": [
    "show(img_1, figsize=(18, 18))"
   ]
  },
  {
   "cell_type": "code",
   "execution_count": null,
   "id": "b7fc1718",
   "metadata": {},
   "outputs": [],
   "source": []
  },
  {
   "cell_type": "code",
   "execution_count": null,
   "id": "56716b9f",
   "metadata": {},
   "outputs": [],
   "source": []
  },
  {
   "cell_type": "code",
   "execution_count": null,
   "id": "93572492",
   "metadata": {},
   "outputs": [],
   "source": []
  },
  {
   "cell_type": "code",
   "execution_count": null,
   "id": "72e6a85a",
   "metadata": {},
   "outputs": [],
   "source": []
  },
  {
   "cell_type": "code",
   "execution_count": null,
   "id": "cccc248d",
   "metadata": {},
   "outputs": [],
   "source": []
  },
  {
   "cell_type": "code",
   "execution_count": 16,
   "id": "06af569a",
   "metadata": {
    "scrolled": true
   },
   "outputs": [],
   "source": [
    "# model = DVAECLIP(\n",
    "#     img_latent_height=32,\n",
    "#     img_latent_width=32,\n",
    "#     img_latent_channels=256,\n",
    "#     txt_max_length=12,\n",
    "#     txt_vocab_size=20,\n",
    "#     embed_dim=128,\n",
    "#     num_blocks=8,\n",
    "#     hidden_dim=256,\n",
    "#     n_attn_heads=8,\n",
    "#     dropout_prob=0.1,\n",
    "#     device=DEVICE\n",
    "# )\n",
    "\n",
    "# optimizer = optim.Adam(model.parameters(), lr=0.001)\n",
    "\n",
    "# iteration = 0\n",
    "# for epoch in range(100):\n",
    "#     for batch_index, (img, txt) in enumerate(train_loader):\n",
    "#         current_batch_size = img.size(0)\n",
    "\n",
    "#         img = img.to(DEVICE)\n",
    "#         txt = txt.permute(1, 0).to(DEVICE)\n",
    "#         labels = torch.arange(current_batch_size).to(DEVICE)\n",
    "        \n",
    "#         imglat = img_to_latent(img, dvae)\n",
    "        \n",
    "#         logits_per_image, logits_per_text = model(imglat, txt)\n",
    "\n",
    "#         loss_img = F.cross_entropy(logits_per_image, labels)\n",
    "#         loss_txt = F.cross_entropy(logits_per_text, labels)\n",
    "#         loss = (loss_img + loss_txt) / 2\n",
    "        \n",
    "#         loss.backward()\n",
    "        \n",
    "#         if iteration % 20 == 0:\n",
    "#             print(\"Epoch: {} Iter: {} Loss: {}\".format(epoch, iteration, round(loss.item(), 5)))\n",
    "\n",
    "#         if (batch_index + 1) % 4 == 0:\n",
    "#             optimizer.step()\n",
    "#             optimizer.zero_grad()\n",
    "\n",
    "#             iteration += 1    \n",
    "        \n",
    "#         optimizer.step()\n",
    "#         optimizer.zero_grad()\n",
    "        \n",
    "#         iteration += 1"
   ]
  },
  {
   "cell_type": "code",
   "execution_count": null,
   "id": "c6eed382",
   "metadata": {},
   "outputs": [],
   "source": []
  }
 ],
 "metadata": {
  "kernelspec": {
   "display_name": "Python 3",
   "language": "python",
   "name": "python3"
  },
  "language_info": {
   "codemirror_mode": {
    "name": "ipython",
    "version": 3
   },
   "file_extension": ".py",
   "mimetype": "text/x-python",
   "name": "python",
   "nbconvert_exporter": "python",
   "pygments_lexer": "ipython3",
   "version": "3.8.5"
  }
 },
 "nbformat": 4,
 "nbformat_minor": 5
}
