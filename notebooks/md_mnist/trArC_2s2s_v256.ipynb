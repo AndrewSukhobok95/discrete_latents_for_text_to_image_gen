{
 "cells": [
  {
   "cell_type": "code",
   "execution_count": 1,
   "id": "749f478f",
   "metadata": {},
   "outputs": [],
   "source": [
    "import os\n",
    "import numpy as np\n",
    "import matplotlib.pyplot as plt\n",
    "from tqdm.notebook import tqdm\n",
    "\n",
    "import torch\n",
    "import torch.nn.functional as F\n",
    "from torch import nn, optim\n",
    "\n",
    "from torch.utils.data import DataLoader\n",
    "from torch.optim.lr_scheduler import MultiStepLR"
   ]
  },
  {
   "cell_type": "code",
   "execution_count": 2,
   "id": "dd295c63",
   "metadata": {},
   "outputs": [],
   "source": [
    "import sys\n",
    "sys.path.append(\"./../../\")\n",
    "\n",
    "from config_reader import ConfigReader\n",
    "from modules.dvae.model import DVAE\n",
    "from modules.transformer_gen.ar_cond_2stream.generator import LatentGenerator\n",
    "from datasets.mnist_loader import MNISTData\n",
    "from notebooks.utils import show\n",
    "from modules.common_utils import latent_to_img\n",
    "from utilities.md_mnist_utils import LabelsInfo"
   ]
  },
  {
   "cell_type": "code",
   "execution_count": 3,
   "id": "d27529ef",
   "metadata": {},
   "outputs": [
    {
     "name": "stdout",
     "output_type": "stream",
     "text": [
      "BATCH_SIZE                              12                                      \n",
      "DEVICE                                  cuda                                    \n",
      "LR                                      0.001                                   \n",
      "LR_gamma                                0.1                                     \n",
      "NUM_EPOCHS                              20                                      \n",
      "cond_num_blocks                         6                                       \n",
      "cond_seq_size                           12                                      \n",
      "cond_vocab_size                         20                                      \n",
      "config_path                             /u/82/sukhoba1/unix/Desktop/TA-VQVAE/configs/trArC2s_mnistmd_v256_ds2_nb12_cnb6_remote.yaml\n",
      "dropout_prob                            0.1                                     \n",
      "hidden_dim                              256                                     \n",
      "hidden_height                           32                                      \n",
      "hidden_width                            32                                      \n",
      "in_channels                             3                                       \n",
      "mnist_type                              md                                      \n",
      "model_name                              generator                               \n",
      "model_path                              /u/82/sukhoba1/unix/Desktop/TA-VQVAE/models/mnist_md/trArC2s_v256_ds2_nb12_cnb6/\n",
      "n_attn_heads                            8                                       \n",
      "num_blocks                              12                                      \n",
      "num_resids_bottleneck                   4                                       \n",
      "num_resids_downsample                   4                                       \n",
      "num_x2downsamples                       2                                       \n",
      "root_img_path                           /u/82/sukhoba1/unix/Desktop/TA-VQVAE/data/multi_descriptive_MNIST/\n",
      "step_LR_milestones                      [5, 10]                                 \n",
      "vae_model_name                          dvae                                    \n",
      "vae_model_path                          /u/82/sukhoba1/unix/Desktop/TA-VQVAE/models/mnist_md/dvae_v256_ds2/\n",
      "vocab_size                              256                                     \n"
     ]
    }
   ],
   "source": [
    "config_path = '/u/82/sukhoba1/unix/Desktop/TA-VQVAE/configs/trArC2s_mnistmd_v256_ds2_nb12_cnb6_remote.yaml'\n",
    "CONFIG = ConfigReader(config_path=config_path)\n",
    "CONFIG.print_config_info()"
   ]
  },
  {
   "cell_type": "code",
   "execution_count": 4,
   "id": "dfbc4ecf",
   "metadata": {},
   "outputs": [],
   "source": [
    "data_source = MNISTData(\n",
    "    img_type=CONFIG.mnist_type,\n",
    "    root_path=CONFIG.root_img_path,\n",
    "    batch_size=CONFIG.BATCH_SIZE)\n",
    "train_loader = data_source.get_train_loader(batch_size=8)"
   ]
  },
  {
   "cell_type": "code",
   "execution_count": 5,
   "id": "5e4b7356",
   "metadata": {},
   "outputs": [],
   "source": [
    "dvae = DVAE(\n",
    "    in_channels=CONFIG.in_channels,\n",
    "    vocab_size=CONFIG.vocab_size,\n",
    "    num_x2downsamples=CONFIG.num_x2downsamples,\n",
    "    num_resids_downsample=CONFIG.num_resids_downsample,\n",
    "    num_resids_bottleneck=CONFIG.num_resids_bottleneck,\n",
    "    hidden_dim=CONFIG.hidden_dim,\n",
    "    device=CONFIG.DEVICE)\n",
    "\n",
    "# G = LatentGenerator(\n",
    "#     hidden_width=CONFIG.hidden_width,\n",
    "#     hidden_height=CONFIG.hidden_height,\n",
    "#     embedding_dim=CONFIG.vocab_size,\n",
    "#     num_blocks=CONFIG.num_blocks,\n",
    "#     cond_num_blocks=CONFIG.cond_num_blocks,\n",
    "#     cond_seq_size=CONFIG.cond_seq_size,\n",
    "#     cond_vocab_size=CONFIG.cond_vocab_size,\n",
    "#     hidden_dim=CONFIG.hidden_dim,\n",
    "#     n_attn_heads=CONFIG.n_attn_heads,\n",
    "#     dropout_prob=CONFIG.dropout_prob,\n",
    "#     device=CONFIG.DEVICE)\n",
    "\n",
    "dvae.eval()\n",
    "# G.eval()\n",
    "\n",
    "dvae.load_model(\n",
    "    root_path=CONFIG.vae_model_path,\n",
    "    model_name=CONFIG.vae_model_name)\n",
    "\n",
    "# G.load_model(CONFIG.model_path, CONFIG.model_name)\n",
    "\n",
    "pass"
   ]
  },
  {
   "cell_type": "code",
   "execution_count": null,
   "id": "679a7b34",
   "metadata": {},
   "outputs": [],
   "source": []
  },
  {
   "cell_type": "code",
   "execution_count": null,
   "id": "0d6819a1",
   "metadata": {},
   "outputs": [],
   "source": []
  },
  {
   "cell_type": "code",
   "execution_count": null,
   "id": "7bd94d8c",
   "metadata": {},
   "outputs": [],
   "source": []
  },
  {
   "cell_type": "code",
   "execution_count": null,
   "id": "1289109b",
   "metadata": {},
   "outputs": [],
   "source": []
  },
  {
   "cell_type": "code",
   "execution_count": null,
   "id": "1a4994fd",
   "metadata": {},
   "outputs": [],
   "source": []
  },
  {
   "cell_type": "code",
   "execution_count": null,
   "id": "2638963b",
   "metadata": {},
   "outputs": [],
   "source": []
  },
  {
   "cell_type": "code",
   "execution_count": null,
   "id": "63c17398",
   "metadata": {},
   "outputs": [],
   "source": []
  },
  {
   "cell_type": "code",
   "execution_count": null,
   "id": "127333d4",
   "metadata": {},
   "outputs": [],
   "source": []
  },
  {
   "cell_type": "code",
   "execution_count": null,
   "id": "75180006",
   "metadata": {},
   "outputs": [],
   "source": []
  },
  {
   "cell_type": "code",
   "execution_count": null,
   "id": "ba79f5f7",
   "metadata": {},
   "outputs": [],
   "source": []
  },
  {
   "cell_type": "code",
   "execution_count": null,
   "id": "5fcb506d",
   "metadata": {},
   "outputs": [],
   "source": []
  },
  {
   "cell_type": "code",
   "execution_count": null,
   "id": "2831c45d",
   "metadata": {},
   "outputs": [],
   "source": []
  },
  {
   "cell_type": "code",
   "execution_count": null,
   "id": "fdef00d9",
   "metadata": {},
   "outputs": [],
   "source": []
  },
  {
   "cell_type": "code",
   "execution_count": null,
   "id": "6859e229",
   "metadata": {},
   "outputs": [],
   "source": []
  },
  {
   "cell_type": "code",
   "execution_count": 8,
   "id": "328c3346",
   "metadata": {},
   "outputs": [],
   "source": [
    "description = [\n",
    "    ['8', '30', 'r', 'up', '3', '20', 'g', 'up', '2', '20', 'w', 'middle'],\n",
    "    ['5', '30', 'g', 'middle', '2', '30', 'w', 'down', '4', '20', 'w', 'down'],\n",
    "    ['5', '40', 'r', 'down', '3', '30', 'w', 'middle', '0', '40', 'b', 'down'],\n",
    "    ['8', '20', 'g', 'down', '7', '40', 'w', 'middle', '2', '20', 'w', 'middle'],\n",
    "    ['9', '30', 'r', 'middle', '2', '30', 'w', 'down', '2', '40', 'r', 'down'],\n",
    "    ['5', '30', 'g', 'up', '2', '40', 'g', 'up', '6', '40', 'w', 'down'],\n",
    "    ['8', '30', 'g', 'middle', '4', '30', 'b', 'middle', '0', '40', 'r', 'up'],\n",
    "    ['6', '30', 'b', 'down', '4', '20', 'b', 'middle', '1', '20', 'g', 'down']\n",
    "]\n",
    "\n",
    "json_path = '/m/home/home8/82/sukhoba1/data/Desktop/TA-VQVAE/data/multi_descriptive_MNIST/description/labels_info.json'\n",
    "li = LabelsInfo(json_path)\n",
    "\n",
    "description_ids = li.encode_values(description)\n",
    "\n",
    "description_tensor = torch.LongTensor(description_ids).T.to(CONFIG.DEVICE)"
   ]
  },
  {
   "cell_type": "code",
   "execution_count": 13,
   "id": "86f6c0ad",
   "metadata": {},
   "outputs": [
    {
     "data": {
      "image/png": "[encoded data removed]",
      "text/plain": [
       "<Figure size 1152x1152 with 1 Axes>"
      ]
     },
     "metadata": {
      "needs_background": "light"
     },
     "output_type": "display_data"
    }
   ],
   "source": [
    "with torch.no_grad():\n",
    "    gen_lat = G.sample(description_tensor)\n",
    "\n",
    "gen_img = latent_to_img(gen_lat, dvae, CONFIG.hidden_height, CONFIG.hidden_width)\n",
    "\n",
    "show(gen_img, figsize=(16,16), plot_grid=True)"
   ]
  },
  {
   "cell_type": "code",
   "execution_count": null,
   "id": "731daf2b",
   "metadata": {},
   "outputs": [],
   "source": []
  },
  {
   "cell_type": "code",
   "execution_count": null,
   "id": "a1505cea",
   "metadata": {},
   "outputs": [],
   "source": []
  }
 ],
 "metadata": {
  "kernelspec": {
   "display_name": "Python 3",
   "language": "python",
   "name": "python3"
  },
  "language_info": {
   "codemirror_mode": {
    "name": "ipython",
    "version": 3
   },
   "file_extension": ".py",
   "mimetype": "text/x-python",
   "name": "python",
   "nbconvert_exporter": "python",
   "pygments_lexer": "ipython3",
   "version": "3.8.5"
  }
 },
 "nbformat": 4,
 "nbformat_minor": 5
}
