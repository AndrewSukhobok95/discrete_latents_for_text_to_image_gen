{
 "cells": [
  {
   "cell_type": "code",
   "execution_count": 1,
   "id": "3d44331a",
   "metadata": {},
   "outputs": [],
   "source": [
    "import os\n",
    "import numpy as np\n",
    "import torch\n",
    "import matplotlib.pyplot as plt\n",
    "from tqdm.notebook import tqdm\n",
    "\n",
    "import torch.nn.functional as F\n",
    "from torch import nn, optim\n",
    "\n",
    "import sys\n",
    "sys.path.append(\"./../../\")\n",
    "\n",
    "from modules.dvae.model import DVAE\n",
    "from modules.matcher.model import TrMatcher\n",
    "from config_reader import ConfigReader\n",
    "from datasets.mnist_loader import MNISTData\n",
    "from notebooks.utils import show\n",
    "from modules.common_utils import latent_to_img\n",
    "from utilities.md_mnist_utils import LabelsInfo"
   ]
  },
  {
   "cell_type": "code",
   "execution_count": 2,
   "id": "be54d06b",
   "metadata": {},
   "outputs": [],
   "source": [
    "from einops.layers.torch import Rearrange\n",
    "from modules.common_blocks import TrEncoderBlock"
   ]
  },
  {
   "cell_type": "code",
   "execution_count": 3,
   "id": "d0db6e8c",
   "metadata": {},
   "outputs": [],
   "source": [
    "class ImgEncoder(nn.Module):\n",
    "    def __init__(self,\n",
    "                 img_height,\n",
    "                 img_width,\n",
    "                 img_channels,\n",
    "                 patch_height,\n",
    "                 patch_width,\n",
    "                 embed_dim,\n",
    "                 num_blocks,\n",
    "                 hidden_dim,\n",
    "                 n_attn_heads,\n",
    "                 dropout_prob,\n",
    "                 device=torch.device('cpu')):\n",
    "        super(ImgEncoder, self).__init__()\n",
    "        self.device = device\n",
    "        \n",
    "        self.n_h_patch = img_height // patch_height\n",
    "        self.n_w_patch = img_width // patch_width\n",
    "        patch_dim = img_channels * patch_height * patch_width\n",
    "\n",
    "        self.cls_token = nn.Parameter(torch.randn(1, 1, embed_dim))\n",
    "        \n",
    "        self.img_pe_col = nn.Parameter(torch.randn(self.n_h_patch, 1, embed_dim))\n",
    "        self.img_pe_row = nn.Parameter(torch.randn(self.n_w_patch, 1, embed_dim))\n",
    "        \n",
    "        self.to_patch_embedding = nn.Sequential(\n",
    "            Rearrange('b c (h p1) (w p2) -> b (h w) (p1 p2 c)', p1=patch_height, p2=patch_width),\n",
    "            nn.Linear(patch_dim, embed_dim),\n",
    "        )\n",
    "\n",
    "        self.tr_encoder_blocks = nn.ModuleList([\n",
    "            TrEncoderBlock(n_features=embed_dim,\n",
    "                           n_attn_heads=n_attn_heads,\n",
    "                           n_hidden=hidden_dim,\n",
    "                           dropout_prob=dropout_prob,\n",
    "                           norm_first=True)\n",
    "            for _ in range(num_blocks)\n",
    "        ])\n",
    "\n",
    "        self.to(self.device)\n",
    "\n",
    "    def forward(self, x, average_cls_token=False):\n",
    "        batch, ch, h, w = img.size()\n",
    "\n",
    "        x = self.to_patch_embedding(img)\n",
    "        x = x.permute(1, 0, 2)\n",
    "\n",
    "        pe_column = self.img_pe_col.repeat(self.n_w_patch, batch, 1)\n",
    "        pe_row = self.img_pe_row.repeat_interleave(self.n_h_patch, dim=0).repeat(1, batch, 1)\n",
    "        x = x + pe_column + pe_row\n",
    "\n",
    "        cls_tokens = self.cls_token.expand(-1, batch, -1)\n",
    "\n",
    "        full_x = torch.cat([cls_tokens, x], dim=0)\n",
    "        for i, block in enumerate(self.tr_encoder_blocks):\n",
    "            full_x = block(full_x)\n",
    "\n",
    "        if average_cls_token:\n",
    "            cls_out_token = full_x.mean(dim=0)\n",
    "        else:\n",
    "            cls_out_token = full_x[0, :, :]\n",
    "\n",
    "        return cls_out_token"
   ]
  },
  {
   "cell_type": "code",
   "execution_count": 4,
   "id": "69d16fc0",
   "metadata": {},
   "outputs": [],
   "source": [
    "class TxtEncoder(nn.Module):\n",
    "    def __init__(self,\n",
    "                 txt_max_length,\n",
    "                 txt_vocab_size,\n",
    "                 embed_dim,\n",
    "                 num_blocks,\n",
    "                 hidden_dim,\n",
    "                 n_attn_heads,\n",
    "                 dropout_prob,\n",
    "                 device=torch.device('cpu')):\n",
    "        super(TxtEncoder, self).__init__()\n",
    "        self.device = device\n",
    "        \n",
    "        self.cls_token = nn.Parameter(torch.randn(1, 1, embed_dim))\n",
    "\n",
    "        self.txt_pe = nn.Parameter(torch.randn(txt_max_length, 1, embed_dim))\n",
    "\n",
    "        self.txt_embedding = nn.Sequential(\n",
    "            nn.Embedding(num_embeddings=txt_vocab_size, embedding_dim=embed_dim)\n",
    "        )\n",
    "        \n",
    "        self.tr_encoder_blocks = nn.ModuleList([\n",
    "            TrEncoderBlock(n_features=embed_dim,\n",
    "                           n_attn_heads=n_attn_heads,\n",
    "                           n_hidden=hidden_dim,\n",
    "                           dropout_prob=dropout_prob,\n",
    "                           norm_first=True)\n",
    "            for _ in range(num_blocks)\n",
    "        ])\n",
    "        \n",
    "        self.to(self.device)\n",
    "\n",
    "    def forward(self, x, average_cls_token=False):\n",
    "        seq_len, batch = x.size()\n",
    "\n",
    "        t = self.txt_embedding(x)\n",
    "        t = t + self.txt_pe.repeat(1, batch, 1)\n",
    "\n",
    "        cls_tokens = self.cls_token.expand(-1, batch, -1)\n",
    "\n",
    "        full_x = torch.cat([cls_tokens, t], dim=0)\n",
    "        for i, block in enumerate(self.tr_encoder_blocks):\n",
    "            full_x = block(full_x)\n",
    "\n",
    "        if average_cls_token:\n",
    "            cls_out_token = full_x.mean(dim=0)\n",
    "        else:\n",
    "            cls_out_token = full_x[0, :, :]\n",
    "\n",
    "        return cls_out_token"
   ]
  },
  {
   "cell_type": "code",
   "execution_count": 5,
   "id": "bf588226",
   "metadata": {},
   "outputs": [],
   "source": [
    "class Matcher(nn.Module):\n",
    "    def __init__(self,\n",
    "                 img_height,\n",
    "                 img_width,\n",
    "                 img_channels,\n",
    "                 patch_height,\n",
    "                 patch_width,\n",
    "                 txt_max_length,\n",
    "                 txt_vocab_size,\n",
    "                 embed_dim,\n",
    "                 num_blocks,\n",
    "                 hidden_dim,\n",
    "                 n_attn_heads,\n",
    "                 dropout_prob,\n",
    "                 device=torch.device('cpu')):\n",
    "        super(Matcher, self).__init__()\n",
    "        self.device = device\n",
    "        \n",
    "        self.img_model = ImgEncoder(\n",
    "            img_height=img_height,\n",
    "            img_width=img_width,\n",
    "            img_channels=img_channels,\n",
    "            patch_height=patch_height,\n",
    "            patch_width=patch_width,\n",
    "            embed_dim=embed_dim,\n",
    "            num_blocks=num_blocks,\n",
    "            hidden_dim=hidden_dim,\n",
    "            n_attn_heads=n_attn_heads,\n",
    "            dropout_prob=dropout_prob,\n",
    "            device=device\n",
    "        )\n",
    "        \n",
    "        self.txt_model = TxtEncoder(\n",
    "            txt_max_length=txt_max_length,\n",
    "            txt_vocab_size=txt_vocab_size,\n",
    "            embed_dim=embed_dim,\n",
    "            num_blocks=num_blocks,\n",
    "            hidden_dim=hidden_dim,\n",
    "            n_attn_heads=n_attn_heads,\n",
    "            dropout_prob=dropout_prob,\n",
    "            device=device\n",
    "        )\n",
    "        \n",
    "        self.mlp_img = nn.Sequential(\n",
    "            nn.Linear(embed_dim, embed_dim//2),\n",
    "            nn.Dropout(dropout_prob),\n",
    "            nn.GELU(),\n",
    "            nn.Linear(embed_dim//2, embed_dim//2),\n",
    "            nn.GELU()\n",
    "        )\n",
    "        \n",
    "        self.mlp_txt = nn.Sequential(\n",
    "            nn.Linear(embed_dim, embed_dim//2),\n",
    "            nn.Dropout(dropout_prob),\n",
    "            nn.GELU(),\n",
    "            nn.Linear(embed_dim//2, embed_dim//2),\n",
    "            nn.GELU()\n",
    "        )\n",
    "        \n",
    "        self.mlp_out = nn.Sequential(\n",
    "            nn.Linear(embed_dim, embed_dim//2),\n",
    "            nn.GELU(),\n",
    "            nn.Linear(embed_dim//2, embed_dim//4),\n",
    "            nn.GELU(),\n",
    "            nn.Linear(embed_dim//4, 1),\n",
    "            nn.Sigmoid()\n",
    "        )\n",
    "        \n",
    "        self.to(self.device)\n",
    "    \n",
    "    def forward(self, img, txt):\n",
    "        img_token = self.img_model(img)\n",
    "        txt_token = self.txt_model(txt)\n",
    "        \n",
    "        img_s = self.mlp_img(img_token)\n",
    "        txt_s = self.mlp_txt(txt_token)\n",
    "        \n",
    "        joint_s = torch.cat([img_s, txt_s], dim=1)\n",
    "        out = self.mlp_out(joint_s)\n",
    "\n",
    "        return out.squeeze()"
   ]
  },
  {
   "cell_type": "code",
   "execution_count": null,
   "id": "2955377f",
   "metadata": {},
   "outputs": [],
   "source": []
  },
  {
   "cell_type": "code",
   "execution_count": null,
   "id": "4899d96b",
   "metadata": {},
   "outputs": [],
   "source": []
  },
  {
   "cell_type": "code",
   "execution_count": null,
   "id": "f137398c",
   "metadata": {},
   "outputs": [],
   "source": []
  },
  {
   "cell_type": "code",
   "execution_count": null,
   "id": "7b1fefcb",
   "metadata": {},
   "outputs": [],
   "source": []
  },
  {
   "cell_type": "code",
   "execution_count": null,
   "id": "85a7dad8",
   "metadata": {},
   "outputs": [],
   "source": []
  },
  {
   "cell_type": "code",
   "execution_count": 6,
   "id": "a9e1ccc3",
   "metadata": {},
   "outputs": [],
   "source": [
    "data_source = MNISTData(\n",
    "    img_type='md',\n",
    "    root_path='/u/82/sukhoba1/unix/Desktop/TA-VQVAE/data/multi_descriptive_MNIST/',\n",
    "    batch_size=8)\n",
    "\n",
    "train_loader = data_source.get_train_loader(8)"
   ]
  },
  {
   "cell_type": "code",
   "execution_count": 7,
   "id": "335cbf01",
   "metadata": {},
   "outputs": [],
   "source": [
    "DEVICE = torch.device(\"cuda\" if torch.cuda.is_available() else \"cpu\")"
   ]
  },
  {
   "cell_type": "code",
   "execution_count": 8,
   "id": "867bfad2",
   "metadata": {},
   "outputs": [],
   "source": [
    "model = Matcher(\n",
    "    img_height=128,\n",
    "    img_width=128,\n",
    "    img_channels=3,\n",
    "    patch_height=8,\n",
    "    patch_width=8,\n",
    "    txt_max_length=12,\n",
    "    txt_vocab_size=20,\n",
    "    embed_dim=128,\n",
    "    num_blocks=8,\n",
    "    hidden_dim=256,\n",
    "    n_attn_heads=8,\n",
    "    dropout_prob=0.1,\n",
    "    device=DEVICE\n",
    ")\n",
    "\n",
    "optimizer = optim.Adam(model.parameters(), lr=0.001)"
   ]
  },
  {
   "cell_type": "code",
   "execution_count": 9,
   "id": "c7066f29",
   "metadata": {
    "scrolled": true
   },
   "outputs": [
    {
     "name": "stdout",
     "output_type": "stream",
     "text": [
      "Epoch: 0 Iter: 0 Loss: 0.69498\n",
      "Epoch: 0 Iter: 50 Loss: 0.38447\n",
      "Epoch: 0 Iter: 100 Loss: 0.38074\n",
      "Epoch: 0 Iter: 150 Loss: 0.37544\n",
      "Epoch: 0 Iter: 200 Loss: 0.38284\n",
      "Epoch: 0 Iter: 250 Loss: 0.38363\n",
      "Epoch: 0 Iter: 300 Loss: 0.37192\n",
      "Epoch: 0 Iter: 350 Loss: 0.38022\n"
     ]
    },
    {
     "ename": "KeyboardInterrupt",
     "evalue": "",
     "output_type": "error",
     "traceback": [
      "\u001b[0;31m---------------------------------------------------------------------------\u001b[0m",
      "\u001b[0;31mKeyboardInterrupt\u001b[0m                         Traceback (most recent call last)",
      "\u001b[0;32m<ipython-input-9-fbd1d8aac701>\u001b[0m in \u001b[0;36m<module>\u001b[0;34m\u001b[0m\n\u001b[1;32m     20\u001b[0m             \u001b[0mprint\u001b[0m\u001b[0;34m(\u001b[0m\u001b[0;34m\"Epoch: {} Iter: {} Loss: {}\"\u001b[0m\u001b[0;34m.\u001b[0m\u001b[0mformat\u001b[0m\u001b[0;34m(\u001b[0m\u001b[0mepoch\u001b[0m\u001b[0;34m,\u001b[0m \u001b[0miteration\u001b[0m\u001b[0;34m,\u001b[0m \u001b[0mround\u001b[0m\u001b[0;34m(\u001b[0m\u001b[0mloss\u001b[0m\u001b[0;34m.\u001b[0m\u001b[0mitem\u001b[0m\u001b[0;34m(\u001b[0m\u001b[0;34m)\u001b[0m\u001b[0;34m,\u001b[0m \u001b[0;36m5\u001b[0m\u001b[0;34m)\u001b[0m\u001b[0;34m)\u001b[0m\u001b[0;34m)\u001b[0m\u001b[0;34m\u001b[0m\u001b[0;34m\u001b[0m\u001b[0m\n\u001b[1;32m     21\u001b[0m \u001b[0;34m\u001b[0m\u001b[0m\n\u001b[0;32m---> 22\u001b[0;31m         \u001b[0moptimizer\u001b[0m\u001b[0;34m.\u001b[0m\u001b[0mstep\u001b[0m\u001b[0;34m(\u001b[0m\u001b[0;34m)\u001b[0m\u001b[0;34m\u001b[0m\u001b[0;34m\u001b[0m\u001b[0m\n\u001b[0m\u001b[1;32m     23\u001b[0m         \u001b[0moptimizer\u001b[0m\u001b[0;34m.\u001b[0m\u001b[0mzero_grad\u001b[0m\u001b[0;34m(\u001b[0m\u001b[0;34m)\u001b[0m\u001b[0;34m\u001b[0m\u001b[0;34m\u001b[0m\u001b[0m\n\u001b[1;32m     24\u001b[0m \u001b[0;34m\u001b[0m\u001b[0m\n",
      "\u001b[0;32m~/anaconda3/envs/tavqvae/lib/python3.8/site-packages/torch/autograd/grad_mode.py\u001b[0m in \u001b[0;36mdecorate_context\u001b[0;34m(*args, **kwargs)\u001b[0m\n\u001b[1;32m     24\u001b[0m         \u001b[0;32mdef\u001b[0m \u001b[0mdecorate_context\u001b[0m\u001b[0;34m(\u001b[0m\u001b[0;34m*\u001b[0m\u001b[0margs\u001b[0m\u001b[0;34m,\u001b[0m \u001b[0;34m**\u001b[0m\u001b[0mkwargs\u001b[0m\u001b[0;34m)\u001b[0m\u001b[0;34m:\u001b[0m\u001b[0;34m\u001b[0m\u001b[0;34m\u001b[0m\u001b[0m\n\u001b[1;32m     25\u001b[0m             \u001b[0;32mwith\u001b[0m \u001b[0mself\u001b[0m\u001b[0;34m.\u001b[0m\u001b[0m__class__\u001b[0m\u001b[0;34m(\u001b[0m\u001b[0;34m)\u001b[0m\u001b[0;34m:\u001b[0m\u001b[0;34m\u001b[0m\u001b[0;34m\u001b[0m\u001b[0m\n\u001b[0;32m---> 26\u001b[0;31m                 \u001b[0;32mreturn\u001b[0m \u001b[0mfunc\u001b[0m\u001b[0;34m(\u001b[0m\u001b[0;34m*\u001b[0m\u001b[0margs\u001b[0m\u001b[0;34m,\u001b[0m \u001b[0;34m**\u001b[0m\u001b[0mkwargs\u001b[0m\u001b[0;34m)\u001b[0m\u001b[0;34m\u001b[0m\u001b[0;34m\u001b[0m\u001b[0m\n\u001b[0m\u001b[1;32m     27\u001b[0m         \u001b[0;32mreturn\u001b[0m \u001b[0mcast\u001b[0m\u001b[0;34m(\u001b[0m\u001b[0mF\u001b[0m\u001b[0;34m,\u001b[0m \u001b[0mdecorate_context\u001b[0m\u001b[0;34m)\u001b[0m\u001b[0;34m\u001b[0m\u001b[0;34m\u001b[0m\u001b[0m\n\u001b[1;32m     28\u001b[0m \u001b[0;34m\u001b[0m\u001b[0m\n",
      "\u001b[0;32m~/anaconda3/envs/tavqvae/lib/python3.8/site-packages/torch/optim/adam.py\u001b[0m in \u001b[0;36mstep\u001b[0;34m(self, closure)\u001b[0m\n\u001b[1;32m    106\u001b[0m \u001b[0;34m\u001b[0m\u001b[0m\n\u001b[1;32m    107\u001b[0m             \u001b[0mbeta1\u001b[0m\u001b[0;34m,\u001b[0m \u001b[0mbeta2\u001b[0m \u001b[0;34m=\u001b[0m \u001b[0mgroup\u001b[0m\u001b[0;34m[\u001b[0m\u001b[0;34m'betas'\u001b[0m\u001b[0;34m]\u001b[0m\u001b[0;34m\u001b[0m\u001b[0;34m\u001b[0m\u001b[0m\n\u001b[0;32m--> 108\u001b[0;31m             F.adam(params_with_grad,\n\u001b[0m\u001b[1;32m    109\u001b[0m                    \u001b[0mgrads\u001b[0m\u001b[0;34m,\u001b[0m\u001b[0;34m\u001b[0m\u001b[0;34m\u001b[0m\u001b[0m\n\u001b[1;32m    110\u001b[0m                    \u001b[0mexp_avgs\u001b[0m\u001b[0;34m,\u001b[0m\u001b[0;34m\u001b[0m\u001b[0;34m\u001b[0m\u001b[0m\n",
      "\u001b[0;32m~/anaconda3/envs/tavqvae/lib/python3.8/site-packages/torch/optim/functional.py\u001b[0m in \u001b[0;36madam\u001b[0;34m(params, grads, exp_avgs, exp_avg_sqs, max_exp_avg_sqs, state_steps, amsgrad, beta1, beta2, lr, weight_decay, eps)\u001b[0m\n\u001b[1;32m     92\u001b[0m             \u001b[0mdenom\u001b[0m \u001b[0;34m=\u001b[0m \u001b[0;34m(\u001b[0m\u001b[0mmax_exp_avg_sq\u001b[0m\u001b[0;34m.\u001b[0m\u001b[0msqrt\u001b[0m\u001b[0;34m(\u001b[0m\u001b[0;34m)\u001b[0m \u001b[0;34m/\u001b[0m \u001b[0mmath\u001b[0m\u001b[0;34m.\u001b[0m\u001b[0msqrt\u001b[0m\u001b[0;34m(\u001b[0m\u001b[0mbias_correction2\u001b[0m\u001b[0;34m)\u001b[0m\u001b[0;34m)\u001b[0m\u001b[0;34m.\u001b[0m\u001b[0madd_\u001b[0m\u001b[0;34m(\u001b[0m\u001b[0meps\u001b[0m\u001b[0;34m)\u001b[0m\u001b[0;34m\u001b[0m\u001b[0;34m\u001b[0m\u001b[0m\n\u001b[1;32m     93\u001b[0m         \u001b[0;32melse\u001b[0m\u001b[0;34m:\u001b[0m\u001b[0;34m\u001b[0m\u001b[0;34m\u001b[0m\u001b[0m\n\u001b[0;32m---> 94\u001b[0;31m             \u001b[0mdenom\u001b[0m \u001b[0;34m=\u001b[0m \u001b[0;34m(\u001b[0m\u001b[0mexp_avg_sq\u001b[0m\u001b[0;34m.\u001b[0m\u001b[0msqrt\u001b[0m\u001b[0;34m(\u001b[0m\u001b[0;34m)\u001b[0m \u001b[0;34m/\u001b[0m \u001b[0mmath\u001b[0m\u001b[0;34m.\u001b[0m\u001b[0msqrt\u001b[0m\u001b[0;34m(\u001b[0m\u001b[0mbias_correction2\u001b[0m\u001b[0;34m)\u001b[0m\u001b[0;34m)\u001b[0m\u001b[0;34m.\u001b[0m\u001b[0madd_\u001b[0m\u001b[0;34m(\u001b[0m\u001b[0meps\u001b[0m\u001b[0;34m)\u001b[0m\u001b[0;34m\u001b[0m\u001b[0;34m\u001b[0m\u001b[0m\n\u001b[0m\u001b[1;32m     95\u001b[0m \u001b[0;34m\u001b[0m\u001b[0m\n\u001b[1;32m     96\u001b[0m         \u001b[0mstep_size\u001b[0m \u001b[0;34m=\u001b[0m \u001b[0mlr\u001b[0m \u001b[0;34m/\u001b[0m \u001b[0mbias_correction1\u001b[0m\u001b[0;34m\u001b[0m\u001b[0;34m\u001b[0m\u001b[0m\n",
      "\u001b[0;31mKeyboardInterrupt\u001b[0m: "
     ]
    }
   ],
   "source": [
    "iteration = 0\n",
    "for epoch in range(100):\n",
    "    for batch_index, (img, txt) in enumerate(train_loader):\n",
    "        current_batch_size = img.size(0)\n",
    "\n",
    "        img = img.repeat_interleave(current_batch_size, dim=0)\n",
    "        txt = txt.repeat(current_batch_size, 1)\n",
    "        match_labels = torch.eye(current_batch_size).flatten()\n",
    "\n",
    "        img = img.to(DEVICE)\n",
    "        txt = txt.permute(1, 0).to(DEVICE)\n",
    "        match_labels = match_labels.to(DEVICE)\n",
    "        \n",
    "        pred_labels = model(img, txt)\n",
    "\n",
    "        loss = F.binary_cross_entropy(pred_labels, match_labels)\n",
    "        loss.backward()\n",
    "        \n",
    "        if iteration % 50 == 0:\n",
    "            print(\"Epoch: {} Iter: {} Loss: {}\".format(epoch, iteration, round(loss.item(), 5)))\n",
    "\n",
    "        optimizer.step()\n",
    "        optimizer.zero_grad()\n",
    "        \n",
    "        iteration += 1"
   ]
  },
  {
   "cell_type": "code",
   "execution_count": null,
   "id": "770140a6",
   "metadata": {},
   "outputs": [],
   "source": []
  },
  {
   "cell_type": "code",
   "execution_count": null,
   "id": "6142cb3b",
   "metadata": {},
   "outputs": [],
   "source": []
  },
  {
   "cell_type": "code",
   "execution_count": null,
   "id": "6d4a338e",
   "metadata": {},
   "outputs": [],
   "source": []
  },
  {
   "cell_type": "code",
   "execution_count": null,
   "id": "df73630a",
   "metadata": {},
   "outputs": [],
   "source": []
  },
  {
   "cell_type": "code",
   "execution_count": null,
   "id": "64ae1826",
   "metadata": {},
   "outputs": [],
   "source": []
  },
  {
   "cell_type": "code",
   "execution_count": null,
   "id": "08bb3969",
   "metadata": {},
   "outputs": [],
   "source": []
  },
  {
   "cell_type": "code",
   "execution_count": null,
   "id": "7ef18d5d",
   "metadata": {},
   "outputs": [],
   "source": []
  },
  {
   "cell_type": "code",
   "execution_count": null,
   "id": "381f59eb",
   "metadata": {},
   "outputs": [],
   "source": []
  },
  {
   "cell_type": "code",
   "execution_count": null,
   "id": "7a4572d5",
   "metadata": {},
   "outputs": [],
   "source": []
  },
  {
   "cell_type": "code",
   "execution_count": null,
   "id": "4485dd77",
   "metadata": {},
   "outputs": [],
   "source": []
  },
  {
   "cell_type": "code",
   "execution_count": 27,
   "id": "b339a1b5",
   "metadata": {},
   "outputs": [],
   "source": [
    "data_source = MNISTData(\n",
    "    img_type='md',\n",
    "    root_path='/u/82/sukhoba1/unix/Desktop/TA-VQVAE/data/multi_descriptive_MNIST/',\n",
    "    batch_size=8)\n",
    "\n",
    "train_loader = data_source.get_train_loader(3)"
   ]
  },
  {
   "cell_type": "code",
   "execution_count": 28,
   "id": "99801dd5",
   "metadata": {},
   "outputs": [],
   "source": [
    "img, txt = next(iter(train_loader))\n",
    "\n",
    "img = img.to(DEVICE)\n",
    "txt = txt.to(DEVICE)"
   ]
  },
  {
   "cell_type": "code",
   "execution_count": 29,
   "id": "2508ba9d",
   "metadata": {},
   "outputs": [],
   "source": [
    "current_batch_size = 3\n",
    "\n",
    "img = img.repeat_interleave(current_batch_size, dim=0)\n",
    "txt = txt.repeat(current_batch_size, 1)\n",
    "match_labels = torch.eye(current_batch_size).flatten()"
   ]
  },
  {
   "cell_type": "code",
   "execution_count": 30,
   "id": "be9a890e",
   "metadata": {},
   "outputs": [
    {
     "data": {
      "image/png": "[encoded data removed]",
      "text/plain": [
       "<Figure size 1008x1008 with 1 Axes>"
      ]
     },
     "metadata": {
      "needs_background": "light"
     },
     "output_type": "display_data"
    }
   ],
   "source": [
    "show(img, plot_grid=True, figsize=(14,14))"
   ]
  },
  {
   "cell_type": "code",
   "execution_count": 31,
   "id": "a4238fd8",
   "metadata": {},
   "outputs": [
    {
     "data": {
      "text/plain": [
       "tensor([[ 0, 10, 14, 18,  9, 11, 15, 18,  2, 10, 15, 18],\n",
       "        [ 8, 12, 14, 19,  2, 12, 16, 17,  5, 11, 16, 17],\n",
       "        [ 5, 10, 16, 19,  0, 10, 16, 18,  0, 10, 15, 18],\n",
       "        [ 0, 10, 14, 18,  9, 11, 15, 18,  2, 10, 15, 18],\n",
       "        [ 8, 12, 14, 19,  2, 12, 16, 17,  5, 11, 16, 17],\n",
       "        [ 5, 10, 16, 19,  0, 10, 16, 18,  0, 10, 15, 18],\n",
       "        [ 0, 10, 14, 18,  9, 11, 15, 18,  2, 10, 15, 18],\n",
       "        [ 8, 12, 14, 19,  2, 12, 16, 17,  5, 11, 16, 17],\n",
       "        [ 5, 10, 16, 19,  0, 10, 16, 18,  0, 10, 15, 18]], device='cuda:0')"
      ]
     },
     "execution_count": 31,
     "metadata": {},
     "output_type": "execute_result"
    }
   ],
   "source": [
    "txt"
   ]
  },
  {
   "cell_type": "code",
   "execution_count": 32,
   "id": "63439a95",
   "metadata": {},
   "outputs": [
    {
     "data": {
      "text/plain": [
       "tensor([1., 0., 0., 0., 1., 0., 0., 0., 1.])"
      ]
     },
     "execution_count": 32,
     "metadata": {},
     "output_type": "execute_result"
    }
   ],
   "source": [
    "match_labels"
   ]
  },
  {
   "cell_type": "code",
   "execution_count": null,
   "id": "dbceb606",
   "metadata": {},
   "outputs": [],
   "source": []
  },
  {
   "cell_type": "code",
   "execution_count": null,
   "id": "d27f4a9d",
   "metadata": {},
   "outputs": [],
   "source": []
  },
  {
   "cell_type": "code",
   "execution_count": null,
   "id": "df6df4f0",
   "metadata": {},
   "outputs": [],
   "source": []
  },
  {
   "cell_type": "code",
   "execution_count": 35,
   "id": "6ed2903b",
   "metadata": {},
   "outputs": [],
   "source": [
    "img_model = ImgEncoder(\n",
    "    img_height=128,\n",
    "    img_width=128,\n",
    "    img_channels=3,\n",
    "    patch_height=8,\n",
    "    patch_width=8,\n",
    "    embed_dim=128,\n",
    "    num_blocks=8,\n",
    "    hidden_dim=256,\n",
    "    n_attn_heads=8,\n",
    "    dropout_prob=0.1,\n",
    "    device=DEVICE\n",
    ")\n",
    "\n",
    "txt_model = TxtEncoder(\n",
    "    txt_max_length=12,\n",
    "    txt_vocab_size=20,\n",
    "    embed_dim=128,\n",
    "    num_blocks=8,\n",
    "    hidden_dim=256,\n",
    "    n_attn_heads=8,\n",
    "    dropout_prob=0.1,\n",
    "    device=DEVICE\n",
    ")"
   ]
  },
  {
   "cell_type": "code",
   "execution_count": 41,
   "id": "c08d0a3b",
   "metadata": {},
   "outputs": [
    {
     "data": {
      "text/plain": [
       "torch.Size([8, 128])"
      ]
     },
     "execution_count": 41,
     "metadata": {},
     "output_type": "execute_result"
    }
   ],
   "source": [
    "img_model(img).shape"
   ]
  },
  {
   "cell_type": "code",
   "execution_count": 39,
   "id": "6698c119",
   "metadata": {},
   "outputs": [
    {
     "data": {
      "text/plain": [
       "tensor([[ 0.3881, -1.0857,  0.2033,  ...,  1.0149,  1.0558,  1.0110],\n",
       "        [-0.5260, -0.2432,  0.6382,  ...,  0.3559,  1.2508,  0.7759],\n",
       "        [ 0.2997, -0.8272,  0.0409,  ...,  0.8161,  1.3374,  0.7293],\n",
       "        ...,\n",
       "        [ 0.6744, -0.6060,  0.6411,  ...,  1.3241,  1.5751,  0.9542],\n",
       "        [ 0.4245, -0.6248,  0.3086,  ...,  1.0675,  1.0850,  0.3590],\n",
       "        [ 0.3884, -0.1375,  0.1650,  ...,  1.4206,  0.3953,  0.5591]],\n",
       "       device='cuda:0', grad_fn=<SliceBackward>)"
      ]
     },
     "execution_count": 39,
     "metadata": {},
     "output_type": "execute_result"
    }
   ],
   "source": [
    "txt_model(txt).shape"
   ]
  },
  {
   "cell_type": "code",
   "execution_count": null,
   "id": "d55c6693",
   "metadata": {},
   "outputs": [],
   "source": []
  },
  {
   "cell_type": "code",
   "execution_count": null,
   "id": "12943a39",
   "metadata": {},
   "outputs": [],
   "source": []
  },
  {
   "cell_type": "code",
   "execution_count": null,
   "id": "47ab7210",
   "metadata": {},
   "outputs": [],
   "source": []
  },
  {
   "cell_type": "code",
   "execution_count": null,
   "id": "36dd202b",
   "metadata": {},
   "outputs": [],
   "source": []
  },
  {
   "cell_type": "code",
   "execution_count": null,
   "id": "a067401a",
   "metadata": {},
   "outputs": [],
   "source": []
  },
  {
   "cell_type": "code",
   "execution_count": 2,
   "id": "13ab1094",
   "metadata": {},
   "outputs": [
    {
     "name": "stdout",
     "output_type": "stream",
     "text": [
      "BATCH_SIZE                              128                                     \n",
      "DEVICE                                  cuda                                    \n",
      "LR                                      0.01                                    \n",
      "LR_gamma                                0.1                                     \n",
      "NUM_EPOCHS                              100                                     \n",
      "config_path                             /u/82/sukhoba1/unix/Desktop/TA-VQVAE/configs/matcher_mnistmd_v256_ds3.yaml\n",
      "dataset                                 mnist                                   \n",
      "dataset_type                            md                                      \n",
      "hidden_dim                              256                                     \n",
      "in_channels                             3                                       \n",
      "num_resids_bottleneck                   4                                       \n",
      "num_resids_downsample                   4                                       \n",
      "num_x2downsamples                       3                                       \n",
      "root_path                               /u/82/sukhoba1/unix/Desktop/TA-VQVAE/data/multi_descriptive_MNIST/\n",
      "save_model_name                         matcher                                 \n",
      "save_model_path                         /u/82/sukhoba1/unix/Desktop/TA-VQVAE/models/mnist_md/matcher_v256_ds3/\n",
      "step_LR_milestones                      [5, 20]                                 \n",
      "vae_model_name                          dvae                                    \n",
      "vae_model_path                          /u/82/sukhoba1/unix/Desktop/TA-VQVAE/models/mnist_md/dvae_v256_ds3/\n",
      "vocab_size                              256                                     \n"
     ]
    }
   ],
   "source": [
    "config_dir_path = '/u/82/sukhoba1/unix/Desktop/TA-VQVAE/configs/'\n",
    "config_path = config_dir_path + 'matcher_mnistmd_v256_ds3.yaml'\n",
    "CONFIG = ConfigReader(config_path=config_path)\n",
    "\n",
    "CONFIG.BATCH_SIZE = 128\n",
    "\n",
    "CONFIG.print_config_info()"
   ]
  },
  {
   "cell_type": "code",
   "execution_count": 3,
   "id": "3dacaaee",
   "metadata": {},
   "outputs": [],
   "source": [
    "data_source = MNISTData(\n",
    "    img_type=CONFIG.dataset_type,\n",
    "    root_path=CONFIG.root_path,\n",
    "    batch_size=CONFIG.BATCH_SIZE)\n",
    "\n",
    "train_loader = data_source.get_train_loader(8)"
   ]
  },
  {
   "cell_type": "code",
   "execution_count": 4,
   "id": "1c953d29",
   "metadata": {},
   "outputs": [],
   "source": [
    "# dvae = DVAE(\n",
    "#     in_channels=CONFIG.in_channels,\n",
    "#     vocab_size=CONFIG.vocab_size,\n",
    "#     num_x2downsamples=CONFIG.num_x2downsamples,\n",
    "#     num_resids_downsample=CONFIG.num_resids_downsample,\n",
    "#     num_resids_bottleneck=CONFIG.num_resids_bottleneck,\n",
    "#     hidden_dim=CONFIG.hidden_dim,\n",
    "#     device=CONFIG.DEVICE)\n",
    "\n",
    "# dvae.eval()\n",
    "# dvae.load_model(\n",
    "#     root_path=CONFIG.vae_model_path,\n",
    "#     model_name=CONFIG.vae_model_name)"
   ]
  },
  {
   "cell_type": "code",
   "execution_count": 5,
   "id": "00bfdeac",
   "metadata": {},
   "outputs": [],
   "source": [
    "model = TrMatcher(\n",
    "    img_height=128,\n",
    "    img_width=128,\n",
    "    img_channels=3,\n",
    "    patch_height=8,\n",
    "    patch_width=8,\n",
    "    txt_max_length=12,\n",
    "    txt_vocab_size=20,\n",
    "    embed_dim=128,\n",
    "    num_blocks=8,\n",
    "    hidden_dim=256,\n",
    "    n_attn_heads=8,\n",
    "    dropout_prob=0.1,\n",
    "    tr_norm_first=False,\n",
    "    out_dim=1,\n",
    "    sigmoid_output=True)\n",
    "\n",
    "# model = TrMatcher(\n",
    "#     img_height=16,\n",
    "#     img_width=16,\n",
    "#     img_embed_dim=CONFIG.vocab_size,\n",
    "#     txt_max_length=12,\n",
    "#     txt_vocab_size=20,\n",
    "#     embed_dim=64,\n",
    "#     num_blocks=8,\n",
    "#     hidden_dim=256,\n",
    "#     n_attn_heads=4,\n",
    "#     dropout_prob=0.1,\n",
    "#     out_dim=1,\n",
    "#     sigmoid_output=True)\n",
    "\n",
    "model.to(CONFIG.DEVICE)\n",
    "\n",
    "optimizer = optim.Adam(model.parameters(), lr=CONFIG.LR)"
   ]
  },
  {
   "cell_type": "code",
   "execution_count": 6,
   "id": "6723ac00",
   "metadata": {
    "scrolled": true
   },
   "outputs": [
    {
     "name": "stdout",
     "output_type": "stream",
     "text": [
      "Epoch: 0 Iter: 0 Loss: 0.55112\n",
      "Epoch: 0 Iter: 50 Loss: 0.37697\n",
      "Epoch: 0 Iter: 100 Loss: 0.37996\n",
      "Epoch: 0 Iter: 150 Loss: 0.37644\n",
      "Epoch: 0 Iter: 200 Loss: 0.38036\n",
      "Epoch: 0 Iter: 250 Loss: 0.376\n",
      "Epoch: 0 Iter: 300 Loss: 0.37223\n",
      "Epoch: 0 Iter: 350 Loss: 0.37597\n",
      "Epoch: 0 Iter: 400 Loss: 0.37903\n",
      "Epoch: 0 Iter: 450 Loss: 0.38303\n",
      "Epoch: 0 Iter: 500 Loss: 0.37737\n",
      "Epoch: 0 Iter: 550 Loss: 0.37429\n",
      "Epoch: 0 Iter: 600 Loss: 0.37636\n"
     ]
    },
    {
     "ename": "KeyboardInterrupt",
     "evalue": "",
     "output_type": "error",
     "traceback": [
      "\u001b[0;31m---------------------------------------------------------------------------\u001b[0m",
      "\u001b[0;31mKeyboardInterrupt\u001b[0m                         Traceback (most recent call last)",
      "\u001b[0;32m<ipython-input-6-a190c4e7a5c4>\u001b[0m in \u001b[0;36m<module>\u001b[0;34m\u001b[0m\n\u001b[1;32m     25\u001b[0m             \u001b[0mprint\u001b[0m\u001b[0;34m(\u001b[0m\u001b[0;34m\"Epoch: {} Iter: {} Loss: {}\"\u001b[0m\u001b[0;34m.\u001b[0m\u001b[0mformat\u001b[0m\u001b[0;34m(\u001b[0m\u001b[0mepoch\u001b[0m\u001b[0;34m,\u001b[0m \u001b[0miteration\u001b[0m\u001b[0;34m,\u001b[0m \u001b[0mround\u001b[0m\u001b[0;34m(\u001b[0m\u001b[0mloss\u001b[0m\u001b[0;34m.\u001b[0m\u001b[0mitem\u001b[0m\u001b[0;34m(\u001b[0m\u001b[0;34m)\u001b[0m\u001b[0;34m,\u001b[0m \u001b[0;36m5\u001b[0m\u001b[0;34m)\u001b[0m\u001b[0;34m)\u001b[0m\u001b[0;34m)\u001b[0m\u001b[0;34m\u001b[0m\u001b[0;34m\u001b[0m\u001b[0m\n\u001b[1;32m     26\u001b[0m \u001b[0;34m\u001b[0m\u001b[0m\n\u001b[0;32m---> 27\u001b[0;31m         \u001b[0moptimizer\u001b[0m\u001b[0;34m.\u001b[0m\u001b[0mstep\u001b[0m\u001b[0;34m(\u001b[0m\u001b[0;34m)\u001b[0m\u001b[0;34m\u001b[0m\u001b[0;34m\u001b[0m\u001b[0m\n\u001b[0m\u001b[1;32m     28\u001b[0m         \u001b[0moptimizer\u001b[0m\u001b[0;34m.\u001b[0m\u001b[0mzero_grad\u001b[0m\u001b[0;34m(\u001b[0m\u001b[0;34m)\u001b[0m\u001b[0;34m\u001b[0m\u001b[0;34m\u001b[0m\u001b[0m\n\u001b[1;32m     29\u001b[0m \u001b[0;34m\u001b[0m\u001b[0m\n",
      "\u001b[0;32m~/anaconda3/envs/tavqvae/lib/python3.8/site-packages/torch/autograd/grad_mode.py\u001b[0m in \u001b[0;36mdecorate_context\u001b[0;34m(*args, **kwargs)\u001b[0m\n\u001b[1;32m     24\u001b[0m         \u001b[0;32mdef\u001b[0m \u001b[0mdecorate_context\u001b[0m\u001b[0;34m(\u001b[0m\u001b[0;34m*\u001b[0m\u001b[0margs\u001b[0m\u001b[0;34m,\u001b[0m \u001b[0;34m**\u001b[0m\u001b[0mkwargs\u001b[0m\u001b[0;34m)\u001b[0m\u001b[0;34m:\u001b[0m\u001b[0;34m\u001b[0m\u001b[0;34m\u001b[0m\u001b[0m\n\u001b[1;32m     25\u001b[0m             \u001b[0;32mwith\u001b[0m \u001b[0mself\u001b[0m\u001b[0;34m.\u001b[0m\u001b[0m__class__\u001b[0m\u001b[0;34m(\u001b[0m\u001b[0;34m)\u001b[0m\u001b[0;34m:\u001b[0m\u001b[0;34m\u001b[0m\u001b[0;34m\u001b[0m\u001b[0m\n\u001b[0;32m---> 26\u001b[0;31m                 \u001b[0;32mreturn\u001b[0m \u001b[0mfunc\u001b[0m\u001b[0;34m(\u001b[0m\u001b[0;34m*\u001b[0m\u001b[0margs\u001b[0m\u001b[0;34m,\u001b[0m \u001b[0;34m**\u001b[0m\u001b[0mkwargs\u001b[0m\u001b[0;34m)\u001b[0m\u001b[0;34m\u001b[0m\u001b[0;34m\u001b[0m\u001b[0m\n\u001b[0m\u001b[1;32m     27\u001b[0m         \u001b[0;32mreturn\u001b[0m \u001b[0mcast\u001b[0m\u001b[0;34m(\u001b[0m\u001b[0mF\u001b[0m\u001b[0;34m,\u001b[0m \u001b[0mdecorate_context\u001b[0m\u001b[0;34m)\u001b[0m\u001b[0;34m\u001b[0m\u001b[0;34m\u001b[0m\u001b[0m\n\u001b[1;32m     28\u001b[0m \u001b[0;34m\u001b[0m\u001b[0m\n",
      "\u001b[0;32m~/anaconda3/envs/tavqvae/lib/python3.8/site-packages/torch/optim/adam.py\u001b[0m in \u001b[0;36mstep\u001b[0;34m(self, closure)\u001b[0m\n\u001b[1;32m    106\u001b[0m \u001b[0;34m\u001b[0m\u001b[0m\n\u001b[1;32m    107\u001b[0m             \u001b[0mbeta1\u001b[0m\u001b[0;34m,\u001b[0m \u001b[0mbeta2\u001b[0m \u001b[0;34m=\u001b[0m \u001b[0mgroup\u001b[0m\u001b[0;34m[\u001b[0m\u001b[0;34m'betas'\u001b[0m\u001b[0;34m]\u001b[0m\u001b[0;34m\u001b[0m\u001b[0;34m\u001b[0m\u001b[0m\n\u001b[0;32m--> 108\u001b[0;31m             F.adam(params_with_grad,\n\u001b[0m\u001b[1;32m    109\u001b[0m                    \u001b[0mgrads\u001b[0m\u001b[0;34m,\u001b[0m\u001b[0;34m\u001b[0m\u001b[0;34m\u001b[0m\u001b[0m\n\u001b[1;32m    110\u001b[0m                    \u001b[0mexp_avgs\u001b[0m\u001b[0;34m,\u001b[0m\u001b[0;34m\u001b[0m\u001b[0;34m\u001b[0m\u001b[0m\n",
      "\u001b[0;32m~/anaconda3/envs/tavqvae/lib/python3.8/site-packages/torch/optim/functional.py\u001b[0m in \u001b[0;36madam\u001b[0;34m(params, grads, exp_avgs, exp_avg_sqs, max_exp_avg_sqs, state_steps, amsgrad, beta1, beta2, lr, weight_decay, eps)\u001b[0m\n\u001b[1;32m     96\u001b[0m         \u001b[0mstep_size\u001b[0m \u001b[0;34m=\u001b[0m \u001b[0mlr\u001b[0m \u001b[0;34m/\u001b[0m \u001b[0mbias_correction1\u001b[0m\u001b[0;34m\u001b[0m\u001b[0;34m\u001b[0m\u001b[0m\n\u001b[1;32m     97\u001b[0m \u001b[0;34m\u001b[0m\u001b[0m\n\u001b[0;32m---> 98\u001b[0;31m         \u001b[0mparam\u001b[0m\u001b[0;34m.\u001b[0m\u001b[0maddcdiv_\u001b[0m\u001b[0;34m(\u001b[0m\u001b[0mexp_avg\u001b[0m\u001b[0;34m,\u001b[0m \u001b[0mdenom\u001b[0m\u001b[0;34m,\u001b[0m \u001b[0mvalue\u001b[0m\u001b[0;34m=\u001b[0m\u001b[0;34m-\u001b[0m\u001b[0mstep_size\u001b[0m\u001b[0;34m)\u001b[0m\u001b[0;34m\u001b[0m\u001b[0;34m\u001b[0m\u001b[0m\n\u001b[0m",
      "\u001b[0;31mKeyboardInterrupt\u001b[0m: "
     ]
    }
   ],
   "source": [
    "iteration = 0\n",
    "for epoch in range(CONFIG.NUM_EPOCHS):\n",
    "    for batch_index, (img, txt) in enumerate(train_loader):\n",
    "        current_batch_size = img.size(0)\n",
    "\n",
    "        img = img.repeat_interleave(current_batch_size, dim=0)\n",
    "        txt = txt.repeat(current_batch_size, 1)\n",
    "        match_labels = torch.eye(current_batch_size).flatten()\n",
    "\n",
    "        img = img.to(CONFIG.DEVICE)\n",
    "        txt = txt.permute(1, 0).to(CONFIG.DEVICE)\n",
    "        match_labels = match_labels.to(CONFIG.DEVICE)\n",
    "\n",
    "        #with torch.no_grad():\n",
    "        #    latent = dvae.ng_q_encode(img)\n",
    "        #b, emb, h, w = latent.size()\n",
    "        #x = latent.view(b, emb, -1).permute(2, 0, 1)\n",
    "        \n",
    "        pred_labels = model(img, txt, average_cls_token=False)\n",
    "\n",
    "        loss = F.binary_cross_entropy(pred_labels, match_labels)\n",
    "        loss.backward()\n",
    "        \n",
    "        if iteration % 50 == 0:\n",
    "            print(\"Epoch: {} Iter: {} Loss: {}\".format(epoch, iteration, round(loss.item(), 5)))\n",
    "\n",
    "        optimizer.step()\n",
    "        optimizer.zero_grad()\n",
    "        \n",
    "        iteration += 1"
   ]
  },
  {
   "cell_type": "code",
   "execution_count": 8,
   "id": "82463dd7",
   "metadata": {},
   "outputs": [
    {
     "data": {
      "text/plain": [
       "tensor([0.1454, 0.1306, 0.1358, 0.1429, 0.1619, 0.1122, 0.1368, 0.1254, 0.1270,\n",
       "        0.1086, 0.1373, 0.1711, 0.1319, 0.1270, 0.1272, 0.1345, 0.1652, 0.1278,\n",
       "        0.1094, 0.1372, 0.1319, 0.1324, 0.1350, 0.1430, 0.1163, 0.1160, 0.1286,\n",
       "        0.1208, 0.1077, 0.1301, 0.1271, 0.1276, 0.1161, 0.1098, 0.1461, 0.1445,\n",
       "        0.1340, 0.1228, 0.1529, 0.1813, 0.1229, 0.1085, 0.1119, 0.1294, 0.1605,\n",
       "        0.1381, 0.1522, 0.1180, 0.1593, 0.1333, 0.1289, 0.1302, 0.1335, 0.1096,\n",
       "        0.1332, 0.1262, 0.1329, 0.1427, 0.1345, 0.1250, 0.1099, 0.1349, 0.1246,\n",
       "        0.1094], device='cuda:0', grad_fn=<SigmoidBackward>)"
      ]
     },
     "execution_count": 8,
     "metadata": {},
     "output_type": "execute_result"
    }
   ],
   "source": [
    "pred_labels"
   ]
  },
  {
   "cell_type": "code",
   "execution_count": null,
   "id": "55e2cb3c",
   "metadata": {},
   "outputs": [],
   "source": []
  },
  {
   "cell_type": "code",
   "execution_count": null,
   "id": "993b6a22",
   "metadata": {},
   "outputs": [],
   "source": []
  },
  {
   "cell_type": "code",
   "execution_count": null,
   "id": "59a7f7fb",
   "metadata": {},
   "outputs": [],
   "source": []
  },
  {
   "cell_type": "code",
   "execution_count": null,
   "id": "d7e76441",
   "metadata": {},
   "outputs": [],
   "source": []
  },
  {
   "cell_type": "code",
   "execution_count": 38,
   "id": "1d71035a",
   "metadata": {
    "scrolled": true
   },
   "outputs": [],
   "source": [
    "# iteration = 0\n",
    "# for epoch in range(CONFIG.NUM_EPOCHS):\n",
    "#     for batch_index, (img, txt) in enumerate(train_loader):\n",
    "#         current_batch_size = img.size(0)\n",
    "#         n_true = current_batch_size // 2\n",
    "#         true_txt = txt[:n_true, :]\n",
    "#         false_txt = txt[n_true:, :]\n",
    "#         false_txt = torch.cat((false_txt[[-1], :], false_txt[:-1, :]), dim=0)\n",
    "#         txt = torch.cat((true_txt, false_txt), dim=0)\n",
    "\n",
    "#         match_labels = torch.zeros(current_batch_size)\n",
    "#         match_labels[:n_true] = 1.0\n",
    "\n",
    "#         img = img.to(CONFIG.DEVICE)\n",
    "#         txt = txt.permute(1, 0).to(CONFIG.DEVICE)\n",
    "#         match_labels = match_labels.to(CONFIG.DEVICE)\n",
    "\n",
    "#         #with torch.no_grad():\n",
    "#         #    latent = dvae.ng_q_encode(img)\n",
    "#         #b, emb, h, w = latent.size()\n",
    "#         #x = latent.view(b, emb, -1).permute(2, 0, 1)\n",
    "        \n",
    "#         pred_labels = model(img, txt)\n",
    "\n",
    "#         loss = F.binary_cross_entropy(pred_labels, match_labels)\n",
    "#         loss.backward()\n",
    "        \n",
    "#         if iteration % 100 == 0:\n",
    "#             print(\"Epoch: {} Iter: {} Loss: {}\".format(epoch, iteration, round(loss.item(), 5)))\n",
    "\n",
    "#         optimizer.step()\n",
    "#         optimizer.zero_grad()\n",
    "        \n",
    "#         iteration += 1"
   ]
  },
  {
   "cell_type": "code",
   "execution_count": null,
   "id": "4de8dda7",
   "metadata": {},
   "outputs": [],
   "source": []
  },
  {
   "cell_type": "code",
   "execution_count": null,
   "id": "6616857e",
   "metadata": {},
   "outputs": [],
   "source": []
  },
  {
   "cell_type": "code",
   "execution_count": null,
   "id": "29c974c8",
   "metadata": {},
   "outputs": [],
   "source": []
  },
  {
   "cell_type": "code",
   "execution_count": null,
   "id": "a4be8e18",
   "metadata": {},
   "outputs": [],
   "source": []
  },
  {
   "cell_type": "code",
   "execution_count": null,
   "id": "cf3b0a6c",
   "metadata": {},
   "outputs": [],
   "source": []
  },
  {
   "cell_type": "code",
   "execution_count": 17,
   "id": "64a2df95",
   "metadata": {},
   "outputs": [],
   "source": [
    "img, txt = next(iter(train_loader))"
   ]
  },
  {
   "cell_type": "code",
   "execution_count": 32,
   "id": "44a34f59",
   "metadata": {},
   "outputs": [
    {
     "data": {
      "text/plain": [
       "torch.Size([16, 3, 128, 128])"
      ]
     },
     "execution_count": 32,
     "metadata": {},
     "output_type": "execute_result"
    }
   ],
   "source": [
    "img_all = img.repeat_interleave(4, dim=0)\n",
    "\n",
    "img_all.shape"
   ]
  },
  {
   "cell_type": "code",
   "execution_count": 33,
   "id": "e6dee514",
   "metadata": {},
   "outputs": [
    {
     "data": {
      "image/png": "[encoded data removed]",
      "text/plain": [
       "<Figure size 1008x1008 with 1 Axes>"
      ]
     },
     "metadata": {
      "needs_background": "light"
     },
     "output_type": "display_data"
    }
   ],
   "source": [
    "show(img_all, plot_grid=True, figsize=(14,14))"
   ]
  },
  {
   "cell_type": "code",
   "execution_count": 36,
   "id": "b7b4e97c",
   "metadata": {},
   "outputs": [
    {
     "data": {
      "text/plain": [
       "tensor([[ 3, 12, 14, 18,  8, 10, 13, 18,  5, 10, 14, 19],\n",
       "        [ 5, 10, 14, 18,  0, 11, 14, 18,  4, 11, 14, 19],\n",
       "        [ 8, 12, 16, 18,  0, 12, 15, 18,  9, 10, 16, 19],\n",
       "        [ 8, 12, 13, 17,  7, 12, 16, 17,  0, 12, 14, 18],\n",
       "        [ 3, 12, 14, 18,  8, 10, 13, 18,  5, 10, 14, 19],\n",
       "        [ 5, 10, 14, 18,  0, 11, 14, 18,  4, 11, 14, 19],\n",
       "        [ 8, 12, 16, 18,  0, 12, 15, 18,  9, 10, 16, 19],\n",
       "        [ 8, 12, 13, 17,  7, 12, 16, 17,  0, 12, 14, 18],\n",
       "        [ 3, 12, 14, 18,  8, 10, 13, 18,  5, 10, 14, 19],\n",
       "        [ 5, 10, 14, 18,  0, 11, 14, 18,  4, 11, 14, 19],\n",
       "        [ 8, 12, 16, 18,  0, 12, 15, 18,  9, 10, 16, 19],\n",
       "        [ 8, 12, 13, 17,  7, 12, 16, 17,  0, 12, 14, 18],\n",
       "        [ 3, 12, 14, 18,  8, 10, 13, 18,  5, 10, 14, 19],\n",
       "        [ 5, 10, 14, 18,  0, 11, 14, 18,  4, 11, 14, 19],\n",
       "        [ 8, 12, 16, 18,  0, 12, 15, 18,  9, 10, 16, 19],\n",
       "        [ 8, 12, 13, 17,  7, 12, 16, 17,  0, 12, 14, 18]])"
      ]
     },
     "execution_count": 36,
     "metadata": {},
     "output_type": "execute_result"
    }
   ],
   "source": [
    "txt.repeat(4, 1)"
   ]
  },
  {
   "cell_type": "code",
   "execution_count": 42,
   "id": "81b1fe35",
   "metadata": {},
   "outputs": [
    {
     "data": {
      "text/plain": [
       "tensor([1., 0., 0., 0., 0., 1., 0., 0., 0., 0., 1., 0., 0., 0., 0., 1.])"
      ]
     },
     "execution_count": 42,
     "metadata": {},
     "output_type": "execute_result"
    }
   ],
   "source": [
    "torch.eye(4).flatten()"
   ]
  },
  {
   "cell_type": "code",
   "execution_count": null,
   "id": "724e78fb",
   "metadata": {},
   "outputs": [],
   "source": []
  },
  {
   "cell_type": "code",
   "execution_count": null,
   "id": "42e0f38d",
   "metadata": {},
   "outputs": [],
   "source": []
  },
  {
   "cell_type": "code",
   "execution_count": null,
   "id": "a37c902a",
   "metadata": {},
   "outputs": [],
   "source": []
  },
  {
   "cell_type": "code",
   "execution_count": null,
   "id": "8cbf4c68",
   "metadata": {},
   "outputs": [],
   "source": []
  },
  {
   "cell_type": "code",
   "execution_count": null,
   "id": "a323131d",
   "metadata": {},
   "outputs": [],
   "source": []
  },
  {
   "cell_type": "code",
   "execution_count": null,
   "id": "25bca590",
   "metadata": {},
   "outputs": [],
   "source": []
  },
  {
   "cell_type": "code",
   "execution_count": null,
   "id": "320c4e4b",
   "metadata": {},
   "outputs": [],
   "source": []
  },
  {
   "cell_type": "code",
   "execution_count": null,
   "id": "be2b707b",
   "metadata": {},
   "outputs": [],
   "source": []
  },
  {
   "cell_type": "code",
   "execution_count": 13,
   "id": "804eb251",
   "metadata": {},
   "outputs": [],
   "source": [
    "current_batch_size = img.size(0)\n",
    "n_true = current_batch_size // 2\n",
    "true_txt = txt[:n_true, :]\n",
    "false_txt = txt[n_true:, :]\n",
    "false_txt = torch.cat((false_txt[[-1], :], false_txt[:-1, :]), dim=0)\n",
    "txt_new = torch.cat((true_txt, false_txt), dim=0)"
   ]
  },
  {
   "cell_type": "code",
   "execution_count": 8,
   "id": "7576f536",
   "metadata": {},
   "outputs": [
    {
     "data": {
      "text/plain": [
       "tensor([[ 7, 10, 13, 18,  2, 11, 14, 18,  5, 10, 15, 19],\n",
       "        [ 0, 11, 16, 19,  3, 12, 14, 17,  2, 11, 16, 17],\n",
       "        [ 0, 11, 13, 19,  6, 12, 16, 19,  1, 12, 16, 18],\n",
       "        [ 4, 11, 16, 19,  7, 12, 13, 17,  8, 10, 13, 19],\n",
       "        [ 4, 11, 16, 17,  8, 12, 14, 19,  1, 10, 15, 19],\n",
       "        [ 9, 12, 16, 18,  9, 12, 16, 18,  4, 10, 15, 18]])"
      ]
     },
     "execution_count": 8,
     "metadata": {},
     "output_type": "execute_result"
    }
   ],
   "source": [
    "txt"
   ]
  },
  {
   "cell_type": "code",
   "execution_count": 15,
   "id": "61311bac",
   "metadata": {},
   "outputs": [
    {
     "data": {
      "text/plain": [
       "tensor([[ 2, 10, 13, 18,  2, 12, 13, 19,  6, 11, 16, 19],\n",
       "        [ 3, 12, 13, 17,  5, 12, 16, 17,  3, 12, 14, 18],\n",
       "        [ 2, 12, 16, 18,  5, 11, 15, 17,  5, 10, 16, 18],\n",
       "        [ 3, 10, 14, 18,  1, 11, 13, 17,  2, 11, 16, 17],\n",
       "        [ 3, 11, 14, 18,  7, 10, 14, 19,  0, 12, 13, 18],\n",
       "        [ 3, 11, 14, 19,  6, 12, 14, 17,  2, 11, 16, 19]])"
      ]
     },
     "execution_count": 15,
     "metadata": {},
     "output_type": "execute_result"
    }
   ],
   "source": [
    "txt_new"
   ]
  },
  {
   "cell_type": "code",
   "execution_count": null,
   "id": "4ad95d2f",
   "metadata": {},
   "outputs": [],
   "source": []
  },
  {
   "cell_type": "code",
   "execution_count": null,
   "id": "6f53c4b6",
   "metadata": {},
   "outputs": [],
   "source": []
  },
  {
   "cell_type": "code",
   "execution_count": null,
   "id": "e9027f33",
   "metadata": {},
   "outputs": [],
   "source": []
  },
  {
   "cell_type": "code",
   "execution_count": null,
   "id": "97bafa3a",
   "metadata": {},
   "outputs": [],
   "source": []
  },
  {
   "cell_type": "code",
   "execution_count": null,
   "id": "430b6195",
   "metadata": {},
   "outputs": [],
   "source": []
  },
  {
   "cell_type": "code",
   "execution_count": null,
   "id": "baa2ff22",
   "metadata": {},
   "outputs": [],
   "source": []
  },
  {
   "cell_type": "code",
   "execution_count": null,
   "id": "7be1a919",
   "metadata": {},
   "outputs": [],
   "source": []
  },
  {
   "cell_type": "code",
   "execution_count": null,
   "id": "19a7c278",
   "metadata": {},
   "outputs": [],
   "source": []
  },
  {
   "cell_type": "code",
   "execution_count": null,
   "id": "4690970a",
   "metadata": {},
   "outputs": [],
   "source": []
  }
 ],
 "metadata": {
  "kernelspec": {
   "display_name": "Python 3",
   "language": "python",
   "name": "python3"
  },
  "language_info": {
   "codemirror_mode": {
    "name": "ipython",
    "version": 3
   },
   "file_extension": ".py",
   "mimetype": "text/x-python",
   "name": "python",
   "nbconvert_exporter": "python",
   "pygments_lexer": "ipython3",
   "version": "3.8.5"
  }
 },
 "nbformat": 4,
 "nbformat_minor": 5
}
