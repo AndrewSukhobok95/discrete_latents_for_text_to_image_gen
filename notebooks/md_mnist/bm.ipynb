{
 "cells": [
  {
   "cell_type": "code",
   "execution_count": 67,
   "id": "78013324",
   "metadata": {},
   "outputs": [],
   "source": [
    "import os\n",
    "import numpy as np\n",
    "import matplotlib.pyplot as plt\n",
    "from tqdm.notebook import tqdm\n",
    "\n",
    "import torch\n",
    "import torch.nn.functional as F\n",
    "from torch import nn, optim\n",
    "\n",
    "from torch.utils.data import DataLoader\n",
    "from torch.optim.lr_scheduler import MultiStepLR\n",
    "\n",
    "import sys\n",
    "sys.path.append(\"./../../\")\n",
    "\n",
    "from config_reader import ConfigReader\n",
    "from modules.dvae.model import DVAE\n",
    "from modules.transformer_gen.ar_cond_1stream.generator import LatentGenerator as LatentGenerator1s\n",
    "from modules.transformer_gen.ar_cond_2stream.generator import LatentGenerator as LatentGenerator2s\n",
    "from datasets.mnist_loader import MNISTData\n",
    "from notebooks.utils import show\n",
    "from modules.common_utils import latent_to_img\n",
    "from utilities.md_mnist_utils import LabelsInfo"
   ]
  },
  {
   "cell_type": "code",
   "execution_count": 68,
   "id": "c7e7c972",
   "metadata": {},
   "outputs": [],
   "source": [
    "config_dir_path = '/u/82/sukhoba1/unix/Desktop/TA-VQVAE/configs/finished/'\n",
    "config_path = config_dir_path + 'trArC2s2s_mnistmd_v256_ds2_nb12_cnb6_remote.yaml'\n",
    "CONFIG = ConfigReader(config_path=config_path)"
   ]
  },
  {
   "cell_type": "code",
   "execution_count": 69,
   "id": "b64d7431",
   "metadata": {},
   "outputs": [],
   "source": [
    "data_source = MNISTData(\n",
    "    img_type=CONFIG.dataset_type,\n",
    "    root_path=CONFIG.root_path,\n",
    "    batch_size=CONFIG.BATCH_SIZE)\n",
    "train_loader = data_source.get_train_loader(batch_size=8)"
   ]
  },
  {
   "cell_type": "code",
   "execution_count": 70,
   "id": "8f9f6cb7",
   "metadata": {},
   "outputs": [],
   "source": [
    "dvae = DVAE(\n",
    "    in_channels=CONFIG.in_channels,\n",
    "    vocab_size=CONFIG.vocab_size,\n",
    "    num_x2downsamples=CONFIG.num_x2downsamples,\n",
    "    num_resids_downsample=CONFIG.num_resids_downsample,\n",
    "    num_resids_bottleneck=CONFIG.num_resids_bottleneck,\n",
    "    hidden_dim=CONFIG.hidden_dim,\n",
    "    device=CONFIG.DEVICE)\n",
    "\n",
    "dvae.eval()\n",
    "dvae.load_model(\n",
    "    root_path=CONFIG.vae_model_path,\n",
    "    model_name=CONFIG.vae_model_name)"
   ]
  },
  {
   "cell_type": "code",
   "execution_count": 71,
   "id": "babca540",
   "metadata": {},
   "outputs": [],
   "source": [
    "G = LatentGenerator2s(\n",
    "    hidden_width=CONFIG.hidden_width,\n",
    "    hidden_height=CONFIG.hidden_height,\n",
    "    embedding_dim=CONFIG.vocab_size,\n",
    "    num_blocks=CONFIG.num_blocks,\n",
    "    cond_num_blocks=CONFIG.cond_num_blocks,\n",
    "    cond_seq_size=CONFIG.cond_seq_size,\n",
    "    cond_vocab_size=CONFIG.cond_vocab_size,\n",
    "    hidden_dim=CONFIG.hidden_dim,\n",
    "    n_attn_heads=CONFIG.n_attn_heads,\n",
    "    dropout_prob=CONFIG.dropout_prob,\n",
    "    device=CONFIG.DEVICE)\n",
    "\n",
    "G.eval()\n",
    "G.load_model(\n",
    "    root_path=CONFIG.model_path,\n",
    "    model_name=CONFIG.model_name)"
   ]
  },
  {
   "cell_type": "code",
   "execution_count": 72,
   "id": "747a4bc8",
   "metadata": {},
   "outputs": [],
   "source": [
    "json_path = '/m/home/home8/82/sukhoba1/data/Desktop/TA-VQVAE/data/multi_descriptive_MNIST/description/labels_info.json'\n",
    "li = LabelsInfo(json_path)"
   ]
  },
  {
   "cell_type": "code",
   "execution_count": 73,
   "id": "aabfdd9d",
   "metadata": {},
   "outputs": [],
   "source": [
    "img, tokens = next(iter(train_loader))"
   ]
  },
  {
   "cell_type": "code",
   "execution_count": 74,
   "id": "ca2cc7e5",
   "metadata": {},
   "outputs": [
    {
     "data": {
      "text/plain": [
       "[['0', '40', 'b', 'middle', '4', '20', 'g', 'down', '2', '30', 'b', 'up'],\n",
       " ['8', '20', 'r', 'middle', '2', '40', 'r', 'down', '4', '30', 'b', 'up'],\n",
       " ['7', '40', 'w', 'up', '6', '40', 'b', 'down', '7', '40', 'b', 'middle'],\n",
       " ['2', '30', 'r', 'up', '6', '20', 'r', 'down', '1', '30', 'g', 'up'],\n",
       " ['3', '40', 'r', 'up', '3', '40', 'b', 'down', '7', '30', 'r', 'up'],\n",
       " ['5', '40', 'w', 'up', '5', '20', 'r', 'down', '1', '30', 'g', 'up'],\n",
       " ['2', '30', 'b', 'up', '5', '20', 'b', 'up', '4', '40', 'w', 'middle'],\n",
       " ['2', '40', 'g', 'up', '7', '40', 'b', 'middle', '2', '20', 'r', 'down']]"
      ]
     },
     "execution_count": 74,
     "metadata": {},
     "output_type": "execute_result"
    }
   ],
   "source": [
    "description = li.decode_ids(tokens.tolist())\n",
    "\n",
    "description"
   ]
  },
  {
   "cell_type": "code",
   "execution_count": 75,
   "id": "5b09159f",
   "metadata": {},
   "outputs": [
    {
     "data": {
      "text/plain": [
       "[['0', '40', 'r', 'middle', '4', '20', 'r', 'down', '2', '30', 'r', 'up'],\n",
       " ['8', '20', 'r', 'middle', '2', '40', 'r', 'down', '4', '30', 'r', 'up'],\n",
       " ['7', '40', 'r', 'up', '6', '40', 'r', 'down', '7', '40', 'r', 'middle'],\n",
       " ['2', '30', 'r', 'up', '6', '20', 'r', 'down', '1', '30', 'r', 'up'],\n",
       " ['3', '40', 'r', 'up', '3', '40', 'r', 'down', '7', '30', 'r', 'up'],\n",
       " ['5', '40', 'r', 'up', '5', '20', 'r', 'down', '1', '30', 'r', 'up'],\n",
       " ['2', '30', 'r', 'up', '5', '20', 'r', 'up', '4', '40', 'r', 'middle'],\n",
       " ['2', '40', 'r', 'up', '7', '40', 'r', 'middle', '2', '20', 'r', 'down']]"
      ]
     },
     "execution_count": 75,
     "metadata": {},
     "output_type": "execute_result"
    }
   ],
   "source": [
    "replace_value = \"r\"\n",
    "for i in range(len(description)):\n",
    "    for j in range(3):\n",
    "        # color\n",
    "        description[i][2 + j * 4] = replace_value\n",
    "        # digit\n",
    "        #description[i][0 + j * 4] = replace_value\n",
    "        # location\n",
    "        #description[i][3 + j * 4] = replace_value\n",
    "\n",
    "description"
   ]
  },
  {
   "cell_type": "code",
   "execution_count": 76,
   "id": "45c8134d",
   "metadata": {},
   "outputs": [],
   "source": [
    "description_ids = li.encode_values(description)\n",
    "description_tensor = torch.LongTensor(description_ids).T.to(CONFIG.DEVICE)"
   ]
  },
  {
   "cell_type": "code",
   "execution_count": 77,
   "id": "eabad1a8",
   "metadata": {},
   "outputs": [],
   "source": [
    "img = img.to(CONFIG.DEVICE)\n",
    "\n",
    "with torch.no_grad():\n",
    "    latent = dvae.ng_q_encode(img)\n",
    "    \n",
    "    b, emb, h, w = latent.size()\n",
    "    x = latent.view(b, emb, -1).permute(2, 0, 1)\n",
    "    \n",
    "    start_vector = torch.zeros(1, b, emb, device=x.device)\n",
    "    x_inp = torch.cat([start_vector, x[:-1,:,:]], dim=0)\n",
    "    \n",
    "    gen_lat = G.forward(x_inp, description_tensor)"
   ]
  },
  {
   "cell_type": "code",
   "execution_count": 78,
   "id": "17e00bcc",
   "metadata": {},
   "outputs": [
    {
     "data": {
      "image/png": "[encoded data removed]",
      "text/plain": [
       "<Figure size 1152x1152 with 1 Axes>"
      ]
     },
     "metadata": {
      "needs_background": "light"
     },
     "output_type": "display_data"
    }
   ],
   "source": [
    "show(img, figsize=(16,16), plot_grid=True)"
   ]
  },
  {
   "cell_type": "code",
   "execution_count": 79,
   "id": "d648724a",
   "metadata": {},
   "outputs": [
    {
     "data": {
      "image/png": "[encoded data removed]",
      "text/plain": [
       "<Figure size 1152x1152 with 1 Axes>"
      ]
     },
     "metadata": {
      "needs_background": "light"
     },
     "output_type": "display_data"
    }
   ],
   "source": [
    "gen_img = latent_to_img(gen_lat, dvae, CONFIG.hidden_height, CONFIG.hidden_width)\n",
    "\n",
    "show(gen_img, figsize=(16,16), plot_grid=True)"
   ]
  },
  {
   "cell_type": "code",
   "execution_count": null,
   "id": "beb84280",
   "metadata": {},
   "outputs": [],
   "source": []
  },
  {
   "cell_type": "code",
   "execution_count": null,
   "id": "e945312a",
   "metadata": {},
   "outputs": [],
   "source": []
  },
  {
   "cell_type": "code",
   "execution_count": null,
   "id": "650cd91a",
   "metadata": {},
   "outputs": [],
   "source": []
  },
  {
   "cell_type": "code",
   "execution_count": null,
   "id": "40753822",
   "metadata": {},
   "outputs": [],
   "source": []
  }
 ],
 "metadata": {
  "kernelspec": {
   "display_name": "Python 3",
   "language": "python",
   "name": "python3"
  },
  "language_info": {
   "codemirror_mode": {
    "name": "ipython",
    "version": 3
   },
   "file_extension": ".py",
   "mimetype": "text/x-python",
   "name": "python",
   "nbconvert_exporter": "python",
   "pygments_lexer": "ipython3",
   "version": "3.8.5"
  }
 },
 "nbformat": 4,
 "nbformat_minor": 5
}
