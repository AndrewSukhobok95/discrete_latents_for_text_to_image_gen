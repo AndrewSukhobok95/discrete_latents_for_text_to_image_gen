{
 "cells": [
  {
   "cell_type": "code",
   "execution_count": 2,
   "id": "749f478f",
   "metadata": {},
   "outputs": [],
   "source": [
    "import os\n",
    "import numpy as np\n",
    "import matplotlib.pyplot as plt\n",
    "from tqdm.notebook import tqdm\n",
    "\n",
    "import torch\n",
    "import torch.nn.functional as F\n",
    "from torch import nn, optim\n",
    "\n",
    "from torch.utils.data import DataLoader\n",
    "from torch.optim.lr_scheduler import MultiStepLR"
   ]
  },
  {
   "cell_type": "code",
   "execution_count": 3,
   "id": "dd295c63",
   "metadata": {},
   "outputs": [],
   "source": [
    "import sys\n",
    "sys.path.append(\"./../../\")\n",
    "\n",
    "from config_reader import ConfigReader\n",
    "from modules.dvae.model import DVAE\n",
    "from modules.transformer_gen.ar_cond_2stream.generator import LatentGenerator\n",
    "from datasets.mnist_loader import MNISTData\n",
    "from notebooks.utils import show\n",
    "from modules.common_utils import latent_to_img\n",
    "from utilities.md_mnist_utils import LabelsInfo"
   ]
  },
  {
   "cell_type": "code",
   "execution_count": 5,
   "id": "d27529ef",
   "metadata": {},
   "outputs": [
    {
     "name": "stdout",
     "output_type": "stream",
     "text": [
      "BATCH_SIZE                              12                                      \n",
      "DEVICE                                  cuda                                    \n",
      "LR                                      0.001                                   \n",
      "LR_gamma                                0.1                                     \n",
      "NUM_EPOCHS                              20                                      \n",
      "cond_num_blocks                         6                                       \n",
      "cond_seq_size                           12                                      \n",
      "cond_vocab_size                         20                                      \n",
      "config_path                             /u/82/sukhoba1/unix/Desktop/TA-VQVAE/configs/trArC2s_mnistmd_v256_ds2_nb12_cnb6_remote.yaml\n",
      "dropout_prob                            0.1                                     \n",
      "hidden_dim                              256                                     \n",
      "hidden_height                           32                                      \n",
      "hidden_width                            32                                      \n",
      "in_channels                             3                                       \n",
      "mnist_type                              md                                      \n",
      "model_name                              generator                               \n",
      "model_path                              /u/82/sukhoba1/unix/Desktop/TA-VQVAE/models/mnist_md/trArC2s_v256_ds2_nb12_cnb6/\n",
      "n_attn_heads                            8                                       \n",
      "num_blocks                              12                                      \n",
      "num_resids_bottleneck                   4                                       \n",
      "num_resids_downsample                   4                                       \n",
      "num_x2downsamples                       2                                       \n",
      "root_img_path                           /u/82/sukhoba1/unix/Desktop/TA-VQVAE/data/multi_descriptive_MNIST/\n",
      "step_LR_milestones                      [5, 10]                                 \n",
      "vae_model_name                          dvae                                    \n",
      "vae_model_path                          /u/82/sukhoba1/unix/Desktop/TA-VQVAE/models/mnist_md/dvae_v256_ds2/\n",
      "vocab_size                              256                                     \n"
     ]
    }
   ],
   "source": [
    "config_path = '/u/82/sukhoba1/unix/Desktop/TA-VQVAE/configs/trArC2s_mnistmd_v256_ds2_nb12_cnb6_remote.yaml'\n",
    "CONFIG = ConfigReader(config_path=config_path)\n",
    "CONFIG.print_config_info()"
   ]
  },
  {
   "cell_type": "code",
   "execution_count": 6,
   "id": "dfbc4ecf",
   "metadata": {},
   "outputs": [],
   "source": [
    "data_source = MNISTData(\n",
    "    img_type=CONFIG.type,\n",
    "    root_path=CONFIG.root_path,\n",
    "    batch_size=CONFIG.BATCH_SIZE)\n",
    "train_loader = data_source.get_train_loader()"
   ]
  },
  {
   "cell_type": "code",
   "execution_count": null,
   "id": "456a54e4",
   "metadata": {},
   "outputs": [],
   "source": []
  },
  {
   "cell_type": "code",
   "execution_count": null,
   "id": "8aa7c65b",
   "metadata": {},
   "outputs": [],
   "source": []
  },
  {
   "cell_type": "code",
   "execution_count": 22,
   "id": "78feca1c",
   "metadata": {},
   "outputs": [],
   "source": [
    "from modules.common_blocks import TrEncoderBlock\n",
    "from modules.common_utils import subsequent_mask\n",
    "\n",
    "class LatentGenerator(nn.Module):\n",
    "    def __init__(self,\n",
    "                 hidden_width,\n",
    "                 hidden_height,\n",
    "                 embedding_dim,\n",
    "                 num_blocks,\n",
    "                 cond_seq_size,\n",
    "                 cond_vocab_size,\n",
    "                 hidden_dim,\n",
    "                 n_attn_heads,\n",
    "                 dropout_prob,\n",
    "                 device=torch.device('cpu')):\n",
    "        super(LatentGenerator, self).__init__()\n",
    "        self.device = device\n",
    "\n",
    "        self.hidden_width = hidden_width\n",
    "        self.hidden_height = hidden_height\n",
    "        self.embedding_dim = embedding_dim\n",
    "        self.cond_seq_size = cond_seq_size\n",
    "\n",
    "        self.proj_in = nn.Linear(embedding_dim, embedding_dim)\n",
    "        self.proj_out = nn.Linear(embedding_dim, embedding_dim)\n",
    "\n",
    "        self.pe_col = nn.Parameter(torch.randn(hidden_width, 1, embedding_dim))\n",
    "        self.pe_row = nn.Parameter(torch.randn(hidden_height, 1, embedding_dim))\n",
    "        self.pe_cond = nn.Parameter(torch.randn(cond_seq_size, 1, embedding_dim))\n",
    "\n",
    "        self.tr_encoder_blocks = nn.ModuleList([\n",
    "            TrEncoderBlock(n_features=embedding_dim,\n",
    "                           n_attn_heads=n_attn_heads,\n",
    "                           n_hidden=hidden_dim,\n",
    "                           dropout_prob=dropout_prob)\n",
    "            for _ in range(num_blocks)\n",
    "        ])\n",
    "\n",
    "        self.cond_encoder = nn.Sequential(\n",
    "            nn.Embedding(num_embeddings=cond_vocab_size, embedding_dim=embedding_dim)\n",
    "        )\n",
    "\n",
    "        self.to(self.device)\n",
    "\n",
    "    def forward(self, x, condition):\n",
    "        seq_len, batch, emb = x.size()\n",
    "        full_seq_len = self.cond_seq_size + seq_len\n",
    "\n",
    "        mask = subsequent_mask(full_seq_len).to(x.device)\n",
    "\n",
    "        x = self.proj_in(x)\n",
    "        pe_column = self.pe_col.repeat(self.hidden_width, 1, 1)\n",
    "        pe_row = self.pe_row.repeat_interleave(self.hidden_height, dim=0)\n",
    "        x = x + pe_column + pe_row\n",
    "\n",
    "        c = self.cond_encoder(condition)\n",
    "        c = c + self.pe_cond.repeat(1, batch, 1)\n",
    "\n",
    "        full_x = torch.cat([c, x], dim=0)\n",
    "\n",
    "        for i, block in enumerate(self.tr_encoder_blocks):\n",
    "            full_x = block(full_x, attn_mask=mask)\n",
    "\n",
    "        x_out = self.proj_out(full_x[self.cond_seq_size:,:,:])\n",
    "        return x_out"
   ]
  },
  {
   "cell_type": "code",
   "execution_count": null,
   "id": "75cae8bf",
   "metadata": {},
   "outputs": [],
   "source": []
  },
  {
   "cell_type": "code",
   "execution_count": 23,
   "id": "5e4b7356",
   "metadata": {},
   "outputs": [],
   "source": [
    "dvae = DVAE(\n",
    "    in_channels=CONFIG.in_channels,\n",
    "    vocab_size=CONFIG.vocab_size,\n",
    "    num_x2downsamples=CONFIG.num_x2downsamples,\n",
    "    num_resids_downsample=CONFIG.num_resids_downsample,\n",
    "    num_resids_bottleneck=CONFIG.num_resids_bottleneck,\n",
    "    hidden_dim=CONFIG.hidden_dim,\n",
    "    device=CONFIG.DEVICE)\n",
    "\n",
    "G = LatentGenerator(\n",
    "    hidden_width=CONFIG.hidden_width,\n",
    "    hidden_height=CONFIG.hidden_height,\n",
    "    embedding_dim=CONFIG.vocab_size,\n",
    "    num_blocks=CONFIG.num_blocks,\n",
    "    cond_seq_size=CONFIG.cond_seq_size,\n",
    "    cond_vocab_size=CONFIG.cond_vocab_size,\n",
    "    hidden_dim=CONFIG.hidden_dim,\n",
    "    n_attn_heads=CONFIG.n_attn_heads,\n",
    "    dropout_prob=CONFIG.dropout_prob,\n",
    "    device=CONFIG.DEVICE)\n",
    "\n",
    "dvae.eval()\n",
    "G.eval()\n",
    "\n",
    "dvae.load_model(\n",
    "    root_path=CONFIG.vae_model_path,\n",
    "    model_name=CONFIG.vae_model_name)\n",
    "\n",
    "# G.load_model(CONFIG.model_path, CONFIG.model_name)\n",
    "\n",
    "pass"
   ]
  },
  {
   "cell_type": "code",
   "execution_count": 24,
   "id": "9090c5d3",
   "metadata": {},
   "outputs": [],
   "source": [
    "img, label = next(iter(train_loader))\n",
    "\n",
    "img = img.to(CONFIG.DEVICE)\n",
    "label = label.permute(1,0).to(CONFIG.DEVICE)\n",
    "\n",
    "with torch.no_grad():\n",
    "    latent = dvae.ng_q_encode(img)\n",
    "\n",
    "b, emb, h, w = latent.size()\n",
    "x = latent.view(b, emb, -1).permute(2, 0, 1)"
   ]
  },
  {
   "cell_type": "code",
   "execution_count": 25,
   "id": "9899e62b",
   "metadata": {},
   "outputs": [],
   "source": [
    "r = G(x, label)"
   ]
  },
  {
   "cell_type": "code",
   "execution_count": null,
   "id": "d79be0b5",
   "metadata": {},
   "outputs": [],
   "source": []
  },
  {
   "cell_type": "code",
   "execution_count": null,
   "id": "b1f59217",
   "metadata": {},
   "outputs": [],
   "source": []
  },
  {
   "cell_type": "code",
   "execution_count": null,
   "id": "930f0528",
   "metadata": {},
   "outputs": [],
   "source": []
  },
  {
   "cell_type": "code",
   "execution_count": null,
   "id": "e01130ce",
   "metadata": {},
   "outputs": [],
   "source": []
  },
  {
   "cell_type": "code",
   "execution_count": null,
   "id": "f0e60144",
   "metadata": {},
   "outputs": [],
   "source": []
  },
  {
   "cell_type": "code",
   "execution_count": null,
   "id": "a63e332c",
   "metadata": {},
   "outputs": [],
   "source": []
  },
  {
   "cell_type": "code",
   "execution_count": null,
   "id": "13eb1925",
   "metadata": {},
   "outputs": [],
   "source": []
  },
  {
   "cell_type": "code",
   "execution_count": null,
   "id": "959728ee",
   "metadata": {},
   "outputs": [],
   "source": []
  },
  {
   "cell_type": "code",
   "execution_count": null,
   "id": "ce3dccba",
   "metadata": {},
   "outputs": [],
   "source": []
  },
  {
   "cell_type": "code",
   "execution_count": null,
   "id": "78126788",
   "metadata": {},
   "outputs": [],
   "source": []
  },
  {
   "cell_type": "code",
   "execution_count": null,
   "id": "34a2b0fe",
   "metadata": {},
   "outputs": [],
   "source": []
  },
  {
   "cell_type": "code",
   "execution_count": null,
   "id": "342457e1",
   "metadata": {},
   "outputs": [],
   "source": []
  },
  {
   "cell_type": "code",
   "execution_count": null,
   "id": "f1da1a3f",
   "metadata": {},
   "outputs": [],
   "source": []
  },
  {
   "cell_type": "code",
   "execution_count": null,
   "id": "63143aa3",
   "metadata": {},
   "outputs": [],
   "source": []
  },
  {
   "cell_type": "code",
   "execution_count": null,
   "id": "cb4b853c",
   "metadata": {},
   "outputs": [],
   "source": []
  },
  {
   "cell_type": "code",
   "execution_count": 8,
   "id": "328c3346",
   "metadata": {},
   "outputs": [],
   "source": [
    "description = [\n",
    "    ['8', '30', 'r', 'up', '3', '20', 'g', 'up', '2', '20', 'w', 'middle'],\n",
    "    ['5', '30', 'g', 'middle', '2', '30', 'w', 'down', '4', '20', 'w', 'down'],\n",
    "    ['5', '40', 'r', 'down', '3', '30', 'w', 'middle', '0', '40', 'b', 'down'],\n",
    "    ['8', '20', 'g', 'down', '7', '40', 'w', 'middle', '2', '20', 'w', 'middle'],\n",
    "    ['9', '30', 'r', 'middle', '2', '30', 'w', 'down', '2', '40', 'r', 'down'],\n",
    "    ['5', '30', 'g', 'up', '2', '40', 'g', 'up', '6', '40', 'w', 'down'],\n",
    "    ['8', '30', 'g', 'middle', '4', '30', 'b', 'middle', '0', '40', 'r', 'up'],\n",
    "    ['6', '30', 'b', 'down', '4', '20', 'b', 'middle', '1', '20', 'g', 'down']\n",
    "]\n",
    "\n",
    "json_path = '/m/home/home8/82/sukhoba1/data/Desktop/TA-VQVAE/data/multi_descriptive_MNIST/description/labels_info.json'\n",
    "li = LabelsInfo(json_path)\n",
    "\n",
    "description_ids = li.encode_values(description)\n",
    "\n",
    "description_tensor = torch.LongTensor(description_ids).T.to(CONFIG.DEVICE)"
   ]
  },
  {
   "cell_type": "code",
   "execution_count": 9,
   "id": "86f6c0ad",
   "metadata": {},
   "outputs": [
    {
     "data": {
      "image/png": "[encoded data removed]",
      "text/plain": [
       "<Figure size 1152x1152 with 1 Axes>"
      ]
     },
     "metadata": {
      "needs_background": "light"
     },
     "output_type": "display_data"
    }
   ],
   "source": [
    "with torch.no_grad():\n",
    "    gen_lat = G.sample(description_tensor)\n",
    "\n",
    "gen_img = latent_to_img(gen_lat, dvae, CONFIG.hidden_height, CONFIG.hidden_width)\n",
    "\n",
    "show(gen_img, figsize=(16,16), plot_grid=True)"
   ]
  },
  {
   "cell_type": "code",
   "execution_count": null,
   "id": "731daf2b",
   "metadata": {},
   "outputs": [],
   "source": []
  },
  {
   "cell_type": "code",
   "execution_count": null,
   "id": "a1505cea",
   "metadata": {},
   "outputs": [],
   "source": []
  }
 ],
 "metadata": {
  "kernelspec": {
   "display_name": "Python 3",
   "language": "python",
   "name": "python3"
  },
  "language_info": {
   "codemirror_mode": {
    "name": "ipython",
    "version": 3
   },
   "file_extension": ".py",
   "mimetype": "text/x-python",
   "name": "python",
   "nbconvert_exporter": "python",
   "pygments_lexer": "ipython3",
   "version": "3.8.5"
  }
 },
 "nbformat": 4,
 "nbformat_minor": 5
}
