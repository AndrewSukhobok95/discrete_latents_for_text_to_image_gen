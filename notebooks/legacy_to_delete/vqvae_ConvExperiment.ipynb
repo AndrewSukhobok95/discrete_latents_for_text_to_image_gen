{
 "cells": [
  {
   "cell_type": "code",
   "execution_count": 1,
   "id": "159420cd",
   "metadata": {},
   "outputs": [],
   "source": [
    "import os\n",
    "import numpy as np\n",
    "import matplotlib.pyplot as plt\n",
    "\n",
    "import torch\n",
    "import torch.nn.functional as F\n",
    "from torch.autograd import grad\n",
    "from torch import nn, optim\n",
    "\n",
    "from torchvision import datasets, transforms\n",
    "from torch.utils.data import DataLoader\n",
    "from torchvision.utils import save_image\n",
    "from torch.optim.lr_scheduler import MultiStepLR\n",
    "from torchvision.utils import make_grid\n",
    "from torchvision import transforms as torch_transforms"
   ]
  },
  {
   "cell_type": "code",
   "execution_count": 2,
   "id": "4ad6bccb",
   "metadata": {},
   "outputs": [],
   "source": [
    "import sys\n",
    "sys.path.append(\"./../\")\n",
    "\n",
    "# from modules.dtr_gan.generator import Generator\n",
    "# from modules.dtr_gan.discriminator import Discriminator\n",
    "from modules.vqvae.model import VQVAE\n",
    "\n",
    "from modules.common_blocks import ResidualStack\n",
    "from modules.dtr_gan.blocks import PositionalEmbedding, MLP\n",
    "from train_utils.dvae_utils import TemperatureAnnealer"
   ]
  },
  {
   "cell_type": "code",
   "execution_count": 3,
   "id": "263a51ab",
   "metadata": {},
   "outputs": [],
   "source": [
    "def show(img, figsize=(8, 4)):\n",
    "    plt.figure(figsize=figsize)\n",
    "    npimg = img.numpy()\n",
    "    fig = plt.imshow(np.transpose(npimg, (1,2,0)), interpolation='nearest')\n",
    "    fig.axes.get_xaxis().set_visible(False)\n",
    "    fig.axes.get_yaxis().set_visible(False)\n",
    "    plt.show()"
   ]
  },
  {
   "cell_type": "code",
   "execution_count": 4,
   "id": "4fa28872",
   "metadata": {},
   "outputs": [
    {
     "name": "stdout",
     "output_type": "stream",
     "text": [
      "/m/home/home8/82/sukhoba1/data/Desktop/TA-VQVAE/notebooks\r\n"
     ]
    }
   ],
   "source": [
    "!pwd"
   ]
  },
  {
   "cell_type": "code",
   "execution_count": 5,
   "id": "930bec60",
   "metadata": {},
   "outputs": [],
   "source": [
    "class Config:\n",
    "    DEVICE                      = torch.device(\"cuda\" if torch.cuda.is_available() else \"cpu\")\n",
    "\n",
    "    noise_dim                   = 32\n",
    "    hidden_width                = 7\n",
    "    hidden_height               = 7\n",
    "    num_blocks                  = 10\n",
    "    dropout_prob                = 0.1\n",
    "    \n",
    "    img_channels                = 1\n",
    "    vocab_size                  = 32\n",
    "    embedding_dim               = 128\n",
    "    commitment_cost             = 0.25\n",
    "    decay                       = 0.99\n",
    "    num_x2downsamples           = 2\n",
    "    num_resids_downsample       = 2\n",
    "    num_resids_bottleneck       = 4\n",
    "    hidden_dim                  = 256\n",
    "\n",
    "    vqvae_path                  = \"/m/home/home8/82/sukhoba1/data/Desktop/TA-VQVAE/models/vqvae_S_mnist/\"\n",
    "    vqvae_model_name            = \"vqvae_S_mnist\"\n",
    "    data_path                   = \"/m/home/home8/82/sukhoba1/data/Desktop/TA-VQVAE/data/MNIST/\"\n",
    "    \n",
    "    NUM_EPOCHS                  = 100\n",
    "    BATCH_SIZE                  = 512\n",
    "    LR                          = 0.01\n",
    "    LR_gamma                    = 0.1\n",
    "    step_LR_milestones          = [5, 10]\n",
    "\n",
    "\n",
    "CONFIG = Config()"
   ]
  },
  {
   "cell_type": "code",
   "execution_count": 6,
   "id": "8a3d4e43",
   "metadata": {},
   "outputs": [],
   "source": [
    "data_transforms = torch_transforms.Compose([\n",
    "    torch_transforms.RandomRotation(10),\n",
    "    torch_transforms.ToTensor()\n",
    "])\n",
    "\n",
    "trainset = datasets.MNIST(\n",
    "    CONFIG.data_path,\n",
    "    train=True,\n",
    "    download=False,\n",
    "    transform=data_transforms)\n",
    "\n",
    "train_loader = DataLoader(\n",
    "    trainset,\n",
    "    batch_size=CONFIG.BATCH_SIZE,\n",
    "    shuffle=True)\n",
    "\n",
    "# x, _ = next(iter(train_loader))\n",
    "# img_grid = make_grid(x[:64, :, :, :].detach().cpu())\n",
    "# show(img_grid)"
   ]
  },
  {
   "cell_type": "code",
   "execution_count": 7,
   "id": "6fcbe160",
   "metadata": {},
   "outputs": [
    {
     "data": {
      "text/plain": [
       "117.1875"
      ]
     },
     "execution_count": 7,
     "metadata": {},
     "output_type": "execute_result"
    }
   ],
   "source": [
    "len(trainset) / CONFIG.BATCH_SIZE"
   ]
  },
  {
   "cell_type": "code",
   "execution_count": 8,
   "id": "d74f4f95",
   "metadata": {},
   "outputs": [],
   "source": [
    "class Generator(nn.Module):\n",
    "    def __init__(self,\n",
    "                 noise_dim,\n",
    "                 hidden_width,\n",
    "                 hidden_height,\n",
    "                 embedding_dim,\n",
    "                 num_blocks,\n",
    "                 dropout_prob):\n",
    "        super(Generator, self).__init__()\n",
    "\n",
    "        self.hidden_width = hidden_width\n",
    "        self.hidden_height = hidden_height\n",
    "        self.embedding_dim = embedding_dim\n",
    "        bias = False\n",
    "\n",
    "        self.noise_converter = nn.Sequential(\n",
    "            nn.ConvTranspose2d(in_channels=noise_dim, out_channels=embedding_dim, \n",
    "                               kernel_size=3, stride=1, padding=0, bias=bias),\n",
    "            nn.BatchNorm2d(embedding_dim),\n",
    "            nn.ReLU(),\n",
    "            nn.ConvTranspose2d(in_channels=embedding_dim, out_channels=embedding_dim, \n",
    "                               kernel_size=3, stride=1, padding=0, bias=bias),\n",
    "            nn.BatchNorm2d(embedding_dim),\n",
    "            nn.ReLU(),\n",
    "            nn.ConvTranspose2d(in_channels=embedding_dim, out_channels=embedding_dim, \n",
    "                               kernel_size=3, stride=1, padding=0, bias=bias)\n",
    "        )\n",
    "\n",
    "        self.residual = ResidualStack(\n",
    "            in_channels=embedding_dim,\n",
    "            out_channels=embedding_dim,\n",
    "            num_residual_layers=num_blocks,\n",
    "            bias=bias,\n",
    "            use_bn=True,\n",
    "            final_relu=False)\n",
    "\n",
    "    def forward(self, noise, tau=1/16, hard=False):\n",
    "        x = self.noise_converter(noise)\n",
    "        z_logits = self.residual(x)\n",
    "        #z = self.quantize(z_logits, tau=tau, hard=hard)\n",
    "        #z = F.softmax(z_logits, dim=1)\n",
    "        return z_logits\n",
    "\n",
    "    def quantize(self, z_logits, tau=1/16, hard=False):\n",
    "        return F.gumbel_softmax(z_logits, tau=tau, hard=hard, dim=1)\n"
   ]
  },
  {
   "cell_type": "code",
   "execution_count": 9,
   "id": "80f15abc",
   "metadata": {},
   "outputs": [],
   "source": [
    "class Discriminator(nn.Module):\n",
    "    def __init__(self,\n",
    "                 embedding_dim,\n",
    "                 num_blocks):\n",
    "        super(Discriminator, self).__init__()\n",
    "        \n",
    "        self.resid = ResidualStack(\n",
    "            in_channels=embedding_dim, \n",
    "            out_channels=embedding_dim, \n",
    "            num_residual_layers=num_blocks, \n",
    "            bias=True, \n",
    "            use_bn=True, \n",
    "            final_relu=False)\n",
    "        \n",
    "        channels_dims = [\n",
    "            embedding_dim // 2,\n",
    "            embedding_dim // 4,\n",
    "        ]\n",
    "        \n",
    "        self.conv = nn.Sequential(\n",
    "            nn.Conv2d(in_channels=embedding_dim,\n",
    "                      out_channels=channels_dims[0],\n",
    "                      kernel_size=3, padding=0),\n",
    "            nn.BatchNorm2d(num_features=channels_dims[0]),\n",
    "            nn.ReLU(),\n",
    "            nn.Conv2d(in_channels=channels_dims[0], \n",
    "                      out_channels=channels_dims[1], \n",
    "                      kernel_size=3, padding=0),\n",
    "            nn.BatchNorm2d(num_features=channels_dims[1]),\n",
    "            nn.ReLU(),\n",
    "            nn.Conv2d(in_channels=channels_dims[1], \n",
    "                      out_channels=channels_dims[1], \n",
    "                      kernel_size=3, padding=0),\n",
    "            nn.ReLU(),\n",
    "        )\n",
    "        \n",
    "        self.fc = nn.Linear(in_features=channels_dims[1], out_features=1)\n",
    "\n",
    "    def forward(self, x):\n",
    "        x = self.resid(x)\n",
    "        x = self.conv(x)\n",
    "        x = self.fc(x.squeeze())\n",
    "        return torch.sigmoid(x.squeeze())"
   ]
  },
  {
   "cell_type": "code",
   "execution_count": 13,
   "id": "10eb185f",
   "metadata": {},
   "outputs": [],
   "source": [
    "vqvae = VQVAE(\n",
    "    img_channels=CONFIG.img_channels,\n",
    "    num_embeddings=CONFIG.vocab_size,\n",
    "    embedding_dim=CONFIG.embedding_dim,\n",
    "    commitment_cost=CONFIG.commitment_cost,\n",
    "    decay=CONFIG.decay,\n",
    "    num_x2downsamples=CONFIG.num_x2downsamples,\n",
    "    num_resid_downsample_layers=CONFIG.num_resids_downsample,\n",
    "    num_resid_bottleneck_layers=CONFIG.num_resids_bottleneck,\n",
    "    bias=True,\n",
    "    use_batch_norm=True,\n",
    "    use_conv1x1=False)\n",
    "\n",
    "G = Generator(\n",
    "    noise_dim=CONFIG.noise_dim,\n",
    "    hidden_width=CONFIG.hidden_width,\n",
    "    hidden_height=CONFIG.hidden_height,\n",
    "    embedding_dim=CONFIG.embedding_dim,\n",
    "    num_blocks=CONFIG.num_blocks,\n",
    "    dropout_prob=CONFIG.dropout_prob)\n",
    "\n",
    "D = Discriminator(\n",
    "    embedding_dim=CONFIG.embedding_dim,\n",
    "    num_blocks=CONFIG.num_blocks)\n",
    "\n",
    "optimizer_G = optim.Adam(G.parameters(), lr=CONFIG.LR)\n",
    "optimizer_D = optim.Adam(D.parameters(), lr=CONFIG.LR)\n",
    "\n",
    "lr_scheduler_G = MultiStepLR(optimizer_G, milestones=CONFIG.step_LR_milestones, gamma=CONFIG.LR_gamma)\n",
    "lr_scheduler_D = MultiStepLR(optimizer_D, milestones=CONFIG.step_LR_milestones, gamma=CONFIG.LR_gamma)\n"
   ]
  },
  {
   "cell_type": "code",
   "execution_count": 14,
   "id": "1c530d9a",
   "metadata": {},
   "outputs": [],
   "source": [
    "vqvae.eval()\n",
    "G.train()\n",
    "D.train()\n",
    "\n",
    "vqvae.to(CONFIG.DEVICE)\n",
    "G.to(CONFIG.DEVICE)\n",
    "D.to(CONFIG.DEVICE)\n",
    "\n",
    "vqvae.load_model(\n",
    "    root_path=CONFIG.vqvae_path,\n",
    "    model_name=CONFIG.vqvae_model_name, \n",
    "    map_location=CONFIG.DEVICE)\n",
    "\n",
    "pass"
   ]
  },
  {
   "cell_type": "code",
   "execution_count": 16,
   "id": "67fd8c6f",
   "metadata": {
    "scrolled": true
   },
   "outputs": [
    {
     "name": "stdout",
     "output_type": "stream",
     "text": [
      "Device in use: cuda\n",
      "Epoch: 0 Iter: 55 GLoss: 13.76135 DLoss: 0.0023 Avg_D_real 0.99542 Avg_D_fake 1e-05\n",
      "Epoch: 0 Iter: 110 GLoss: 13.39056 DLoss: 0.49186 Avg_D_real 0.8754 Avg_D_fake 0.56499\n",
      "Epoch: 1 Iter: 165 GLoss: 12.04587 DLoss: 0.00205 Avg_D_real 0.99617 Avg_D_fake 0.00025\n",
      "Epoch: 1 Iter: 220 GLoss: 5.93765 DLoss: 0.03214 Avg_D_real 0.96414 Avg_D_fake 0.02513\n",
      "Epoch: 2 Iter: 275 GLoss: 5.34659 DLoss: 0.13021 Avg_D_real 0.81222 Avg_D_fake 0.04114\n",
      "Epoch: 2 Iter: 330 GLoss: 6.01067 DLoss: 0.04446 Avg_D_real 0.94357 Avg_D_fake 0.02981\n",
      "Epoch: 3 Iter: 385 GLoss: 5.84509 DLoss: 0.04161 Avg_D_real 0.95382 Avg_D_fake 0.02962\n",
      "Epoch: 3 Iter: 440 GLoss: 5.54082 DLoss: 0.00397 Avg_D_real 0.99904 Avg_D_fake 0.00696\n",
      "Epoch: 4 Iter: 495 GLoss: 6.95911 DLoss: 0.09059 Avg_D_real 0.96421 Avg_D_fake 0.13334\n",
      "Epoch: 4 Iter: 550 GLoss: 6.70781 DLoss: 0.04985 Avg_D_real 0.99617 Avg_D_fake 0.09134\n",
      "====== Epoch 4 ======\n"
     ]
    },
    {
     "data": {
      "image/png": "[encoded data removed]",
      "text/plain": [
       "<Figure size 576x288 with 1 Axes>"
      ]
     },
     "metadata": {
      "needs_background": "light"
     },
     "output_type": "display_data"
    },
    {
     "name": "stdout",
     "output_type": "stream",
     "text": [
      "======================\n",
      "Epoch: 5 Iter: 605 GLoss: 8.94348 DLoss: 0.26668 Avg_D_real 0.9997 Avg_D_fake 0.41278\n",
      "Epoch: 5 Iter: 660 GLoss: 8.03289 DLoss: 0.00056 Avg_D_real 0.99945 Avg_D_fake 0.00055\n",
      "Epoch: 6 Iter: 715 GLoss: 6.35839 DLoss: 0.17901 Avg_D_real 0.77609 Avg_D_fake 0.07663\n",
      "Epoch: 6 Iter: 770 GLoss: 2.70797 DLoss: 0.00728 Avg_D_real 0.99901 Avg_D_fake 0.01346\n",
      "Epoch: 6 Iter: 825 GLoss: 5.26176 DLoss: 0.02385 Avg_D_real 0.97406 Avg_D_fake 0.01606\n",
      "Epoch: 7 Iter: 880 GLoss: 5.38645 DLoss: 0.0158 Avg_D_real 0.97788 Avg_D_fake 0.00766\n",
      "Epoch: 7 Iter: 935 GLoss: 4.43081 DLoss: 0.01475 Avg_D_real 0.99693 Avg_D_fake 0.02606\n",
      "Epoch: 8 Iter: 990 GLoss: 5.4952 DLoss: 0.00408 Avg_D_real 0.99877 Avg_D_fake 0.0069\n",
      "Epoch: 8 Iter: 1045 GLoss: 12.28463 DLoss: 0.00228 Avg_D_real 0.99551 Avg_D_fake 1e-05\n",
      "Epoch: 9 Iter: 1100 GLoss: 6.16238 DLoss: 0.01255 Avg_D_real 0.9927 Avg_D_fake 0.01757\n",
      "Epoch: 9 Iter: 1155 GLoss: 8.1792 DLoss: 0.0144 Avg_D_real 0.98391 Avg_D_fake 0.01092\n",
      "====== Epoch 9 ======\n"
     ]
    },
    {
     "data": {
      "image/png": "[encoded data removed]",
      "text/plain": [
       "<Figure size 576x288 with 1 Axes>"
      ]
     },
     "metadata": {
      "needs_background": "light"
     },
     "output_type": "display_data"
    },
    {
     "name": "stdout",
     "output_type": "stream",
     "text": [
      "======================\n",
      "Epoch: 10 Iter: 1210 GLoss: 4.13143 DLoss: 10.53772 Avg_D_real 0.0 Avg_D_fake 0.00018\n",
      "Epoch: 10 Iter: 1265 GLoss: 5.1535 DLoss: 0.02982 Avg_D_real 0.98634 Avg_D_fake 0.04324\n",
      "Epoch: 11 Iter: 1320 GLoss: 55.1535 DLoss: 0.0 Avg_D_real 1.0 Avg_D_fake 0.0\n",
      "Epoch: 11 Iter: 1375 GLoss: 53.11492 DLoss: 0.0 Avg_D_real 1.0 Avg_D_fake 0.0\n",
      "Epoch: 12 Iter: 1430 GLoss: 53.11275 DLoss: 0.0 Avg_D_real 1.0 Avg_D_fake 0.0\n",
      "Epoch: 12 Iter: 1485 GLoss: 53.11082 DLoss: 0.0 Avg_D_real 1.0 Avg_D_fake 0.0\n",
      "Epoch: 13 Iter: 1540 GLoss: 53.10716 DLoss: 0.0 Avg_D_real 1.0 Avg_D_fake 0.0\n",
      "Epoch: 13 Iter: 1595 GLoss: 53.10217 DLoss: 0.0 Avg_D_real 1.0 Avg_D_fake 0.0\n",
      "Epoch: 13 Iter: 1650 GLoss: 53.10713 DLoss: 0.0 Avg_D_real 1.0 Avg_D_fake 0.0\n",
      "Epoch: 14 Iter: 1705 GLoss: 53.10434 DLoss: 0.0 Avg_D_real 1.0 Avg_D_fake 0.0\n",
      "Epoch: 14 Iter: 1760 GLoss: 53.10699 DLoss: 0.0 Avg_D_real 1.0 Avg_D_fake 0.0\n",
      "====== Epoch 14 ======\n"
     ]
    },
    {
     "data": {
      "image/png": "[encoded data removed]",
      "text/plain": [
       "<Figure size 576x288 with 1 Axes>"
      ]
     },
     "metadata": {
      "needs_background": "light"
     },
     "output_type": "display_data"
    },
    {
     "name": "stdout",
     "output_type": "stream",
     "text": [
      "======================\n",
      "Epoch: 15 Iter: 1815 GLoss: 53.10858 DLoss: 0.0 Avg_D_real 1.0 Avg_D_fake 0.0\n",
      "Epoch: 15 Iter: 1870 GLoss: 53.09949 DLoss: 0.0 Avg_D_real 1.0 Avg_D_fake 0.0\n",
      "Epoch: 16 Iter: 1925 GLoss: 53.10013 DLoss: 0.0 Avg_D_real 1.0 Avg_D_fake 0.0\n",
      "Epoch: 16 Iter: 1980 GLoss: 53.10413 DLoss: 0.0 Avg_D_real 1.0 Avg_D_fake 0.0\n",
      "Epoch: 17 Iter: 2035 GLoss: 53.11083 DLoss: 0.0 Avg_D_real 1.0 Avg_D_fake 0.0\n",
      "Epoch: 17 Iter: 2090 GLoss: 53.11591 DLoss: 0.0 Avg_D_real 1.0 Avg_D_fake 0.0\n",
      "Epoch: 18 Iter: 2145 GLoss: 53.11266 DLoss: 0.0 Avg_D_real 1.0 Avg_D_fake 0.0\n",
      "Epoch: 18 Iter: 2200 GLoss: 53.10894 DLoss: 0.0 Avg_D_real 1.0 Avg_D_fake 0.0\n",
      "Epoch: 19 Iter: 2255 GLoss: 53.10271 DLoss: 0.0 Avg_D_real 1.0 Avg_D_fake 0.0\n",
      "Epoch: 19 Iter: 2310 GLoss: 53.10984 DLoss: 0.0 Avg_D_real 1.0 Avg_D_fake 0.0\n",
      "====== Epoch 19 ======\n"
     ]
    },
    {
     "data": {
      "image/png": "[encoded data removed]",
      "text/plain": [
       "<Figure size 576x288 with 1 Axes>"
      ]
     },
     "metadata": {
      "needs_background": "light"
     },
     "output_type": "display_data"
    },
    {
     "name": "stdout",
     "output_type": "stream",
     "text": [
      "======================\n",
      "Epoch: 20 Iter: 2365 GLoss: 53.10508 DLoss: 0.0 Avg_D_real 1.0 Avg_D_fake 0.0\n",
      "Epoch: 20 Iter: 2420 GLoss: 53.11051 DLoss: 0.0 Avg_D_real 1.0 Avg_D_fake 0.0\n",
      "Epoch: 20 Iter: 2475 GLoss: 53.11462 DLoss: 0.0 Avg_D_real 1.0 Avg_D_fake 0.0\n",
      "Epoch: 21 Iter: 2530 GLoss: 53.10752 DLoss: 0.0 Avg_D_real 1.0 Avg_D_fake 0.0\n",
      "Epoch: 21 Iter: 2585 GLoss: 53.11054 DLoss: 0.0 Avg_D_real 1.0 Avg_D_fake 0.0\n",
      "Epoch: 22 Iter: 2640 GLoss: 53.10395 DLoss: 0.0 Avg_D_real 1.0 Avg_D_fake 0.0\n",
      "Epoch: 22 Iter: 2695 GLoss: 53.10228 DLoss: 0.0 Avg_D_real 1.0 Avg_D_fake 0.0\n",
      "Epoch: 23 Iter: 2750 GLoss: 53.10253 DLoss: 0.0 Avg_D_real 1.0 Avg_D_fake 0.0\n",
      "Epoch: 23 Iter: 2805 GLoss: 53.11342 DLoss: 0.0 Avg_D_real 1.0 Avg_D_fake 0.0\n",
      "Epoch: 24 Iter: 2860 GLoss: 53.11488 DLoss: 0.0 Avg_D_real 1.0 Avg_D_fake 0.0\n",
      "Epoch: 24 Iter: 2915 GLoss: 53.10612 DLoss: 0.0 Avg_D_real 1.0 Avg_D_fake 0.0\n",
      "====== Epoch 24 ======\n"
     ]
    },
    {
     "data": {
      "image/png": "[encoded data removed]",
      "text/plain": [
       "<Figure size 576x288 with 1 Axes>"
      ]
     },
     "metadata": {
      "needs_background": "light"
     },
     "output_type": "display_data"
    },
    {
     "name": "stdout",
     "output_type": "stream",
     "text": [
      "======================\n",
      "Epoch: 25 Iter: 2970 GLoss: 53.09984 DLoss: 0.0 Avg_D_real 1.0 Avg_D_fake 0.0\n",
      "Epoch: 25 Iter: 3025 GLoss: 53.10358 DLoss: 0.0 Avg_D_real 1.0 Avg_D_fake 0.0\n",
      "Epoch: 26 Iter: 3080 GLoss: 53.10372 DLoss: 0.0 Avg_D_real 1.0 Avg_D_fake 0.0\n",
      "Epoch: 26 Iter: 3135 GLoss: 53.09816 DLoss: 0.0 Avg_D_real 1.0 Avg_D_fake 0.0\n",
      "Epoch: 27 Iter: 3190 GLoss: 53.10856 DLoss: 0.0 Avg_D_real 1.0 Avg_D_fake 0.0\n",
      "Epoch: 27 Iter: 3245 GLoss: 53.11216 DLoss: 0.0 Avg_D_real 1.0 Avg_D_fake 0.0\n",
      "Epoch: 27 Iter: 3300 GLoss: 53.10357 DLoss: 0.0 Avg_D_real 1.0 Avg_D_fake 0.0\n",
      "Epoch: 28 Iter: 3355 GLoss: 53.10235 DLoss: 0.0 Avg_D_real 1.0 Avg_D_fake 0.0\n",
      "Epoch: 28 Iter: 3410 GLoss: 53.10982 DLoss: 0.0 Avg_D_real 1.0 Avg_D_fake 0.0\n",
      "Epoch: 29 Iter: 3465 GLoss: 53.10155 DLoss: 0.0 Avg_D_real 1.0 Avg_D_fake 0.0\n",
      "Epoch: 29 Iter: 3520 GLoss: 53.1114 DLoss: 0.0 Avg_D_real 1.0 Avg_D_fake 0.0\n",
      "====== Epoch 29 ======\n"
     ]
    },
    {
     "data": {
      "image/png": "[encoded data removed]",
      "text/plain": [
       "<Figure size 576x288 with 1 Axes>"
      ]
     },
     "metadata": {
      "needs_background": "light"
     },
     "output_type": "display_data"
    },
    {
     "name": "stdout",
     "output_type": "stream",
     "text": [
      "======================\n",
      "Epoch: 30 Iter: 3575 GLoss: 53.10439 DLoss: 0.0 Avg_D_real 1.0 Avg_D_fake 0.0\n",
      "Epoch: 30 Iter: 3630 GLoss: 53.11255 DLoss: 0.0 Avg_D_real 1.0 Avg_D_fake 0.0\n",
      "Epoch: 31 Iter: 3685 GLoss: 53.09876 DLoss: 0.0 Avg_D_real 1.0 Avg_D_fake 0.0\n",
      "Epoch: 31 Iter: 3740 GLoss: 53.11335 DLoss: 0.0 Avg_D_real 1.0 Avg_D_fake 0.0\n",
      "Epoch: 32 Iter: 3795 GLoss: 53.103 DLoss: 0.0 Avg_D_real 1.0 Avg_D_fake 0.0\n",
      "Epoch: 32 Iter: 3850 GLoss: 53.10783 DLoss: 0.0 Avg_D_real 1.0 Avg_D_fake 0.0\n",
      "Epoch: 33 Iter: 3905 GLoss: 53.09567 DLoss: 0.0 Avg_D_real 1.0 Avg_D_fake 0.0\n",
      "Epoch: 33 Iter: 3960 GLoss: 53.10282 DLoss: 0.0 Avg_D_real 1.0 Avg_D_fake 0.0\n",
      "Epoch: 34 Iter: 4015 GLoss: 53.11071 DLoss: 0.0 Avg_D_real 1.0 Avg_D_fake 0.0\n",
      "Epoch: 34 Iter: 4070 GLoss: 53.1115 DLoss: 0.0 Avg_D_real 1.0 Avg_D_fake 0.0\n",
      "Epoch: 34 Iter: 4125 GLoss: 53.11069 DLoss: 0.0 Avg_D_real 1.0 Avg_D_fake 0.0\n",
      "====== Epoch 34 ======\n"
     ]
    },
    {
     "data": {
      "image/png": "[encoded data removed]",
      "text/plain": [
       "<Figure size 576x288 with 1 Axes>"
      ]
     },
     "metadata": {
      "needs_background": "light"
     },
     "output_type": "display_data"
    },
    {
     "name": "stdout",
     "output_type": "stream",
     "text": [
      "======================\n"
     ]
    },
    {
     "ename": "KeyboardInterrupt",
     "evalue": "",
     "output_type": "error",
     "traceback": [
      "\u001b[0;31m---------------------------------------------------------------------------\u001b[0m",
      "\u001b[0;31mKeyboardInterrupt\u001b[0m                         Traceback (most recent call last)",
      "\u001b[0;32m<ipython-input-16-34e964e09536>\u001b[0m in \u001b[0;36m<module>\u001b[0;34m\u001b[0m\n\u001b[1;32m     31\u001b[0m         \u001b[0md_loss\u001b[0m \u001b[0;34m=\u001b[0m \u001b[0;34m(\u001b[0m\u001b[0md_loss_real\u001b[0m \u001b[0;34m+\u001b[0m \u001b[0md_loss_fake\u001b[0m\u001b[0;34m)\u001b[0m \u001b[0;34m/\u001b[0m \u001b[0;36m2\u001b[0m\u001b[0;34m\u001b[0m\u001b[0;34m\u001b[0m\u001b[0m\n\u001b[1;32m     32\u001b[0m         \u001b[0md_loss\u001b[0m\u001b[0;34m.\u001b[0m\u001b[0mbackward\u001b[0m\u001b[0;34m(\u001b[0m\u001b[0;34m)\u001b[0m\u001b[0;34m\u001b[0m\u001b[0;34m\u001b[0m\u001b[0m\n\u001b[0;32m---> 33\u001b[0;31m         \u001b[0moptimizer_D\u001b[0m\u001b[0;34m.\u001b[0m\u001b[0mstep\u001b[0m\u001b[0;34m(\u001b[0m\u001b[0;34m)\u001b[0m\u001b[0;34m\u001b[0m\u001b[0;34m\u001b[0m\u001b[0m\n\u001b[0m\u001b[1;32m     34\u001b[0m \u001b[0;34m\u001b[0m\u001b[0m\n\u001b[1;32m     35\u001b[0m         \u001b[0mavg_label_D_real\u001b[0m \u001b[0;34m=\u001b[0m \u001b[0mlabels_D_real\u001b[0m\u001b[0;34m.\u001b[0m\u001b[0mmean\u001b[0m\u001b[0;34m(\u001b[0m\u001b[0;34m)\u001b[0m\u001b[0;34m.\u001b[0m\u001b[0mitem\u001b[0m\u001b[0;34m(\u001b[0m\u001b[0;34m)\u001b[0m\u001b[0;34m\u001b[0m\u001b[0;34m\u001b[0m\u001b[0m\n",
      "\u001b[0;32m~/anaconda3/envs/tavqvae/lib/python3.8/site-packages/torch/optim/lr_scheduler.py\u001b[0m in \u001b[0;36mwrapper\u001b[0;34m(*args, **kwargs)\u001b[0m\n\u001b[1;32m     65\u001b[0m                 \u001b[0minstance\u001b[0m\u001b[0;34m.\u001b[0m\u001b[0m_step_count\u001b[0m \u001b[0;34m+=\u001b[0m \u001b[0;36m1\u001b[0m\u001b[0;34m\u001b[0m\u001b[0;34m\u001b[0m\u001b[0m\n\u001b[1;32m     66\u001b[0m                 \u001b[0mwrapped\u001b[0m \u001b[0;34m=\u001b[0m \u001b[0mfunc\u001b[0m\u001b[0;34m.\u001b[0m\u001b[0m__get__\u001b[0m\u001b[0;34m(\u001b[0m\u001b[0minstance\u001b[0m\u001b[0;34m,\u001b[0m \u001b[0mcls\u001b[0m\u001b[0;34m)\u001b[0m\u001b[0;34m\u001b[0m\u001b[0;34m\u001b[0m\u001b[0m\n\u001b[0;32m---> 67\u001b[0;31m                 \u001b[0;32mreturn\u001b[0m \u001b[0mwrapped\u001b[0m\u001b[0;34m(\u001b[0m\u001b[0;34m*\u001b[0m\u001b[0margs\u001b[0m\u001b[0;34m,\u001b[0m \u001b[0;34m**\u001b[0m\u001b[0mkwargs\u001b[0m\u001b[0;34m)\u001b[0m\u001b[0;34m\u001b[0m\u001b[0;34m\u001b[0m\u001b[0m\n\u001b[0m\u001b[1;32m     68\u001b[0m \u001b[0;34m\u001b[0m\u001b[0m\n\u001b[1;32m     69\u001b[0m             \u001b[0;31m# Note that the returned function here is no longer a bound method,\u001b[0m\u001b[0;34m\u001b[0m\u001b[0;34m\u001b[0m\u001b[0;34m\u001b[0m\u001b[0m\n",
      "\u001b[0;32m~/anaconda3/envs/tavqvae/lib/python3.8/site-packages/torch/autograd/grad_mode.py\u001b[0m in \u001b[0;36mdecorate_context\u001b[0;34m(*args, **kwargs)\u001b[0m\n\u001b[1;32m     24\u001b[0m         \u001b[0;32mdef\u001b[0m \u001b[0mdecorate_context\u001b[0m\u001b[0;34m(\u001b[0m\u001b[0;34m*\u001b[0m\u001b[0margs\u001b[0m\u001b[0;34m,\u001b[0m \u001b[0;34m**\u001b[0m\u001b[0mkwargs\u001b[0m\u001b[0;34m)\u001b[0m\u001b[0;34m:\u001b[0m\u001b[0;34m\u001b[0m\u001b[0;34m\u001b[0m\u001b[0m\n\u001b[1;32m     25\u001b[0m             \u001b[0;32mwith\u001b[0m \u001b[0mself\u001b[0m\u001b[0;34m.\u001b[0m\u001b[0m__class__\u001b[0m\u001b[0;34m(\u001b[0m\u001b[0;34m)\u001b[0m\u001b[0;34m:\u001b[0m\u001b[0;34m\u001b[0m\u001b[0;34m\u001b[0m\u001b[0m\n\u001b[0;32m---> 26\u001b[0;31m                 \u001b[0;32mreturn\u001b[0m \u001b[0mfunc\u001b[0m\u001b[0;34m(\u001b[0m\u001b[0;34m*\u001b[0m\u001b[0margs\u001b[0m\u001b[0;34m,\u001b[0m \u001b[0;34m**\u001b[0m\u001b[0mkwargs\u001b[0m\u001b[0;34m)\u001b[0m\u001b[0;34m\u001b[0m\u001b[0;34m\u001b[0m\u001b[0m\n\u001b[0m\u001b[1;32m     27\u001b[0m         \u001b[0;32mreturn\u001b[0m \u001b[0mcast\u001b[0m\u001b[0;34m(\u001b[0m\u001b[0mF\u001b[0m\u001b[0;34m,\u001b[0m \u001b[0mdecorate_context\u001b[0m\u001b[0;34m)\u001b[0m\u001b[0;34m\u001b[0m\u001b[0;34m\u001b[0m\u001b[0m\n\u001b[1;32m     28\u001b[0m \u001b[0;34m\u001b[0m\u001b[0m\n",
      "\u001b[0;32m~/anaconda3/envs/tavqvae/lib/python3.8/site-packages/torch/optim/adam.py\u001b[0m in \u001b[0;36mstep\u001b[0;34m(self, closure)\u001b[0m\n\u001b[1;32m    106\u001b[0m \u001b[0;34m\u001b[0m\u001b[0m\n\u001b[1;32m    107\u001b[0m             \u001b[0mbeta1\u001b[0m\u001b[0;34m,\u001b[0m \u001b[0mbeta2\u001b[0m \u001b[0;34m=\u001b[0m \u001b[0mgroup\u001b[0m\u001b[0;34m[\u001b[0m\u001b[0;34m'betas'\u001b[0m\u001b[0;34m]\u001b[0m\u001b[0;34m\u001b[0m\u001b[0;34m\u001b[0m\u001b[0m\n\u001b[0;32m--> 108\u001b[0;31m             F.adam(params_with_grad,\n\u001b[0m\u001b[1;32m    109\u001b[0m                    \u001b[0mgrads\u001b[0m\u001b[0;34m,\u001b[0m\u001b[0;34m\u001b[0m\u001b[0;34m\u001b[0m\u001b[0m\n\u001b[1;32m    110\u001b[0m                    \u001b[0mexp_avgs\u001b[0m\u001b[0;34m,\u001b[0m\u001b[0;34m\u001b[0m\u001b[0;34m\u001b[0m\u001b[0m\n",
      "\u001b[0;32m~/anaconda3/envs/tavqvae/lib/python3.8/site-packages/torch/optim/functional.py\u001b[0m in \u001b[0;36madam\u001b[0;34m(params, grads, exp_avgs, exp_avg_sqs, max_exp_avg_sqs, state_steps, amsgrad, beta1, beta2, lr, weight_decay, eps)\u001b[0m\n\u001b[1;32m     84\u001b[0m \u001b[0;34m\u001b[0m\u001b[0m\n\u001b[1;32m     85\u001b[0m         \u001b[0;31m# Decay the first and second moment running average coefficient\u001b[0m\u001b[0;34m\u001b[0m\u001b[0;34m\u001b[0m\u001b[0;34m\u001b[0m\u001b[0m\n\u001b[0;32m---> 86\u001b[0;31m         \u001b[0mexp_avg\u001b[0m\u001b[0;34m.\u001b[0m\u001b[0mmul_\u001b[0m\u001b[0;34m(\u001b[0m\u001b[0mbeta1\u001b[0m\u001b[0;34m)\u001b[0m\u001b[0;34m.\u001b[0m\u001b[0madd_\u001b[0m\u001b[0;34m(\u001b[0m\u001b[0mgrad\u001b[0m\u001b[0;34m,\u001b[0m \u001b[0malpha\u001b[0m\u001b[0;34m=\u001b[0m\u001b[0;36m1\u001b[0m \u001b[0;34m-\u001b[0m \u001b[0mbeta1\u001b[0m\u001b[0;34m)\u001b[0m\u001b[0;34m\u001b[0m\u001b[0;34m\u001b[0m\u001b[0m\n\u001b[0m\u001b[1;32m     87\u001b[0m         \u001b[0mexp_avg_sq\u001b[0m\u001b[0;34m.\u001b[0m\u001b[0mmul_\u001b[0m\u001b[0;34m(\u001b[0m\u001b[0mbeta2\u001b[0m\u001b[0;34m)\u001b[0m\u001b[0;34m.\u001b[0m\u001b[0maddcmul_\u001b[0m\u001b[0;34m(\u001b[0m\u001b[0mgrad\u001b[0m\u001b[0;34m,\u001b[0m \u001b[0mgrad\u001b[0m\u001b[0;34m,\u001b[0m \u001b[0mvalue\u001b[0m\u001b[0;34m=\u001b[0m\u001b[0;36m1\u001b[0m \u001b[0;34m-\u001b[0m \u001b[0mbeta2\u001b[0m\u001b[0;34m)\u001b[0m\u001b[0;34m\u001b[0m\u001b[0;34m\u001b[0m\u001b[0m\n\u001b[1;32m     88\u001b[0m         \u001b[0;32mif\u001b[0m \u001b[0mamsgrad\u001b[0m\u001b[0;34m:\u001b[0m\u001b[0;34m\u001b[0m\u001b[0;34m\u001b[0m\u001b[0m\n",
      "\u001b[0;31mKeyboardInterrupt\u001b[0m: "
     ]
    }
   ],
   "source": [
    "print(\"Device in use: {}\".format(CONFIG.DEVICE))\n",
    "\n",
    "iteration = 0\n",
    "for epoch in range(CONFIG.NUM_EPOCHS):\n",
    "    for x, label in train_loader:\n",
    "        x = x.to(CONFIG.DEVICE)\n",
    "        \n",
    "        with torch.no_grad():\n",
    "            real = vqvae.encode(x)\n",
    "\n",
    "        current_batch_dim = real.size(0)\n",
    "        labels_real = torch.full((current_batch_dim,), 1.0, device=CONFIG.DEVICE)\n",
    "        labels_fake = torch.full((current_batch_dim,), 0.0, device=CONFIG.DEVICE)\n",
    "\n",
    "        D.zero_grad()\n",
    "        G.zero_grad()\n",
    "        \n",
    "        ############################\n",
    "        ### Update Discriminator ###\n",
    "        ############################\n",
    "        \n",
    "        noise = torch.randn(current_batch_dim, CONFIG.noise_dim, 1, 1, device=CONFIG.DEVICE)\n",
    "        fake = G(noise=noise)\n",
    "\n",
    "        labels_D_real = D(real)\n",
    "        d_loss_real = F.binary_cross_entropy(labels_D_real, labels_real)\n",
    "\n",
    "        labels_D_fake = D(fake.detach())\n",
    "        d_loss_fake = F.binary_cross_entropy(labels_D_fake, labels_fake)\n",
    "\n",
    "        d_loss = (d_loss_real + d_loss_fake) / 2\n",
    "        d_loss.backward()\n",
    "        optimizer_D.step()\n",
    "\n",
    "        avg_label_D_real = labels_D_real.mean().item()\n",
    "        avg_label_D_fake = labels_D_fake.mean().item()\n",
    "\n",
    "        ############################\n",
    "        ##### Update Generator #####\n",
    "        ############################\n",
    "\n",
    "        labels_D_fake = D(fake)\n",
    "\n",
    "        g_loss = F.binary_cross_entropy(labels_D_fake, labels_real)\n",
    "        g_loss.backward()\n",
    "        optimizer_G.step()\n",
    "\n",
    "        iteration += 1\n",
    "\n",
    "        if iteration % 55 == 0:\n",
    "            print(\"Epoch: {} Iter: {} GLoss: {} DLoss: {} Avg_D_real {} Avg_D_fake {}\".format(\n",
    "                epoch, \n",
    "                iteration, \n",
    "                round(g_loss.item(), 5), \n",
    "                round(d_loss.item(), 5), \n",
    "                round(avg_label_D_real, 5), \n",
    "                round(avg_label_D_fake, 5)\n",
    "            ))\n",
    "    \n",
    "    if (epoch + 1) % 5 == 0:\n",
    "        with torch.no_grad():\n",
    "            fake_img = vqvae.q_decode(fake[:8, :, :, :])\n",
    "        img_grid = make_grid(fake_img.detach().cpu())\n",
    "        print(\"====== Epoch {} ======\".format(epoch))\n",
    "        show(img_grid)\n",
    "        print(\"======================\")"
   ]
  },
  {
   "cell_type": "code",
   "execution_count": null,
   "id": "4e6e2864",
   "metadata": {},
   "outputs": [],
   "source": []
  },
  {
   "cell_type": "code",
   "execution_count": null,
   "id": "eb001429",
   "metadata": {},
   "outputs": [],
   "source": []
  },
  {
   "cell_type": "code",
   "execution_count": null,
   "id": "55a414d8",
   "metadata": {},
   "outputs": [],
   "source": []
  },
  {
   "cell_type": "code",
   "execution_count": null,
   "id": "237a97fd",
   "metadata": {},
   "outputs": [],
   "source": []
  },
  {
   "cell_type": "code",
   "execution_count": null,
   "id": "73c3b0e1",
   "metadata": {},
   "outputs": [],
   "source": []
  },
  {
   "cell_type": "code",
   "execution_count": null,
   "id": "6dc91664",
   "metadata": {},
   "outputs": [],
   "source": []
  },
  {
   "cell_type": "code",
   "execution_count": null,
   "id": "b183b0cf",
   "metadata": {},
   "outputs": [],
   "source": []
  },
  {
   "cell_type": "code",
   "execution_count": null,
   "id": "77f8f35b",
   "metadata": {},
   "outputs": [],
   "source": []
  },
  {
   "cell_type": "code",
   "execution_count": null,
   "id": "2ad39dfa",
   "metadata": {},
   "outputs": [],
   "source": []
  },
  {
   "cell_type": "code",
   "execution_count": null,
   "id": "962e3715",
   "metadata": {},
   "outputs": [],
   "source": []
  },
  {
   "cell_type": "code",
   "execution_count": null,
   "id": "64512aef",
   "metadata": {},
   "outputs": [],
   "source": []
  },
  {
   "cell_type": "code",
   "execution_count": 12,
   "id": "ccc8f5de",
   "metadata": {},
   "outputs": [],
   "source": [
    "def compute_norm_weights(log_w):\n",
    "    log_n = torch.log(torch.tensor(float(log_w.shape[0])))\n",
    "    log_z_est = torch.logsumexp(log_w - log_n, dim=0)\n",
    "    log_w_tilde = log_w - log_z_est - log_n\n",
    "\n",
    "    w_tilde = torch.exp(log_w_tilde)\n",
    "\n",
    "    return w_tilde\n",
    "\n",
    "def multinomial_bgan_loss(D, fake_logits, reals, n_samples=8):\n",
    "    batch_size = reals.size(0)\n",
    "    n_channels = fake_logits.size(1)\n",
    "    spatial_dims = fake_logits.shape[2:]\n",
    "\n",
    "    fake_p = torch.softmax(fake_logits, dim=1).view(batch_size, n_channels, -1).transpose(1, 2)\n",
    "    fake_p = fake_p.repeat(n_samples, 1, 1).view(-1, n_channels)\n",
    "\n",
    "    samples = torch.multinomial(fake_p, num_samples=1)\n",
    "    samples = samples.view(n_samples, batch_size, *spatial_dims)\n",
    "\n",
    "    samples_one_hot = F.one_hot(samples, num_classes=n_channels).type(torch.float)\n",
    "    samples_one_hot = samples_one_hot.permute(0, 1, 4, 2, 3)\n",
    "\n",
    "    real_out = D(reals)\n",
    "    fake_out = D(samples_one_hot.view(-1, *samples_one_hot.shape[2:]))\n",
    "\n",
    "    log_w = fake_out.view(n_samples, batch_size)\n",
    "    log_g = -(samples_one_hot * (\n",
    "        fake_logits - torch.logsumexp(fake_logits, dim=1, keepdim=True)\n",
    "    ).unsqueeze(0)).mean(dim=(2, 3, 4))\n",
    "\n",
    "    w_tilde = compute_norm_weights(log_w).detach()\n",
    "\n",
    "    d_loss = F.binary_cross_entropy_with_logits(real_out, torch.ones_like(real_out)) + \\\n",
    "             F.binary_cross_entropy_with_logits(fake_out, torch.zeros_like(fake_out))\n",
    "    g_loss = (w_tilde * log_g).sum(0).mean()\n",
    "\n",
    "    p_fake = (fake_out < 0).type(torch.float).mean().detach()\n",
    "    p_real = (real_out > 0).type(torch.float).mean().detach()\n",
    "\n",
    "    return d_loss, g_loss, p_fake, p_real"
   ]
  },
  {
   "cell_type": "code",
   "execution_count": 13,
   "id": "5b652db9",
   "metadata": {
    "scrolled": false
   },
   "outputs": [
    {
     "name": "stdout",
     "output_type": "stream",
     "text": [
      "Device in use: cuda\n",
      "Epoch: 0 Iter: 25 GLoss: 0.1076 DLoss: 1.00915\n",
      "Epoch: 0 Iter: 50 GLoss: 0.10751 DLoss: 1.00655\n",
      "Epoch: 0 Iter: 75 GLoss: 0.10748 DLoss: 1.0065\n",
      "Epoch: 0 Iter: 100 GLoss: 0.10748 DLoss: 1.00648\n",
      "Epoch: 1 Iter: 125 GLoss: 0.10746 DLoss: 1.00647\n",
      "Epoch: 1 Iter: 150 GLoss: 0.10747 DLoss: 1.00646\n",
      "Epoch: 1 Iter: 175 GLoss: 0.10748 DLoss: 1.00645\n",
      "Epoch: 1 Iter: 200 GLoss: 0.10747 DLoss: 1.00645\n",
      "Epoch: 1 Iter: 225 GLoss: 0.10748 DLoss: 1.00644\n",
      "Epoch: 2 Iter: 250 GLoss: 0.10745 DLoss: 1.00644\n",
      "Epoch: 2 Iter: 275 GLoss: 0.10745 DLoss: 1.00644\n",
      "Epoch: 2 Iter: 300 GLoss: 0.10742 DLoss: 1.00643\n",
      "Epoch: 2 Iter: 325 GLoss: 0.10745 DLoss: 1.00643\n",
      "Epoch: 2 Iter: 350 GLoss: 0.10743 DLoss: 1.00643\n",
      "Epoch: 3 Iter: 375 GLoss: 0.10744 DLoss: 1.00643\n",
      "Epoch: 3 Iter: 400 GLoss: 0.10743 DLoss: 1.00642\n",
      "Epoch: 3 Iter: 425 GLoss: 0.10743 DLoss: 1.00642\n",
      "Epoch: 3 Iter: 450 GLoss: 0.10745 DLoss: 1.00642\n",
      "Epoch: 4 Iter: 475 GLoss: 0.10743 DLoss: 1.00642\n",
      "Epoch: 4 Iter: 500 GLoss: 0.10742 DLoss: 1.00642\n",
      "Epoch: 4 Iter: 525 GLoss: 0.10742 DLoss: 1.00642\n",
      "Epoch: 4 Iter: 550 GLoss: 0.10747 DLoss: 1.00642\n",
      "Epoch: 4 Iter: 575 GLoss: 0.10743 DLoss: 1.00642\n",
      "====== Epoch 4 ======\n"
     ]
    },
    {
     "data": {
      "image/png": "[encoded data removed]",
      "text/plain": [
       "<Figure size 576x288 with 1 Axes>"
      ]
     },
     "metadata": {
      "needs_background": "light"
     },
     "output_type": "display_data"
    },
    {
     "name": "stdout",
     "output_type": "stream",
     "text": [
      "======================\n",
      "Epoch: 5 Iter: 600 GLoss: 0.10742 DLoss: 1.00642\n",
      "Epoch: 5 Iter: 625 GLoss: 0.10744 DLoss: 1.00644\n",
      "Epoch: 5 Iter: 650 GLoss: 0.10745 DLoss: 1.00642\n",
      "Epoch: 5 Iter: 675 GLoss: 0.10743 DLoss: 1.00645\n",
      "Epoch: 5 Iter: 700 GLoss: 0.10743 DLoss: 1.00642\n",
      "Epoch: 6 Iter: 725 GLoss: 0.10744 DLoss: 1.00642\n",
      "Epoch: 6 Iter: 750 GLoss: 0.10742 DLoss: 1.00642\n",
      "Epoch: 6 Iter: 775 GLoss: 0.10746 DLoss: 1.00642\n",
      "Epoch: 6 Iter: 800 GLoss: 0.10744 DLoss: 1.00642\n",
      "Epoch: 6 Iter: 825 GLoss: 0.10743 DLoss: 1.00642\n",
      "Epoch: 7 Iter: 850 GLoss: 0.10743 DLoss: 1.00642\n",
      "Epoch: 7 Iter: 875 GLoss: 0.10742 DLoss: 1.01504\n",
      "Epoch: 7 Iter: 900 GLoss: 0.10744 DLoss: 1.00654\n",
      "Epoch: 7 Iter: 925 GLoss: 0.10744 DLoss: 1.00649\n",
      "Epoch: 8 Iter: 950 GLoss: 0.10743 DLoss: 1.00655\n",
      "Epoch: 8 Iter: 975 GLoss: 0.10743 DLoss: 1.00643\n",
      "Epoch: 8 Iter: 1000 GLoss: 0.10743 DLoss: 1.00642\n",
      "Epoch: 8 Iter: 1025 GLoss: 0.10744 DLoss: 1.00642\n",
      "Epoch: 8 Iter: 1050 GLoss: 0.10743 DLoss: 1.00642\n",
      "Epoch: 9 Iter: 1075 GLoss: 0.10744 DLoss: 1.00642\n",
      "Epoch: 9 Iter: 1100 GLoss: 0.10742 DLoss: 1.00642\n",
      "Epoch: 9 Iter: 1125 GLoss: 0.10744 DLoss: 1.00641\n",
      "Epoch: 9 Iter: 1150 GLoss: 0.10741 DLoss: 1.00641\n",
      "Epoch: 9 Iter: 1175 GLoss: 0.10742 DLoss: 1.00642\n",
      "====== Epoch 9 ======\n"
     ]
    },
    {
     "data": {
      "image/png": "[encoded data removed]",
      "text/plain": [
       "<Figure size 576x288 with 1 Axes>"
      ]
     },
     "metadata": {
      "needs_background": "light"
     },
     "output_type": "display_data"
    },
    {
     "name": "stdout",
     "output_type": "stream",
     "text": [
      "======================\n",
      "Epoch: 10 Iter: 1200 GLoss: 0.10742 DLoss: 1.00641\n",
      "Epoch: 10 Iter: 1225 GLoss: 0.10741 DLoss: 1.00641\n",
      "Epoch: 10 Iter: 1250 GLoss: 0.10742 DLoss: 1.00641\n",
      "Epoch: 10 Iter: 1275 GLoss: 0.10741 DLoss: 1.00646\n",
      "Epoch: 11 Iter: 1300 GLoss: 0.10742 DLoss: 1.00641\n",
      "Epoch: 11 Iter: 1325 GLoss: 0.10743 DLoss: 1.00641\n",
      "Epoch: 11 Iter: 1350 GLoss: 0.10743 DLoss: 1.00642\n",
      "Epoch: 11 Iter: 1375 GLoss: 0.10741 DLoss: 1.00641\n",
      "Epoch: 11 Iter: 1400 GLoss: 0.10743 DLoss: 1.00641\n",
      "Epoch: 12 Iter: 1425 GLoss: 0.10744 DLoss: 1.00642\n",
      "Epoch: 12 Iter: 1450 GLoss: 0.10742 DLoss: 1.00641\n",
      "Epoch: 12 Iter: 1475 GLoss: 0.10743 DLoss: 1.00641\n",
      "Epoch: 12 Iter: 1500 GLoss: 0.10742 DLoss: 1.00641\n",
      "Epoch: 12 Iter: 1525 GLoss: 0.10743 DLoss: 1.00641\n",
      "Epoch: 13 Iter: 1550 GLoss: 0.10743 DLoss: 1.00641\n",
      "Epoch: 13 Iter: 1575 GLoss: 0.10741 DLoss: 1.00642\n",
      "Epoch: 13 Iter: 1600 GLoss: 0.10743 DLoss: 1.00641\n",
      "Epoch: 13 Iter: 1625 GLoss: 0.10741 DLoss: 1.00641\n",
      "Epoch: 13 Iter: 1650 GLoss: 0.10742 DLoss: 1.00641\n",
      "Epoch: 14 Iter: 1675 GLoss: 0.1074 DLoss: 1.00641\n",
      "Epoch: 14 Iter: 1700 GLoss: 0.1074 DLoss: 1.00641\n",
      "Epoch: 14 Iter: 1725 GLoss: 0.10742 DLoss: 1.00641\n",
      "Epoch: 14 Iter: 1750 GLoss: 0.10742 DLoss: 1.00641\n",
      "====== Epoch 14 ======\n"
     ]
    },
    {
     "data": {
      "image/png": "[encoded data removed]",
      "text/plain": [
       "<Figure size 576x288 with 1 Axes>"
      ]
     },
     "metadata": {
      "needs_background": "light"
     },
     "output_type": "display_data"
    },
    {
     "name": "stdout",
     "output_type": "stream",
     "text": [
      "======================\n",
      "Epoch: 15 Iter: 1775 GLoss: 0.10741 DLoss: 1.00641\n",
      "Epoch: 15 Iter: 1800 GLoss: 0.10743 DLoss: 1.00641\n",
      "Epoch: 15 Iter: 1825 GLoss: 0.10743 DLoss: 1.00641\n",
      "Epoch: 15 Iter: 1850 GLoss: 0.10742 DLoss: 1.00641\n",
      "Epoch: 15 Iter: 1875 GLoss: 0.10743 DLoss: 1.00641\n",
      "Epoch: 16 Iter: 1900 GLoss: 0.10742 DLoss: 1.00641\n",
      "Epoch: 16 Iter: 1925 GLoss: 0.10741 DLoss: 1.00641\n",
      "Epoch: 16 Iter: 1950 GLoss: 0.10743 DLoss: 1.00641\n",
      "Epoch: 16 Iter: 1975 GLoss: 0.10742 DLoss: 1.00641\n",
      "Epoch: 16 Iter: 2000 GLoss: 0.10742 DLoss: 1.00641\n",
      "Epoch: 17 Iter: 2025 GLoss: 0.10742 DLoss: 1.00641\n",
      "Epoch: 17 Iter: 2050 GLoss: 0.10743 DLoss: 1.00641\n",
      "Epoch: 17 Iter: 2075 GLoss: 0.1074 DLoss: 1.00641\n",
      "Epoch: 17 Iter: 2100 GLoss: 0.10742 DLoss: 1.00641\n",
      "Epoch: 18 Iter: 2125 GLoss: 0.10741 DLoss: 1.00641\n",
      "Epoch: 18 Iter: 2150 GLoss: 0.10741 DLoss: 1.00641\n",
      "Epoch: 18 Iter: 2175 GLoss: 0.10743 DLoss: 1.00641\n",
      "Epoch: 18 Iter: 2200 GLoss: 0.10743 DLoss: 1.00641\n",
      "Epoch: 18 Iter: 2225 GLoss: 0.10742 DLoss: 1.00643\n",
      "Epoch: 19 Iter: 2250 GLoss: 0.10743 DLoss: 1.00641\n",
      "Epoch: 19 Iter: 2275 GLoss: 0.10741 DLoss: 1.00641\n",
      "Epoch: 19 Iter: 2300 GLoss: 0.10742 DLoss: 1.00641\n",
      "Epoch: 19 Iter: 2325 GLoss: 0.10743 DLoss: 1.00641\n",
      "Epoch: 19 Iter: 2350 GLoss: 0.1074 DLoss: 1.00641\n",
      "====== Epoch 19 ======\n"
     ]
    },
    {
     "data": {
      "image/png": "[encoded data removed]",
      "text/plain": [
       "<Figure size 576x288 with 1 Axes>"
      ]
     },
     "metadata": {
      "needs_background": "light"
     },
     "output_type": "display_data"
    },
    {
     "name": "stdout",
     "output_type": "stream",
     "text": [
      "======================\n",
      "Epoch: 20 Iter: 2375 GLoss: 0.10741 DLoss: 1.00641\n",
      "Epoch: 20 Iter: 2400 GLoss: 0.1074 DLoss: 1.00641\n",
      "Epoch: 20 Iter: 2425 GLoss: 0.10743 DLoss: 1.00646\n",
      "Epoch: 20 Iter: 2450 GLoss: 0.10742 DLoss: 1.00641\n",
      "Epoch: 20 Iter: 2475 GLoss: 0.10744 DLoss: 1.00642\n",
      "Epoch: 21 Iter: 2500 GLoss: 0.10742 DLoss: 1.00641\n",
      "Epoch: 21 Iter: 2525 GLoss: 0.1074 DLoss: 1.00641\n",
      "Epoch: 21 Iter: 2550 GLoss: 0.10744 DLoss: 1.00641\n",
      "Epoch: 21 Iter: 2575 GLoss: 0.1074 DLoss: 1.00641\n",
      "Epoch: 22 Iter: 2600 GLoss: 0.1074 DLoss: 1.00641\n",
      "Epoch: 22 Iter: 2625 GLoss: 0.10742 DLoss: 1.00641\n",
      "Epoch: 22 Iter: 2650 GLoss: 0.10743 DLoss: 1.00641\n",
      "Epoch: 22 Iter: 2675 GLoss: 0.10743 DLoss: 1.00642\n",
      "Epoch: 22 Iter: 2700 GLoss: 0.10741 DLoss: 1.00641\n",
      "Epoch: 23 Iter: 2725 GLoss: 0.10742 DLoss: 1.00641\n",
      "Epoch: 23 Iter: 2750 GLoss: 0.10742 DLoss: 1.00641\n",
      "Epoch: 23 Iter: 2775 GLoss: 0.10743 DLoss: 1.00641\n",
      "Epoch: 23 Iter: 2800 GLoss: 0.10742 DLoss: 1.00641\n",
      "Epoch: 23 Iter: 2825 GLoss: 0.10741 DLoss: 1.00641\n",
      "Epoch: 24 Iter: 2850 GLoss: 0.10742 DLoss: 1.00641\n",
      "Epoch: 24 Iter: 2875 GLoss: 0.1074 DLoss: 1.00641\n",
      "Epoch: 24 Iter: 2900 GLoss: 0.10743 DLoss: 1.00647\n",
      "Epoch: 24 Iter: 2925 GLoss: 0.10741 DLoss: 1.00641\n",
      "Epoch: 24 Iter: 2950 GLoss: 0.10743 DLoss: 1.00641\n",
      "====== Epoch 24 ======\n"
     ]
    },
    {
     "data": {
      "image/png": "[encoded data removed]",
      "text/plain": [
       "<Figure size 576x288 with 1 Axes>"
      ]
     },
     "metadata": {
      "needs_background": "light"
     },
     "output_type": "display_data"
    },
    {
     "name": "stdout",
     "output_type": "stream",
     "text": [
      "======================\n",
      "Epoch: 25 Iter: 2975 GLoss: 0.1074 DLoss: 1.00641\n",
      "Epoch: 25 Iter: 3000 GLoss: 0.10742 DLoss: 1.00641\n",
      "Epoch: 25 Iter: 3025 GLoss: 0.10745 DLoss: 1.00641\n",
      "Epoch: 25 Iter: 3050 GLoss: 0.1074 DLoss: 1.00641\n",
      "Epoch: 26 Iter: 3075 GLoss: 0.10742 DLoss: 1.00641\n",
      "Epoch: 26 Iter: 3100 GLoss: 0.10742 DLoss: 1.00641\n",
      "Epoch: 26 Iter: 3125 GLoss: 0.10742 DLoss: 1.00641\n",
      "Epoch: 26 Iter: 3150 GLoss: 0.10743 DLoss: 1.00641\n",
      "Epoch: 26 Iter: 3175 GLoss: 0.10743 DLoss: 1.00641\n",
      "Epoch: 27 Iter: 3200 GLoss: 0.10742 DLoss: 1.00641\n",
      "Epoch: 27 Iter: 3225 GLoss: 0.10745 DLoss: 1.00641\n",
      "Epoch: 27 Iter: 3250 GLoss: 0.10741 DLoss: 1.00641\n",
      "Epoch: 27 Iter: 3275 GLoss: 0.10743 DLoss: 1.00641\n",
      "Epoch: 27 Iter: 3300 GLoss: 0.10741 DLoss: 1.00641\n",
      "Epoch: 28 Iter: 3325 GLoss: 0.10742 DLoss: 1.00641\n",
      "Epoch: 28 Iter: 3350 GLoss: 0.10742 DLoss: 1.00641\n",
      "Epoch: 28 Iter: 3375 GLoss: 0.10743 DLoss: 1.00641\n",
      "Epoch: 28 Iter: 3400 GLoss: 0.10742 DLoss: 1.00641\n",
      "Epoch: 29 Iter: 3425 GLoss: 0.10743 DLoss: 1.00641\n",
      "Epoch: 29 Iter: 3450 GLoss: 0.10742 DLoss: 1.00641\n",
      "Epoch: 29 Iter: 3475 GLoss: 0.10741 DLoss: 1.00641\n",
      "Epoch: 29 Iter: 3500 GLoss: 0.10742 DLoss: 1.00641\n",
      "Epoch: 29 Iter: 3525 GLoss: 0.10741 DLoss: 1.00641\n",
      "====== Epoch 29 ======\n"
     ]
    },
    {
     "data": {
      "image/png": "[encoded data removed]",
      "text/plain": [
       "<Figure size 576x288 with 1 Axes>"
      ]
     },
     "metadata": {
      "needs_background": "light"
     },
     "output_type": "display_data"
    },
    {
     "name": "stdout",
     "output_type": "stream",
     "text": [
      "======================\n",
      "Epoch: 30 Iter: 3550 GLoss: 0.10743 DLoss: 1.00642\n",
      "Epoch: 30 Iter: 3575 GLoss: 0.1074 DLoss: 1.00641\n",
      "Epoch: 30 Iter: 3600 GLoss: 0.10742 DLoss: 1.00641\n",
      "Epoch: 30 Iter: 3625 GLoss: 0.10743 DLoss: 1.00641\n",
      "Epoch: 30 Iter: 3650 GLoss: 0.10743 DLoss: 1.00641\n",
      "Epoch: 31 Iter: 3675 GLoss: 0.10743 DLoss: 1.00641\n",
      "Epoch: 31 Iter: 3700 GLoss: 0.1074 DLoss: 1.00641\n",
      "Epoch: 31 Iter: 3725 GLoss: 0.10743 DLoss: 1.00641\n",
      "Epoch: 31 Iter: 3750 GLoss: 0.1074 DLoss: 1.00641\n",
      "Epoch: 31 Iter: 3775 GLoss: 0.10742 DLoss: 1.00641\n",
      "Epoch: 32 Iter: 3800 GLoss: 0.10741 DLoss: 1.00641\n",
      "Epoch: 32 Iter: 3825 GLoss: 0.10741 DLoss: 1.00641\n",
      "Epoch: 32 Iter: 3850 GLoss: 0.10743 DLoss: 1.00641\n",
      "Epoch: 32 Iter: 3875 GLoss: 0.10742 DLoss: 1.00641\n",
      "Epoch: 33 Iter: 3900 GLoss: 0.10743 DLoss: 1.00641\n",
      "Epoch: 33 Iter: 3925 GLoss: 0.10741 DLoss: 1.00641\n",
      "Epoch: 33 Iter: 3950 GLoss: 0.10742 DLoss: 1.00641\n",
      "Epoch: 33 Iter: 3975 GLoss: 0.10741 DLoss: 1.00641\n",
      "Epoch: 33 Iter: 4000 GLoss: 0.10744 DLoss: 1.00641\n",
      "Epoch: 34 Iter: 4025 GLoss: 0.10741 DLoss: 1.00641\n",
      "Epoch: 34 Iter: 4050 GLoss: 0.10742 DLoss: 1.00641\n",
      "Epoch: 34 Iter: 4075 GLoss: 0.10745 DLoss: 1.00641\n",
      "Epoch: 34 Iter: 4100 GLoss: 0.10741 DLoss: 1.00641\n",
      "Epoch: 34 Iter: 4125 GLoss: 0.1074 DLoss: 1.00641\n",
      "====== Epoch 34 ======\n"
     ]
    },
    {
     "data": {
      "image/png": "[encoded data removed]",
      "text/plain": [
       "<Figure size 576x288 with 1 Axes>"
      ]
     },
     "metadata": {
      "needs_background": "light"
     },
     "output_type": "display_data"
    },
    {
     "name": "stdout",
     "output_type": "stream",
     "text": [
      "======================\n",
      "Epoch: 35 Iter: 4150 GLoss: 0.10742 DLoss: 1.00641\n",
      "Epoch: 35 Iter: 4175 GLoss: 0.10743 DLoss: 1.00641\n",
      "Epoch: 35 Iter: 4200 GLoss: 0.10745 DLoss: 1.00641\n",
      "Epoch: 35 Iter: 4225 GLoss: 0.10743 DLoss: 1.00641\n",
      "Epoch: 36 Iter: 4250 GLoss: 0.10741 DLoss: 1.00641\n",
      "Epoch: 36 Iter: 4275 GLoss: 0.10742 DLoss: 1.00641\n",
      "Epoch: 36 Iter: 4300 GLoss: 0.10742 DLoss: 1.00641\n",
      "Epoch: 36 Iter: 4325 GLoss: 0.10742 DLoss: 1.00641\n",
      "Epoch: 36 Iter: 4350 GLoss: 0.10742 DLoss: 1.00641\n",
      "Epoch: 37 Iter: 4375 GLoss: 0.10742 DLoss: 1.00641\n",
      "Epoch: 37 Iter: 4400 GLoss: 0.10742 DLoss: 1.00641\n",
      "Epoch: 37 Iter: 4425 GLoss: 0.10741 DLoss: 1.00641\n",
      "Epoch: 37 Iter: 4450 GLoss: 0.10741 DLoss: 1.00643\n",
      "Epoch: 37 Iter: 4475 GLoss: 0.10741 DLoss: 1.00642\n",
      "Epoch: 38 Iter: 4500 GLoss: 0.10742 DLoss: 1.00644\n",
      "Epoch: 38 Iter: 4525 GLoss: 0.10742 DLoss: 1.00645\n",
      "Epoch: 38 Iter: 4550 GLoss: 0.10742 DLoss: 1.00646\n",
      "Epoch: 38 Iter: 4575 GLoss: 0.10744 DLoss: 1.00641\n",
      "Epoch: 38 Iter: 4600 GLoss: 0.10741 DLoss: 1.00641\n",
      "Epoch: 39 Iter: 4625 GLoss: 0.10743 DLoss: 1.00641\n"
     ]
    },
    {
     "ename": "KeyboardInterrupt",
     "evalue": "",
     "output_type": "error",
     "traceback": [
      "\u001b[0;31m---------------------------------------------------------------------------\u001b[0m",
      "\u001b[0;31mKeyboardInterrupt\u001b[0m                         Traceback (most recent call last)",
      "\u001b[0;32m<ipython-input-13-a19dfedc2b16>\u001b[0m in \u001b[0;36m<module>\u001b[0;34m\u001b[0m\n\u001b[1;32m     28\u001b[0m         \u001b[0mtorch\u001b[0m\u001b[0;34m.\u001b[0m\u001b[0mautograd\u001b[0m\u001b[0;34m.\u001b[0m\u001b[0mbackward\u001b[0m\u001b[0;34m(\u001b[0m\u001b[0;34m[\u001b[0m\u001b[0md_loss\u001b[0m\u001b[0;34m,\u001b[0m \u001b[0mg_loss\u001b[0m\u001b[0;34m]\u001b[0m\u001b[0;34m)\u001b[0m\u001b[0;34m\u001b[0m\u001b[0;34m\u001b[0m\u001b[0m\n\u001b[1;32m     29\u001b[0m \u001b[0;34m\u001b[0m\u001b[0m\n\u001b[0;32m---> 30\u001b[0;31m         \u001b[0moptimizer_D\u001b[0m\u001b[0;34m.\u001b[0m\u001b[0mstep\u001b[0m\u001b[0;34m(\u001b[0m\u001b[0;34m)\u001b[0m\u001b[0;34m\u001b[0m\u001b[0;34m\u001b[0m\u001b[0m\n\u001b[0m\u001b[1;32m     31\u001b[0m         \u001b[0moptimizer_G\u001b[0m\u001b[0;34m.\u001b[0m\u001b[0mstep\u001b[0m\u001b[0;34m(\u001b[0m\u001b[0;34m)\u001b[0m\u001b[0;34m\u001b[0m\u001b[0;34m\u001b[0m\u001b[0m\n\u001b[1;32m     32\u001b[0m \u001b[0;34m\u001b[0m\u001b[0m\n",
      "\u001b[0;32m~/anaconda3/envs/tavqvae/lib/python3.8/site-packages/torch/optim/lr_scheduler.py\u001b[0m in \u001b[0;36mwrapper\u001b[0;34m(*args, **kwargs)\u001b[0m\n\u001b[1;32m     65\u001b[0m                 \u001b[0minstance\u001b[0m\u001b[0;34m.\u001b[0m\u001b[0m_step_count\u001b[0m \u001b[0;34m+=\u001b[0m \u001b[0;36m1\u001b[0m\u001b[0;34m\u001b[0m\u001b[0;34m\u001b[0m\u001b[0m\n\u001b[1;32m     66\u001b[0m                 \u001b[0mwrapped\u001b[0m \u001b[0;34m=\u001b[0m \u001b[0mfunc\u001b[0m\u001b[0;34m.\u001b[0m\u001b[0m__get__\u001b[0m\u001b[0;34m(\u001b[0m\u001b[0minstance\u001b[0m\u001b[0;34m,\u001b[0m \u001b[0mcls\u001b[0m\u001b[0;34m)\u001b[0m\u001b[0;34m\u001b[0m\u001b[0;34m\u001b[0m\u001b[0m\n\u001b[0;32m---> 67\u001b[0;31m                 \u001b[0;32mreturn\u001b[0m \u001b[0mwrapped\u001b[0m\u001b[0;34m(\u001b[0m\u001b[0;34m*\u001b[0m\u001b[0margs\u001b[0m\u001b[0;34m,\u001b[0m \u001b[0;34m**\u001b[0m\u001b[0mkwargs\u001b[0m\u001b[0;34m)\u001b[0m\u001b[0;34m\u001b[0m\u001b[0;34m\u001b[0m\u001b[0m\n\u001b[0m\u001b[1;32m     68\u001b[0m \u001b[0;34m\u001b[0m\u001b[0m\n\u001b[1;32m     69\u001b[0m             \u001b[0;31m# Note that the returned function here is no longer a bound method,\u001b[0m\u001b[0;34m\u001b[0m\u001b[0;34m\u001b[0m\u001b[0;34m\u001b[0m\u001b[0m\n",
      "\u001b[0;32m~/anaconda3/envs/tavqvae/lib/python3.8/site-packages/torch/autograd/grad_mode.py\u001b[0m in \u001b[0;36mdecorate_context\u001b[0;34m(*args, **kwargs)\u001b[0m\n\u001b[1;32m     24\u001b[0m         \u001b[0;32mdef\u001b[0m \u001b[0mdecorate_context\u001b[0m\u001b[0;34m(\u001b[0m\u001b[0;34m*\u001b[0m\u001b[0margs\u001b[0m\u001b[0;34m,\u001b[0m \u001b[0;34m**\u001b[0m\u001b[0mkwargs\u001b[0m\u001b[0;34m)\u001b[0m\u001b[0;34m:\u001b[0m\u001b[0;34m\u001b[0m\u001b[0;34m\u001b[0m\u001b[0m\n\u001b[1;32m     25\u001b[0m             \u001b[0;32mwith\u001b[0m \u001b[0mself\u001b[0m\u001b[0;34m.\u001b[0m\u001b[0m__class__\u001b[0m\u001b[0;34m(\u001b[0m\u001b[0;34m)\u001b[0m\u001b[0;34m:\u001b[0m\u001b[0;34m\u001b[0m\u001b[0;34m\u001b[0m\u001b[0m\n\u001b[0;32m---> 26\u001b[0;31m                 \u001b[0;32mreturn\u001b[0m \u001b[0mfunc\u001b[0m\u001b[0;34m(\u001b[0m\u001b[0;34m*\u001b[0m\u001b[0margs\u001b[0m\u001b[0;34m,\u001b[0m \u001b[0;34m**\u001b[0m\u001b[0mkwargs\u001b[0m\u001b[0;34m)\u001b[0m\u001b[0;34m\u001b[0m\u001b[0;34m\u001b[0m\u001b[0m\n\u001b[0m\u001b[1;32m     27\u001b[0m         \u001b[0;32mreturn\u001b[0m \u001b[0mcast\u001b[0m\u001b[0;34m(\u001b[0m\u001b[0mF\u001b[0m\u001b[0;34m,\u001b[0m \u001b[0mdecorate_context\u001b[0m\u001b[0;34m)\u001b[0m\u001b[0;34m\u001b[0m\u001b[0;34m\u001b[0m\u001b[0m\n\u001b[1;32m     28\u001b[0m \u001b[0;34m\u001b[0m\u001b[0m\n",
      "\u001b[0;32m~/anaconda3/envs/tavqvae/lib/python3.8/site-packages/torch/optim/adam.py\u001b[0m in \u001b[0;36mstep\u001b[0;34m(self, closure)\u001b[0m\n\u001b[1;32m    106\u001b[0m \u001b[0;34m\u001b[0m\u001b[0m\n\u001b[1;32m    107\u001b[0m             \u001b[0mbeta1\u001b[0m\u001b[0;34m,\u001b[0m \u001b[0mbeta2\u001b[0m \u001b[0;34m=\u001b[0m \u001b[0mgroup\u001b[0m\u001b[0;34m[\u001b[0m\u001b[0;34m'betas'\u001b[0m\u001b[0;34m]\u001b[0m\u001b[0;34m\u001b[0m\u001b[0;34m\u001b[0m\u001b[0m\n\u001b[0;32m--> 108\u001b[0;31m             F.adam(params_with_grad,\n\u001b[0m\u001b[1;32m    109\u001b[0m                    \u001b[0mgrads\u001b[0m\u001b[0;34m,\u001b[0m\u001b[0;34m\u001b[0m\u001b[0;34m\u001b[0m\u001b[0m\n\u001b[1;32m    110\u001b[0m                    \u001b[0mexp_avgs\u001b[0m\u001b[0;34m,\u001b[0m\u001b[0;34m\u001b[0m\u001b[0;34m\u001b[0m\u001b[0m\n",
      "\u001b[0;32m~/anaconda3/envs/tavqvae/lib/python3.8/site-packages/torch/optim/functional.py\u001b[0m in \u001b[0;36madam\u001b[0;34m(params, grads, exp_avgs, exp_avg_sqs, max_exp_avg_sqs, state_steps, amsgrad, beta1, beta2, lr, weight_decay, eps)\u001b[0m\n\u001b[1;32m     84\u001b[0m \u001b[0;34m\u001b[0m\u001b[0m\n\u001b[1;32m     85\u001b[0m         \u001b[0;31m# Decay the first and second moment running average coefficient\u001b[0m\u001b[0;34m\u001b[0m\u001b[0;34m\u001b[0m\u001b[0;34m\u001b[0m\u001b[0m\n\u001b[0;32m---> 86\u001b[0;31m         \u001b[0mexp_avg\u001b[0m\u001b[0;34m.\u001b[0m\u001b[0mmul_\u001b[0m\u001b[0;34m(\u001b[0m\u001b[0mbeta1\u001b[0m\u001b[0;34m)\u001b[0m\u001b[0;34m.\u001b[0m\u001b[0madd_\u001b[0m\u001b[0;34m(\u001b[0m\u001b[0mgrad\u001b[0m\u001b[0;34m,\u001b[0m \u001b[0malpha\u001b[0m\u001b[0;34m=\u001b[0m\u001b[0;36m1\u001b[0m \u001b[0;34m-\u001b[0m \u001b[0mbeta1\u001b[0m\u001b[0;34m)\u001b[0m\u001b[0;34m\u001b[0m\u001b[0;34m\u001b[0m\u001b[0m\n\u001b[0m\u001b[1;32m     87\u001b[0m         \u001b[0mexp_avg_sq\u001b[0m\u001b[0;34m.\u001b[0m\u001b[0mmul_\u001b[0m\u001b[0;34m(\u001b[0m\u001b[0mbeta2\u001b[0m\u001b[0;34m)\u001b[0m\u001b[0;34m.\u001b[0m\u001b[0maddcmul_\u001b[0m\u001b[0;34m(\u001b[0m\u001b[0mgrad\u001b[0m\u001b[0;34m,\u001b[0m \u001b[0mgrad\u001b[0m\u001b[0;34m,\u001b[0m \u001b[0mvalue\u001b[0m\u001b[0;34m=\u001b[0m\u001b[0;36m1\u001b[0m \u001b[0;34m-\u001b[0m \u001b[0mbeta2\u001b[0m\u001b[0;34m)\u001b[0m\u001b[0;34m\u001b[0m\u001b[0;34m\u001b[0m\u001b[0m\n\u001b[1;32m     88\u001b[0m         \u001b[0;32mif\u001b[0m \u001b[0mamsgrad\u001b[0m\u001b[0;34m:\u001b[0m\u001b[0;34m\u001b[0m\u001b[0;34m\u001b[0m\u001b[0m\n",
      "\u001b[0;31mKeyboardInterrupt\u001b[0m: "
     ]
    }
   ],
   "source": [
    "print(\"Device in use: {}\".format(CONFIG.DEVICE))\n",
    "\n",
    "iteration = 0\n",
    "for epoch in range(CONFIG.NUM_EPOCHS):\n",
    "    for x, label in train_loader:\n",
    "        x = x.to(CONFIG.DEVICE)\n",
    "        \n",
    "        with torch.no_grad():\n",
    "            real = dvae.q_encode(x, hard=True)\n",
    "\n",
    "        current_batch_dim = real.size(0)\n",
    "        \n",
    "        #D.zero_grad()\n",
    "        #G.zero_grad()\n",
    "        \n",
    "        noise = torch.randn(current_batch_dim, CONFIG.noise_dim, 1, 1, device=CONFIG.DEVICE)\n",
    "        fake = G(noise=noise)\n",
    "        \n",
    "        d_loss, g_loss, p_fake, p_real = multinomial_bgan_loss(\n",
    "            D=D,\n",
    "            fake_logits=fake,\n",
    "            reals=real,\n",
    "            n_samples=20)\n",
    "        \n",
    "        optimizer_D.zero_grad()\n",
    "        optimizer_G.zero_grad()\n",
    "\n",
    "        torch.autograd.backward([d_loss, g_loss])\n",
    "\n",
    "        optimizer_D.step()\n",
    "        optimizer_G.step()\n",
    "        \n",
    "        iteration += 1\n",
    "\n",
    "        if iteration % 25 == 0:\n",
    "            print(\"Epoch: {} Iter: {} GLoss: {} DLoss: {}\".format(\n",
    "                epoch, \n",
    "                iteration, \n",
    "                round(g_loss.item(), 5), \n",
    "                round(d_loss.item(), 5)\n",
    "            ))\n",
    "    \n",
    "    if (epoch + 1) % 5 == 0:\n",
    "        with torch.no_grad():\n",
    "            fake_img = dvae.q_decode(fake[:8, :, :, :], hard=True)\n",
    "        img_grid = make_grid(fake_img.detach().cpu())\n",
    "        print(\"====== Epoch {} ======\".format(epoch))\n",
    "        show(img_grid)\n",
    "        print(\"======================\")"
   ]
  },
  {
   "cell_type": "code",
   "execution_count": null,
   "id": "3f1c8224",
   "metadata": {},
   "outputs": [],
   "source": []
  },
  {
   "cell_type": "code",
   "execution_count": null,
   "id": "7f6096ef",
   "metadata": {},
   "outputs": [],
   "source": []
  },
  {
   "cell_type": "code",
   "execution_count": null,
   "id": "861329f1",
   "metadata": {},
   "outputs": [],
   "source": []
  },
  {
   "cell_type": "code",
   "execution_count": null,
   "id": "3789406f",
   "metadata": {},
   "outputs": [],
   "source": []
  },
  {
   "cell_type": "code",
   "execution_count": null,
   "id": "535af797",
   "metadata": {},
   "outputs": [],
   "source": []
  },
  {
   "cell_type": "code",
   "execution_count": null,
   "id": "0ec0388c",
   "metadata": {},
   "outputs": [],
   "source": []
  },
  {
   "cell_type": "code",
   "execution_count": null,
   "id": "e84c1d2f",
   "metadata": {},
   "outputs": [],
   "source": []
  },
  {
   "cell_type": "code",
   "execution_count": null,
   "id": "39078ba1",
   "metadata": {},
   "outputs": [],
   "source": []
  },
  {
   "cell_type": "code",
   "execution_count": null,
   "id": "daf6d6a4",
   "metadata": {},
   "outputs": [],
   "source": []
  },
  {
   "cell_type": "code",
   "execution_count": null,
   "id": "dac565d6",
   "metadata": {},
   "outputs": [],
   "source": []
  },
  {
   "cell_type": "code",
   "execution_count": null,
   "id": "9771bc9f",
   "metadata": {},
   "outputs": [],
   "source": []
  },
  {
   "cell_type": "code",
   "execution_count": null,
   "id": "1e36ecf5",
   "metadata": {},
   "outputs": [],
   "source": []
  },
  {
   "cell_type": "code",
   "execution_count": null,
   "id": "87b9650e",
   "metadata": {},
   "outputs": [],
   "source": []
  },
  {
   "cell_type": "code",
   "execution_count": null,
   "id": "be961a89",
   "metadata": {},
   "outputs": [],
   "source": []
  },
  {
   "cell_type": "code",
   "execution_count": null,
   "id": "59a3566e",
   "metadata": {},
   "outputs": [],
   "source": []
  },
  {
   "cell_type": "code",
   "execution_count": 13,
   "id": "e82fc22c",
   "metadata": {
    "scrolled": false
   },
   "outputs": [
    {
     "name": "stdout",
     "output_type": "stream",
     "text": [
      "Device in use: cuda\n",
      "Epoch: 0 Iter: 55 GLoss: 1.05022 DLoss: 0.44164 Avg_D_real 0.70655 Avg_D_fake 0.40301 Temperature 9.89408\n",
      "Epoch: 0 Iter: 110 GLoss: 1.83389 DLoss: 0.20154 Avg_D_real 0.83065 Avg_D_fake 0.18881 Temperature 9.78417\n",
      "Epoch: 1 Iter: 165 GLoss: 2.49585 DLoss: 0.08786 Avg_D_real 0.91976 Avg_D_fake 0.08718 Temperature 9.67426\n",
      "Epoch: 1 Iter: 220 GLoss: 2.71341 DLoss: 0.09403 Avg_D_real 0.92536 Avg_D_fake 0.09996 Temperature 9.56435\n",
      "Epoch: 2 Iter: 275 GLoss: 3.17596 DLoss: 0.04698 Avg_D_real 0.95588 Avg_D_fake 0.04684 Temperature 9.45444\n",
      "Epoch: 2 Iter: 330 GLoss: 3.61226 DLoss: 0.03056 Avg_D_real 0.96891 Avg_D_fake 0.02896 Temperature 9.34452\n",
      "Epoch: 3 Iter: 385 GLoss: 3.80721 DLoss: 0.03644 Avg_D_real 0.95535 Avg_D_fake 0.02438 Temperature 9.23461\n",
      "Epoch: 3 Iter: 440 GLoss: 4.10701 DLoss: 0.01929 Avg_D_real 0.9792 Avg_D_fake 0.01726 Temperature 9.1247\n",
      "Epoch: 4 Iter: 495 GLoss: 4.25331 DLoss: 0.01501 Avg_D_real 0.985 Avg_D_fake 0.01477 Temperature 9.01479\n",
      "Epoch: 4 Iter: 550 GLoss: 4.35207 DLoss: 0.01313 Avg_D_real 0.98768 Avg_D_fake 0.01373 Temperature 8.90488\n",
      "====== Epoch 4 ======\n"
     ]
    },
    {
     "data": {
      "image/png": "[encoded data removed]",
      "text/plain": [
       "<Figure size 576x288 with 1 Axes>"
      ]
     },
     "metadata": {
      "needs_background": "light"
     },
     "output_type": "display_data"
    },
    {
     "name": "stdout",
     "output_type": "stream",
     "text": [
      "======================\n",
      "Epoch: 5 Iter: 605 GLoss: 4.51532 DLoss: 0.01176 Avg_D_real 0.98857 Avg_D_fake 0.01191 Temperature 8.79496\n"
     ]
    },
    {
     "ename": "KeyboardInterrupt",
     "evalue": "",
     "output_type": "error",
     "traceback": [
      "\u001b[0;31m---------------------------------------------------------------------------\u001b[0m",
      "\u001b[0;31mKeyboardInterrupt\u001b[0m                         Traceback (most recent call last)",
      "\u001b[0;32m<ipython-input-13-146af8216129>\u001b[0m in \u001b[0;36m<module>\u001b[0;34m\u001b[0m\n\u001b[1;32m     33\u001b[0m         \u001b[0md_loss\u001b[0m \u001b[0;34m=\u001b[0m \u001b[0;34m(\u001b[0m\u001b[0md_loss_real\u001b[0m \u001b[0;34m+\u001b[0m \u001b[0md_loss_fake\u001b[0m\u001b[0;34m)\u001b[0m \u001b[0;34m/\u001b[0m \u001b[0;36m2\u001b[0m\u001b[0;34m\u001b[0m\u001b[0;34m\u001b[0m\u001b[0m\n\u001b[1;32m     34\u001b[0m         \u001b[0md_loss\u001b[0m\u001b[0;34m.\u001b[0m\u001b[0mbackward\u001b[0m\u001b[0;34m(\u001b[0m\u001b[0;34m)\u001b[0m\u001b[0;34m\u001b[0m\u001b[0;34m\u001b[0m\u001b[0m\n\u001b[0;32m---> 35\u001b[0;31m         \u001b[0moptimizer_D\u001b[0m\u001b[0;34m.\u001b[0m\u001b[0mstep\u001b[0m\u001b[0;34m(\u001b[0m\u001b[0;34m)\u001b[0m\u001b[0;34m\u001b[0m\u001b[0;34m\u001b[0m\u001b[0m\n\u001b[0m\u001b[1;32m     36\u001b[0m \u001b[0;34m\u001b[0m\u001b[0m\n\u001b[1;32m     37\u001b[0m         \u001b[0mavg_label_D_real\u001b[0m \u001b[0;34m=\u001b[0m \u001b[0mlabels_D_real\u001b[0m\u001b[0;34m.\u001b[0m\u001b[0mmean\u001b[0m\u001b[0;34m(\u001b[0m\u001b[0;34m)\u001b[0m\u001b[0;34m.\u001b[0m\u001b[0mitem\u001b[0m\u001b[0;34m(\u001b[0m\u001b[0;34m)\u001b[0m\u001b[0;34m\u001b[0m\u001b[0;34m\u001b[0m\u001b[0m\n",
      "\u001b[0;32m~/anaconda3/envs/tavqvae/lib/python3.8/site-packages/torch/optim/lr_scheduler.py\u001b[0m in \u001b[0;36mwrapper\u001b[0;34m(*args, **kwargs)\u001b[0m\n\u001b[1;32m     65\u001b[0m                 \u001b[0minstance\u001b[0m\u001b[0;34m.\u001b[0m\u001b[0m_step_count\u001b[0m \u001b[0;34m+=\u001b[0m \u001b[0;36m1\u001b[0m\u001b[0;34m\u001b[0m\u001b[0;34m\u001b[0m\u001b[0m\n\u001b[1;32m     66\u001b[0m                 \u001b[0mwrapped\u001b[0m \u001b[0;34m=\u001b[0m \u001b[0mfunc\u001b[0m\u001b[0;34m.\u001b[0m\u001b[0m__get__\u001b[0m\u001b[0;34m(\u001b[0m\u001b[0minstance\u001b[0m\u001b[0;34m,\u001b[0m \u001b[0mcls\u001b[0m\u001b[0;34m)\u001b[0m\u001b[0;34m\u001b[0m\u001b[0;34m\u001b[0m\u001b[0m\n\u001b[0;32m---> 67\u001b[0;31m                 \u001b[0;32mreturn\u001b[0m \u001b[0mwrapped\u001b[0m\u001b[0;34m(\u001b[0m\u001b[0;34m*\u001b[0m\u001b[0margs\u001b[0m\u001b[0;34m,\u001b[0m \u001b[0;34m**\u001b[0m\u001b[0mkwargs\u001b[0m\u001b[0;34m)\u001b[0m\u001b[0;34m\u001b[0m\u001b[0;34m\u001b[0m\u001b[0m\n\u001b[0m\u001b[1;32m     68\u001b[0m \u001b[0;34m\u001b[0m\u001b[0m\n\u001b[1;32m     69\u001b[0m             \u001b[0;31m# Note that the returned function here is no longer a bound method,\u001b[0m\u001b[0;34m\u001b[0m\u001b[0;34m\u001b[0m\u001b[0;34m\u001b[0m\u001b[0m\n",
      "\u001b[0;32m~/anaconda3/envs/tavqvae/lib/python3.8/site-packages/torch/autograd/grad_mode.py\u001b[0m in \u001b[0;36mdecorate_context\u001b[0;34m(*args, **kwargs)\u001b[0m\n\u001b[1;32m     24\u001b[0m         \u001b[0;32mdef\u001b[0m \u001b[0mdecorate_context\u001b[0m\u001b[0;34m(\u001b[0m\u001b[0;34m*\u001b[0m\u001b[0margs\u001b[0m\u001b[0;34m,\u001b[0m \u001b[0;34m**\u001b[0m\u001b[0mkwargs\u001b[0m\u001b[0;34m)\u001b[0m\u001b[0;34m:\u001b[0m\u001b[0;34m\u001b[0m\u001b[0;34m\u001b[0m\u001b[0m\n\u001b[1;32m     25\u001b[0m             \u001b[0;32mwith\u001b[0m \u001b[0mself\u001b[0m\u001b[0;34m.\u001b[0m\u001b[0m__class__\u001b[0m\u001b[0;34m(\u001b[0m\u001b[0;34m)\u001b[0m\u001b[0;34m:\u001b[0m\u001b[0;34m\u001b[0m\u001b[0;34m\u001b[0m\u001b[0m\n\u001b[0;32m---> 26\u001b[0;31m                 \u001b[0;32mreturn\u001b[0m \u001b[0mfunc\u001b[0m\u001b[0;34m(\u001b[0m\u001b[0;34m*\u001b[0m\u001b[0margs\u001b[0m\u001b[0;34m,\u001b[0m \u001b[0;34m**\u001b[0m\u001b[0mkwargs\u001b[0m\u001b[0;34m)\u001b[0m\u001b[0;34m\u001b[0m\u001b[0;34m\u001b[0m\u001b[0m\n\u001b[0m\u001b[1;32m     27\u001b[0m         \u001b[0;32mreturn\u001b[0m \u001b[0mcast\u001b[0m\u001b[0;34m(\u001b[0m\u001b[0mF\u001b[0m\u001b[0;34m,\u001b[0m \u001b[0mdecorate_context\u001b[0m\u001b[0;34m)\u001b[0m\u001b[0;34m\u001b[0m\u001b[0;34m\u001b[0m\u001b[0m\n\u001b[1;32m     28\u001b[0m \u001b[0;34m\u001b[0m\u001b[0m\n",
      "\u001b[0;32m~/anaconda3/envs/tavqvae/lib/python3.8/site-packages/torch/optim/adam.py\u001b[0m in \u001b[0;36mstep\u001b[0;34m(self, closure)\u001b[0m\n\u001b[1;32m    106\u001b[0m \u001b[0;34m\u001b[0m\u001b[0m\n\u001b[1;32m    107\u001b[0m             \u001b[0mbeta1\u001b[0m\u001b[0;34m,\u001b[0m \u001b[0mbeta2\u001b[0m \u001b[0;34m=\u001b[0m \u001b[0mgroup\u001b[0m\u001b[0;34m[\u001b[0m\u001b[0;34m'betas'\u001b[0m\u001b[0;34m]\u001b[0m\u001b[0;34m\u001b[0m\u001b[0;34m\u001b[0m\u001b[0m\n\u001b[0;32m--> 108\u001b[0;31m             F.adam(params_with_grad,\n\u001b[0m\u001b[1;32m    109\u001b[0m                    \u001b[0mgrads\u001b[0m\u001b[0;34m,\u001b[0m\u001b[0;34m\u001b[0m\u001b[0;34m\u001b[0m\u001b[0m\n\u001b[1;32m    110\u001b[0m                    \u001b[0mexp_avgs\u001b[0m\u001b[0;34m,\u001b[0m\u001b[0;34m\u001b[0m\u001b[0;34m\u001b[0m\u001b[0m\n",
      "\u001b[0;32m~/anaconda3/envs/tavqvae/lib/python3.8/site-packages/torch/optim/functional.py\u001b[0m in \u001b[0;36madam\u001b[0;34m(params, grads, exp_avgs, exp_avg_sqs, max_exp_avg_sqs, state_steps, amsgrad, beta1, beta2, lr, weight_decay, eps)\u001b[0m\n\u001b[1;32m     96\u001b[0m         \u001b[0mstep_size\u001b[0m \u001b[0;34m=\u001b[0m \u001b[0mlr\u001b[0m \u001b[0;34m/\u001b[0m \u001b[0mbias_correction1\u001b[0m\u001b[0;34m\u001b[0m\u001b[0;34m\u001b[0m\u001b[0m\n\u001b[1;32m     97\u001b[0m \u001b[0;34m\u001b[0m\u001b[0m\n\u001b[0;32m---> 98\u001b[0;31m         \u001b[0mparam\u001b[0m\u001b[0;34m.\u001b[0m\u001b[0maddcdiv_\u001b[0m\u001b[0;34m(\u001b[0m\u001b[0mexp_avg\u001b[0m\u001b[0;34m,\u001b[0m \u001b[0mdenom\u001b[0m\u001b[0;34m,\u001b[0m \u001b[0mvalue\u001b[0m\u001b[0;34m=\u001b[0m\u001b[0;34m-\u001b[0m\u001b[0mstep_size\u001b[0m\u001b[0;34m)\u001b[0m\u001b[0;34m\u001b[0m\u001b[0;34m\u001b[0m\u001b[0m\n\u001b[0m",
      "\u001b[0;31mKeyboardInterrupt\u001b[0m: "
     ]
    }
   ],
   "source": [
    "print(\"Device in use: {}\".format(CONFIG.DEVICE))\n",
    "\n",
    "iteration = 0\n",
    "for epoch in range(CONFIG.NUM_EPOCHS):\n",
    "    for x, label in train_loader:\n",
    "        x = x.to(CONFIG.DEVICE)\n",
    "        \n",
    "        with torch.no_grad():\n",
    "            real = dvae.sm_encode(x)\n",
    "\n",
    "        current_batch_dim = real.size(0)\n",
    "        labels_real = torch.full((current_batch_dim,), 1.0, device=CONFIG.DEVICE)\n",
    "        labels_fake = torch.full((current_batch_dim,), 0.0, device=CONFIG.DEVICE)\n",
    "\n",
    "        D.zero_grad()\n",
    "        G.zero_grad()\n",
    "        \n",
    "        ############################\n",
    "        ### Update Discriminator ###\n",
    "        ############################\n",
    "        \n",
    "        noise = torch.randn(current_batch_dim, CONFIG.noise_dim, 1, 1, device=CONFIG.DEVICE)\n",
    "        fake = G(noise=noise)\n",
    "\n",
    "        labels_D_real = D(real)\n",
    "        d_loss_real = F.binary_cross_entropy(labels_D_real, labels_real)\n",
    "\n",
    "        labels_D_fake = D(fake.detach())\n",
    "        d_loss_fake = F.binary_cross_entropy(labels_D_fake, labels_fake)\n",
    "\n",
    "        d_loss = (d_loss_real + d_loss_fake) / 2\n",
    "        d_loss.backward()\n",
    "        optimizer_D.step()\n",
    "\n",
    "        avg_label_D_real = labels_D_real.mean().item()\n",
    "        avg_label_D_fake = labels_D_fake.mean().item()\n",
    "\n",
    "        ############################\n",
    "        ##### Update Generator #####\n",
    "        ############################\n",
    "\n",
    "        labels_D_fake = D(fake)\n",
    "\n",
    "        g_loss = F.binary_cross_entropy(labels_D_fake, labels_real)\n",
    "        g_loss.backward()\n",
    "        optimizer_G.step()\n",
    "\n",
    "        iteration += 1\n",
    "\n",
    "        if iteration % 55 == 0:\n",
    "            print(\"Epoch: {} Iter: {} GLoss: {} DLoss: {} Avg_D_real {} Avg_D_fake {} Temperature {}\".format(\n",
    "                epoch, \n",
    "                iteration, \n",
    "                round(g_loss.item(), 5), \n",
    "                round(d_loss.item(), 5), \n",
    "                round(avg_label_D_real, 5), \n",
    "                round(avg_label_D_fake, 5),\n",
    "                #round(temp, 5)\n",
    "            ))\n",
    "    \n",
    "    if (epoch + 1) % 5 == 0:\n",
    "        with torch.no_grad():\n",
    "            fake_img = dvae.q_decode(fake[:8, :, :, :], hard=True)\n",
    "        img_grid = make_grid(fake_img.detach().cpu())\n",
    "        print(\"====== Epoch {} ======\".format(epoch))\n",
    "        show(img_grid)\n",
    "        print(\"======================\")"
   ]
  },
  {
   "cell_type": "code",
   "execution_count": null,
   "id": "b3fd1f34",
   "metadata": {},
   "outputs": [],
   "source": []
  },
  {
   "cell_type": "code",
   "execution_count": null,
   "id": "27450f7e",
   "metadata": {},
   "outputs": [],
   "source": []
  },
  {
   "cell_type": "code",
   "execution_count": null,
   "id": "e27a8c75",
   "metadata": {},
   "outputs": [],
   "source": []
  },
  {
   "cell_type": "code",
   "execution_count": null,
   "id": "53197d87",
   "metadata": {},
   "outputs": [],
   "source": []
  },
  {
   "cell_type": "code",
   "execution_count": null,
   "id": "6de53df4",
   "metadata": {},
   "outputs": [],
   "source": []
  },
  {
   "cell_type": "code",
   "execution_count": null,
   "id": "887bc55e",
   "metadata": {},
   "outputs": [],
   "source": []
  },
  {
   "cell_type": "code",
   "execution_count": null,
   "id": "d2ab5967",
   "metadata": {},
   "outputs": [],
   "source": []
  },
  {
   "cell_type": "code",
   "execution_count": null,
   "id": "4a285620",
   "metadata": {},
   "outputs": [],
   "source": []
  },
  {
   "cell_type": "code",
   "execution_count": null,
   "id": "f24c86ab",
   "metadata": {},
   "outputs": [],
   "source": []
  },
  {
   "cell_type": "code",
   "execution_count": null,
   "id": "1cfc778c",
   "metadata": {},
   "outputs": [],
   "source": []
  },
  {
   "cell_type": "code",
   "execution_count": null,
   "id": "d4ec2c12",
   "metadata": {},
   "outputs": [],
   "source": []
  },
  {
   "cell_type": "code",
   "execution_count": 8,
   "id": "21d497d6",
   "metadata": {},
   "outputs": [],
   "source": [
    "# https://github.com/Yangyangii/GAN-Tutorial/blob/master/CelebA/R1GAN.ipynb\n",
    "\n",
    "def r1loss(inputs, label=None):\n",
    "    # non-saturating loss with R1 regularization\n",
    "    l = -1 if label else 1\n",
    "    return F.softplus(l * inputs).mean()\n",
    "\n",
    "R1_GAMMA = 10"
   ]
  },
  {
   "cell_type": "code",
   "execution_count": 21,
   "id": "87e2d397",
   "metadata": {},
   "outputs": [
    {
     "name": "stdout",
     "output_type": "stream",
     "text": [
      "Device in use: cpu\n",
      "Epoch: 0 Iter: 1 GLoss: 0.6722345948219299 DLoss: 1.3876996040344238\n",
      "Epoch: 0 Iter: 2 GLoss: 0.6769079566001892 DLoss: 1.3869105577468872\n",
      "Epoch: 0 Iter: 3 GLoss: 0.6798290014266968 DLoss: 1.3869516849517822\n"
     ]
    },
    {
     "ename": "KeyboardInterrupt",
     "evalue": "",
     "output_type": "error",
     "traceback": [
      "\u001b[0;31m---------------------------------------------------------------------------\u001b[0m",
      "\u001b[0;31mKeyboardInterrupt\u001b[0m                         Traceback (most recent call last)",
      "\u001b[0;32m<ipython-input-21-6f954ba84ae9>\u001b[0m in \u001b[0;36m<module>\u001b[0;34m\u001b[0m\n\u001b[1;32m     51\u001b[0m \u001b[0;34m\u001b[0m\u001b[0m\n\u001b[1;32m     52\u001b[0m         \u001b[0mG\u001b[0m\u001b[0;34m.\u001b[0m\u001b[0mzero_grad\u001b[0m\u001b[0;34m(\u001b[0m\u001b[0;34m)\u001b[0m\u001b[0;34m\u001b[0m\u001b[0;34m\u001b[0m\u001b[0m\n\u001b[0;32m---> 53\u001b[0;31m         \u001b[0mG_loss\u001b[0m\u001b[0;34m.\u001b[0m\u001b[0mbackward\u001b[0m\u001b[0;34m(\u001b[0m\u001b[0;34m)\u001b[0m\u001b[0;34m\u001b[0m\u001b[0;34m\u001b[0m\u001b[0m\n\u001b[0m\u001b[1;32m     54\u001b[0m         \u001b[0moptimizer_G\u001b[0m\u001b[0;34m.\u001b[0m\u001b[0mstep\u001b[0m\u001b[0;34m(\u001b[0m\u001b[0;34m)\u001b[0m\u001b[0;34m\u001b[0m\u001b[0;34m\u001b[0m\u001b[0m\n\u001b[1;32m     55\u001b[0m \u001b[0;34m\u001b[0m\u001b[0m\n",
      "\u001b[0;32m~/anaconda3/envs/tavqvae/lib/python3.8/site-packages/torch/tensor.py\u001b[0m in \u001b[0;36mbackward\u001b[0;34m(self, gradient, retain_graph, create_graph)\u001b[0m\n\u001b[1;32m    219\u001b[0m                 \u001b[0mretain_graph\u001b[0m\u001b[0;34m=\u001b[0m\u001b[0mretain_graph\u001b[0m\u001b[0;34m,\u001b[0m\u001b[0;34m\u001b[0m\u001b[0;34m\u001b[0m\u001b[0m\n\u001b[1;32m    220\u001b[0m                 create_graph=create_graph)\n\u001b[0;32m--> 221\u001b[0;31m         \u001b[0mtorch\u001b[0m\u001b[0;34m.\u001b[0m\u001b[0mautograd\u001b[0m\u001b[0;34m.\u001b[0m\u001b[0mbackward\u001b[0m\u001b[0;34m(\u001b[0m\u001b[0mself\u001b[0m\u001b[0;34m,\u001b[0m \u001b[0mgradient\u001b[0m\u001b[0;34m,\u001b[0m \u001b[0mretain_graph\u001b[0m\u001b[0;34m,\u001b[0m \u001b[0mcreate_graph\u001b[0m\u001b[0;34m)\u001b[0m\u001b[0;34m\u001b[0m\u001b[0;34m\u001b[0m\u001b[0m\n\u001b[0m\u001b[1;32m    222\u001b[0m \u001b[0;34m\u001b[0m\u001b[0m\n\u001b[1;32m    223\u001b[0m     \u001b[0;32mdef\u001b[0m \u001b[0mregister_hook\u001b[0m\u001b[0;34m(\u001b[0m\u001b[0mself\u001b[0m\u001b[0;34m,\u001b[0m \u001b[0mhook\u001b[0m\u001b[0;34m)\u001b[0m\u001b[0;34m:\u001b[0m\u001b[0;34m\u001b[0m\u001b[0;34m\u001b[0m\u001b[0m\n",
      "\u001b[0;32m~/anaconda3/envs/tavqvae/lib/python3.8/site-packages/torch/autograd/__init__.py\u001b[0m in \u001b[0;36mbackward\u001b[0;34m(tensors, grad_tensors, retain_graph, create_graph, grad_variables)\u001b[0m\n\u001b[1;32m    128\u001b[0m         \u001b[0mretain_graph\u001b[0m \u001b[0;34m=\u001b[0m \u001b[0mcreate_graph\u001b[0m\u001b[0;34m\u001b[0m\u001b[0;34m\u001b[0m\u001b[0m\n\u001b[1;32m    129\u001b[0m \u001b[0;34m\u001b[0m\u001b[0m\n\u001b[0;32m--> 130\u001b[0;31m     Variable._execution_engine.run_backward(\n\u001b[0m\u001b[1;32m    131\u001b[0m         \u001b[0mtensors\u001b[0m\u001b[0;34m,\u001b[0m \u001b[0mgrad_tensors_\u001b[0m\u001b[0;34m,\u001b[0m \u001b[0mretain_graph\u001b[0m\u001b[0;34m,\u001b[0m \u001b[0mcreate_graph\u001b[0m\u001b[0;34m,\u001b[0m\u001b[0;34m\u001b[0m\u001b[0;34m\u001b[0m\u001b[0m\n\u001b[1;32m    132\u001b[0m         allow_unreachable=True)  # allow_unreachable flag\n",
      "\u001b[0;31mKeyboardInterrupt\u001b[0m: "
     ]
    }
   ],
   "source": [
    "print(\"Device in use: {}\".format(CONFIG.DEVICE))\n",
    "\n",
    "iteration = 0\n",
    "for epoch in range(CONFIG.NUM_EPOCHS):\n",
    "    for x, label in train_loader:\n",
    "        x = x.to(CONFIG.DEVICE)\n",
    "        with torch.no_grad():\n",
    "            real = dvae.q_encode(x, hard=True)\n",
    "\n",
    "        current_batch_dim = real.size(0)\n",
    "        \n",
    "        ############################\n",
    "        ### Update Discriminator ###\n",
    "        ############################\n",
    "        G.zero_grad()\n",
    "\n",
    "        # Real image\n",
    "        real.requires_grad = True\n",
    "        labels_D_real = D(real)\n",
    "\n",
    "        R1_loss = r1loss(labels_D_real, True)\n",
    "\n",
    "        grad_real = grad(outputs=labels_D_real.sum(), inputs=real, create_graph=True)[0].contiguous()\n",
    "        grad_penalty = (grad_real.view(current_batch_dim, -1).norm(2, dim=1) ** 2).mean()\n",
    "        grad_penalty = 0.5 * R1_GAMMA * grad_penalty\n",
    "\n",
    "        D_real_loss = R1_loss + grad_penalty\n",
    "\n",
    "        # Fake image\n",
    "        noise = torch.randn(current_batch_dim, CONFIG.noise_dim, device=CONFIG.DEVICE)\n",
    "        fake = G(noise, hard=True)\n",
    "\n",
    "        labels_D_fake = D(fake.detach())\n",
    "        D_fake_loss = r1loss(labels_D_fake, False)\n",
    "\n",
    "        # Discriminator loss\n",
    "        D_loss = D_real_loss + D_fake_loss\n",
    "\n",
    "        D.zero_grad()\n",
    "        D_loss.backward()\n",
    "        optimizer_D.step()\n",
    "        \n",
    "        ############################\n",
    "        ##### Update Generator #####\n",
    "        ############################\n",
    "        noise = torch.randn(current_batch_dim, CONFIG.noise_dim, device=CONFIG.DEVICE)\n",
    "        fake = G(noise, hard=True)\n",
    "\n",
    "        labels_D_fake = D(fake)\n",
    "        G_loss = r1loss(labels_D_fake, True)\n",
    "\n",
    "        G.zero_grad()\n",
    "        G_loss.backward()\n",
    "        optimizer_G.step()\n",
    "\n",
    "        iteration += 1\n",
    "\n",
    "        if iteration % 40 == 0:\n",
    "            print(\"Epoch: {} Iter: {} GLoss: {} DLoss: {}\".format(\n",
    "                epoch, iteration, G_loss.item(), D_loss.item()))\n",
    "    \n",
    "    if (epoch + 1) % 5 == 0:\n",
    "        with torch.no_grad():\n",
    "            fake_img = dvae.q_decode(fake[:8, :, :, :], hard=True)\n",
    "        img_grid = make_grid(fake_img.detach().cpu())\n",
    "        print(\"====== Epoch {} ======\".format(epoch))\n",
    "        show(img_grid)\n",
    "        print(\"======================\")"
   ]
  },
  {
   "cell_type": "code",
   "execution_count": null,
   "id": "3c030f9b",
   "metadata": {},
   "outputs": [],
   "source": [
    "# print(\"Device in use: {}\".format(CONFIG.DEVICE))\n",
    "\n",
    "# iteration = 0\n",
    "# for epoch in range(CONFIG.NUM_EPOCHS):\n",
    "#     for x, label in train_loader:\n",
    "#         x = x.to(CONFIG.DEVICE)\n",
    "#         with torch.no_grad():\n",
    "#             real = dvae.q_encode(x, hard=True)\n",
    "\n",
    "#         current_batch_dim = real.size(0)\n",
    "#         labels_real = torch.full((current_batch_dim,), 1.0, device=CONFIG.DEVICE)\n",
    "#         labels_fake = torch.full((current_batch_dim,), 0.0, device=CONFIG.DEVICE)\n",
    "\n",
    "#         ############################\n",
    "#         ### Update Discriminator ###\n",
    "#         ############################\n",
    "#         D.zero_grad()\n",
    "#         noise = torch.randn(current_batch_dim, CONFIG.noise_dim, device=CONFIG.DEVICE)\n",
    "#         fake = G(noise=noise, hard=True)\n",
    "\n",
    "#         labels_D_real = D(real)\n",
    "#         d_loss_real = F.binary_cross_entropy(labels_D_real, labels_real)\n",
    "\n",
    "#         labels_D_fake = D(fake.detach())\n",
    "#         d_loss_fake = F.binary_cross_entropy(labels_D_fake, labels_fake)\n",
    "\n",
    "#         d_loss = (d_loss_real + d_loss_fake) / 2\n",
    "#         d_loss.backward()\n",
    "#         optimizer_D.step()\n",
    "\n",
    "#         avg_label_D_real = labels_D_real.mean().item()\n",
    "#         avg_label_D_fake = labels_D_fake.mean().item()\n",
    "\n",
    "#         ############################\n",
    "#         ##### Update Generator #####\n",
    "#         ############################\n",
    "#         G.zero_grad()\n",
    "\n",
    "#         labels_D_fake = D(fake)\n",
    "\n",
    "#         g_loss = F.binary_cross_entropy(labels_D_fake, labels_real)\n",
    "#         g_loss.backward()\n",
    "#         optimizer_G.step()\n",
    "\n",
    "#         iteration += 1\n",
    "\n",
    "#         if iteration % 40 == 0:\n",
    "#             print(\"Epoch: {} Iter: {} GLoss: {} DLoss: {} Avg_D_real {} Avg_D_fake {}\".format(\n",
    "#                 epoch, iteration, g_loss.item(), d_loss.item(), avg_label_D_real, avg_label_D_fake))\n",
    "    \n",
    "#     if (epoch + 1) % 5 == 0:\n",
    "#         with torch.no_grad():\n",
    "#             fake_img = dvae.q_decode(fake[:8, :, :, :], hard=True)\n",
    "#         img_grid = make_grid(fake_img.detach().cpu())\n",
    "#         print(\"====== Epoch {} ======\".format(epoch))\n",
    "#         show(img_grid)\n",
    "#         print(\"======================\")"
   ]
  },
  {
   "cell_type": "code",
   "execution_count": null,
   "id": "87e6fd79",
   "metadata": {},
   "outputs": [],
   "source": []
  },
  {
   "cell_type": "code",
   "execution_count": null,
   "id": "5c9bde4b",
   "metadata": {},
   "outputs": [],
   "source": []
  }
 ],
 "metadata": {
  "kernelspec": {
   "display_name": "Python 3",
   "language": "python",
   "name": "python3"
  },
  "language_info": {
   "codemirror_mode": {
    "name": "ipython",
    "version": 3
   },
   "file_extension": ".py",
   "mimetype": "text/x-python",
   "name": "python",
   "nbconvert_exporter": "python",
   "pygments_lexer": "ipython3",
   "version": "3.8.5"
  }
 },
 "nbformat": 4,
 "nbformat_minor": 5
}
