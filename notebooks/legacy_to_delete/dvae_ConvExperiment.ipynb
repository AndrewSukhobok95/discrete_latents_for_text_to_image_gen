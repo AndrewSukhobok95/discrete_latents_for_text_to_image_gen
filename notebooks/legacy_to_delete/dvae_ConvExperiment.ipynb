{
 "cells": [
  {
   "cell_type": "code",
   "execution_count": 1,
   "id": "159420cd",
   "metadata": {},
   "outputs": [],
   "source": [
    "import os\n",
    "import numpy as np\n",
    "import matplotlib.pyplot as plt\n",
    "\n",
    "import torch\n",
    "import torch.nn.functional as F\n",
    "from torch.autograd import grad\n",
    "from torch import nn, optim\n",
    "\n",
    "from torchvision import datasets, transforms\n",
    "from torch.utils.data import DataLoader\n",
    "from torchvision.utils import save_image\n",
    "from torch.optim.lr_scheduler import MultiStepLR\n",
    "from torchvision.utils import make_grid\n",
    "from torchvision import transforms as torch_transforms"
   ]
  },
  {
   "cell_type": "code",
   "execution_count": 2,
   "id": "4ad6bccb",
   "metadata": {},
   "outputs": [],
   "source": [
    "import sys\n",
    "sys.path.append(\"./../\")\n",
    "\n",
    "from modules.dvae.model import DVAE\n",
    "from modules.dvae.funcs import ng_quantize\n",
    "\n",
    "from modules.common_blocks import ResidualStack\n",
    "from modules.dtr_gan.blocks import PositionalEmbedding, MLP\n",
    "from train_utils.dvae_utils import TemperatureAnnealer"
   ]
  },
  {
   "cell_type": "code",
   "execution_count": 3,
   "id": "263a51ab",
   "metadata": {},
   "outputs": [],
   "source": [
    "def show(img, figsize=(8, 4)):\n",
    "    plt.figure(figsize=figsize)\n",
    "    npimg = img.numpy()\n",
    "    fig = plt.imshow(np.transpose(npimg, (1,2,0)), interpolation='nearest')\n",
    "    fig.axes.get_xaxis().set_visible(False)\n",
    "    fig.axes.get_yaxis().set_visible(False)\n",
    "    plt.show()"
   ]
  },
  {
   "cell_type": "code",
   "execution_count": 4,
   "id": "930bec60",
   "metadata": {},
   "outputs": [],
   "source": [
    "class Config:\n",
    "    DEVICE                      = torch.device(\"cuda\" if torch.cuda.is_available() else \"cpu\")\n",
    "\n",
    "    img_channels                = 1\n",
    "    vocab_size                  = 32\n",
    "\n",
    "    noise_dim                   = 16\n",
    "    hidden_height               = 7\n",
    "    hidden_width                = 7\n",
    "\n",
    "    num_blocks                  = 10\n",
    "    n_attn_heads                = 8\n",
    "    hidden_dim                  = 256\n",
    "    dropout_prob                = 0.1\n",
    "\n",
    "    dvae_num_x2upsamples        = 2\n",
    "    dvae_num_resids_downsample  = 3\n",
    "    dvae_num_resids_bottleneck  = 4\n",
    "    dvae_hidden_dim             = 256\n",
    "\n",
    "    load_dvae_path              = \"/m/home/home8/82/sukhoba1/data/Desktop/TA-VQVAE/models/dvae_S_mnist/\"\n",
    "    dvae_model_name             = \"dvae_S_mnist\"\n",
    "    data_path                   = \"/m/home/home8/82/sukhoba1/data/Desktop/TA-VQVAE/data/MNIST/\"\n",
    "\n",
    "    temp_start                  = 10\n",
    "    temp_end                    = 0.01\n",
    "    temp_steps                  = 100 * 50\n",
    "    \n",
    "    NUM_EPOCHS                  = 100\n",
    "    BATCH_SIZE                  = 512\n",
    "    LR                          = 0.0001\n",
    "    LR_gamma                    = 0.1\n",
    "    step_LR_milestones          = [90]\n",
    "\n",
    "\n",
    "CONFIG = Config()"
   ]
  },
  {
   "cell_type": "code",
   "execution_count": 5,
   "id": "8a3d4e43",
   "metadata": {},
   "outputs": [],
   "source": [
    "data_transforms = torch_transforms.Compose([\n",
    "    torch_transforms.RandomRotation(10),\n",
    "    torch_transforms.ToTensor()\n",
    "])\n",
    "\n",
    "trainset = datasets.MNIST(\n",
    "    CONFIG.data_path,\n",
    "    train=True,\n",
    "    download=False,\n",
    "    transform=data_transforms)\n",
    "\n",
    "train_loader = DataLoader(\n",
    "    trainset,\n",
    "    batch_size=CONFIG.BATCH_SIZE,\n",
    "    shuffle=True)\n"
   ]
  },
  {
   "cell_type": "code",
   "execution_count": 6,
   "id": "6fcbe160",
   "metadata": {},
   "outputs": [
    {
     "data": {
      "text/plain": [
       "117.1875"
      ]
     },
     "execution_count": 6,
     "metadata": {},
     "output_type": "execute_result"
    }
   ],
   "source": [
    "len(trainset) / CONFIG.BATCH_SIZE"
   ]
  },
  {
   "cell_type": "code",
   "execution_count": 7,
   "id": "d74f4f95",
   "metadata": {},
   "outputs": [],
   "source": [
    "class Generator(nn.Module):\n",
    "    def __init__(self,\n",
    "                 noise_dim,\n",
    "                 hidden_width,\n",
    "                 hidden_height,\n",
    "                 embedding_dim,\n",
    "                 num_blocks,\n",
    "                 dropout_prob):\n",
    "        super(Generator, self).__init__()\n",
    "\n",
    "        self.hidden_width = hidden_width\n",
    "        self.hidden_height = hidden_height\n",
    "        self.embedding_dim = embedding_dim\n",
    "        bias = True\n",
    "\n",
    "        self.noise_converter = nn.Sequential(\n",
    "            nn.ConvTranspose2d(in_channels=noise_dim, out_channels=embedding_dim, \n",
    "                               kernel_size=3, stride=1, padding=0, bias=bias),\n",
    "            nn.BatchNorm2d(embedding_dim),\n",
    "            nn.ReLU(),\n",
    "            nn.ConvTranspose2d(in_channels=embedding_dim, out_channels=embedding_dim, \n",
    "                               kernel_size=3, stride=1, padding=0, bias=bias),\n",
    "            nn.BatchNorm2d(embedding_dim),\n",
    "            nn.ReLU(),\n",
    "            nn.ConvTranspose2d(in_channels=embedding_dim, out_channels=embedding_dim, \n",
    "                               kernel_size=3, stride=1, padding=0, bias=bias)\n",
    "        )\n",
    "\n",
    "        self.residual = ResidualStack(\n",
    "            in_channels=embedding_dim,\n",
    "            out_channels=embedding_dim,\n",
    "            num_residual_layers=num_blocks,\n",
    "            bias=bias,\n",
    "            use_bn=True,\n",
    "            final_relu=False)\n",
    "\n",
    "    def forward(self, noise):\n",
    "        x = self.noise_converter(noise)\n",
    "        z_logits = self.residual(x)\n",
    "        z = F.softmax(z_logits, dim=1)\n",
    "        return z\n"
   ]
  },
  {
   "cell_type": "code",
   "execution_count": 8,
   "id": "80f15abc",
   "metadata": {},
   "outputs": [],
   "source": [
    "class Discriminator(nn.Module):\n",
    "    def __init__(self,\n",
    "                 embedding_dim,\n",
    "                 num_blocks):\n",
    "        super(Discriminator, self).__init__()\n",
    "        \n",
    "        self.resid = ResidualStack(\n",
    "            in_channels=embedding_dim, \n",
    "            out_channels=embedding_dim, \n",
    "            num_residual_layers=num_blocks, \n",
    "            bias=True, \n",
    "            use_bn=True, \n",
    "            final_relu=False)\n",
    "        \n",
    "        channels_dims = [\n",
    "            embedding_dim // 2,\n",
    "            embedding_dim // 4,\n",
    "        ]\n",
    "        \n",
    "        self.conv = nn.Sequential(\n",
    "            nn.Conv2d(in_channels=embedding_dim,\n",
    "                      out_channels=channels_dims[0],\n",
    "                      kernel_size=3, padding=0),\n",
    "            nn.BatchNorm2d(num_features=channels_dims[0]),\n",
    "            nn.ReLU(),\n",
    "            nn.Conv2d(in_channels=channels_dims[0], \n",
    "                      out_channels=channels_dims[1], \n",
    "                      kernel_size=3, padding=0),\n",
    "            nn.BatchNorm2d(num_features=channels_dims[1]),\n",
    "            nn.ReLU(),\n",
    "            nn.Conv2d(in_channels=channels_dims[1], \n",
    "                      out_channels=channels_dims[1], \n",
    "                      kernel_size=3, padding=0),\n",
    "            nn.ReLU(),\n",
    "        )\n",
    "        \n",
    "        self.fc = nn.Linear(in_features=channels_dims[1], out_features=1)\n",
    "\n",
    "    def forward(self, x):\n",
    "        x = self.resid(x)\n",
    "        x = self.conv(x)\n",
    "        x = self.fc(x.squeeze())\n",
    "        return torch.sigmoid(x.squeeze())"
   ]
  },
  {
   "cell_type": "code",
   "execution_count": 9,
   "id": "10eb185f",
   "metadata": {},
   "outputs": [],
   "source": [
    "dvae = DVAE(\n",
    "    in_channels=CONFIG.img_channels,\n",
    "    vocab_size=CONFIG.vocab_size,\n",
    "    num_x2downsamples=CONFIG.dvae_num_x2upsamples,\n",
    "    num_resids_downsample=CONFIG.dvae_num_resids_downsample,\n",
    "    num_resids_bottleneck=CONFIG.dvae_num_resids_bottleneck,\n",
    "    hidden_dim=CONFIG.dvae_hidden_dim)\n",
    "\n",
    "G = Generator(\n",
    "    noise_dim=CONFIG.noise_dim,\n",
    "    hidden_width=CONFIG.hidden_width,\n",
    "    hidden_height=CONFIG.hidden_height,\n",
    "    embedding_dim=CONFIG.vocab_size,\n",
    "    num_blocks=CONFIG.num_blocks,\n",
    "    dropout_prob=CONFIG.dropout_prob)\n",
    "\n",
    "D = Discriminator(\n",
    "    embedding_dim=CONFIG.vocab_size,\n",
    "    num_blocks=CONFIG.num_blocks)\n",
    "\n",
    "optimizer_G = optim.Adam(G.parameters(), lr=CONFIG.LR)\n",
    "optimizer_D = optim.Adam(D.parameters(), lr=CONFIG.LR)\n",
    "\n",
    "lr_scheduler_G = MultiStepLR(optimizer_G, milestones=CONFIG.step_LR_milestones, gamma=CONFIG.LR_gamma)\n",
    "lr_scheduler_D = MultiStepLR(optimizer_D, milestones=CONFIG.step_LR_milestones, gamma=CONFIG.LR_gamma)\n"
   ]
  },
  {
   "cell_type": "code",
   "execution_count": 10,
   "id": "1c530d9a",
   "metadata": {},
   "outputs": [],
   "source": [
    "dvae.eval()\n",
    "G.train()\n",
    "D.train()\n",
    "\n",
    "dvae.load_model(\n",
    "    root_path=CONFIG.load_dvae_path,\n",
    "    model_name=CONFIG.dvae_model_name)\n",
    "\n",
    "dvae.to(CONFIG.DEVICE)\n",
    "G.to(CONFIG.DEVICE)\n",
    "D.to(CONFIG.DEVICE)\n",
    "\n",
    "pass"
   ]
  },
  {
   "cell_type": "code",
   "execution_count": 11,
   "id": "d401436d",
   "metadata": {
    "scrolled": true
   },
   "outputs": [
    {
     "name": "stdout",
     "output_type": "stream",
     "text": [
      "Device in use: cuda\n",
      "Epoch: 0 Iter: 55 GLoss: 0.90877 DLoss: 0.78597 Avg_D_real 0.77546 Avg_D_fake 0.41104\n",
      "Epoch: 0 Iter: 110 GLoss: 1.283 DLoss: 0.50297 Avg_D_real 0.84313 Avg_D_fake 0.28229\n",
      "Epoch: 1 Iter: 165 GLoss: 1.5425 DLoss: 0.37511 Avg_D_real 0.87814 Avg_D_fake 0.21708\n",
      "Epoch: 1 Iter: 220 GLoss: 1.82652 DLoss: 0.28234 Avg_D_real 0.90059 Avg_D_fake 0.16261\n",
      "Epoch: 2 Iter: 275 GLoss: 2.03231 DLoss: 0.22826 Avg_D_real 0.91746 Avg_D_fake 0.13239\n",
      "Epoch: 2 Iter: 330 GLoss: 2.2259 DLoss: 0.18821 Avg_D_real 0.93047 Avg_D_fake 0.10953\n",
      "Epoch: 3 Iter: 385 GLoss: 2.4166 DLoss: 0.15385 Avg_D_real 0.94226 Avg_D_fake 0.09002\n",
      "Epoch: 3 Iter: 440 GLoss: 2.59489 DLoss: 0.12851 Avg_D_real 0.95116 Avg_D_fake 0.07541\n",
      "Epoch: 4 Iter: 495 GLoss: 2.76953 DLoss: 0.10772 Avg_D_real 0.9584 Avg_D_fake 0.06313\n",
      "Epoch: 4 Iter: 550 GLoss: 2.90725 DLoss: 0.09386 Avg_D_real 0.96419 Avg_D_fake 0.05571\n",
      "====== Epoch 4 ======\n"
     ]
    },
    {
     "data": {
      "image/png": "[encoded data removed]",
      "text/plain": [
       "<Figure size 576x288 with 1 Axes>"
      ]
     },
     "metadata": {
      "needs_background": "light"
     },
     "output_type": "display_data"
    },
    {
     "name": "stdout",
     "output_type": "stream",
     "text": [
      "======================\n",
      "Epoch: 5 Iter: 605 GLoss: 3.06092 DLoss: 0.08054 Avg_D_real 0.96885 Avg_D_fake 0.04769\n"
     ]
    },
    {
     "ename": "KeyboardInterrupt",
     "evalue": "",
     "output_type": "error",
     "traceback": [
      "\u001b[0;31m---------------------------------------------------------------------------\u001b[0m",
      "\u001b[0;31mKeyboardInterrupt\u001b[0m                         Traceback (most recent call last)",
      "\u001b[0;32m<ipython-input-11-1e13f217008d>\u001b[0m in \u001b[0;36m<module>\u001b[0;34m\u001b[0m\n\u001b[1;32m     32\u001b[0m         \u001b[0md_loss\u001b[0m \u001b[0;34m=\u001b[0m \u001b[0md_loss_real\u001b[0m \u001b[0;34m+\u001b[0m \u001b[0md_loss_fake\u001b[0m\u001b[0;34m\u001b[0m\u001b[0;34m\u001b[0m\u001b[0m\n\u001b[1;32m     33\u001b[0m         \u001b[0md_loss\u001b[0m\u001b[0;34m.\u001b[0m\u001b[0mbackward\u001b[0m\u001b[0;34m(\u001b[0m\u001b[0;34m)\u001b[0m\u001b[0;34m\u001b[0m\u001b[0;34m\u001b[0m\u001b[0m\n\u001b[0;32m---> 34\u001b[0;31m         \u001b[0moptimizer_D\u001b[0m\u001b[0;34m.\u001b[0m\u001b[0mstep\u001b[0m\u001b[0;34m(\u001b[0m\u001b[0;34m)\u001b[0m\u001b[0;34m\u001b[0m\u001b[0;34m\u001b[0m\u001b[0m\n\u001b[0m\u001b[1;32m     35\u001b[0m \u001b[0;34m\u001b[0m\u001b[0m\n\u001b[1;32m     36\u001b[0m         \u001b[0mavg_label_D_real\u001b[0m \u001b[0;34m=\u001b[0m \u001b[0mlabels_D_real\u001b[0m\u001b[0;34m.\u001b[0m\u001b[0mmean\u001b[0m\u001b[0;34m(\u001b[0m\u001b[0;34m)\u001b[0m\u001b[0;34m.\u001b[0m\u001b[0mitem\u001b[0m\u001b[0;34m(\u001b[0m\u001b[0;34m)\u001b[0m\u001b[0;34m\u001b[0m\u001b[0;34m\u001b[0m\u001b[0m\n",
      "\u001b[0;32m~/anaconda3/envs/tavqvae/lib/python3.8/site-packages/torch/optim/lr_scheduler.py\u001b[0m in \u001b[0;36mwrapper\u001b[0;34m(*args, **kwargs)\u001b[0m\n\u001b[1;32m     65\u001b[0m                 \u001b[0minstance\u001b[0m\u001b[0;34m.\u001b[0m\u001b[0m_step_count\u001b[0m \u001b[0;34m+=\u001b[0m \u001b[0;36m1\u001b[0m\u001b[0;34m\u001b[0m\u001b[0;34m\u001b[0m\u001b[0m\n\u001b[1;32m     66\u001b[0m                 \u001b[0mwrapped\u001b[0m \u001b[0;34m=\u001b[0m \u001b[0mfunc\u001b[0m\u001b[0;34m.\u001b[0m\u001b[0m__get__\u001b[0m\u001b[0;34m(\u001b[0m\u001b[0minstance\u001b[0m\u001b[0;34m,\u001b[0m \u001b[0mcls\u001b[0m\u001b[0;34m)\u001b[0m\u001b[0;34m\u001b[0m\u001b[0;34m\u001b[0m\u001b[0m\n\u001b[0;32m---> 67\u001b[0;31m                 \u001b[0;32mreturn\u001b[0m \u001b[0mwrapped\u001b[0m\u001b[0;34m(\u001b[0m\u001b[0;34m*\u001b[0m\u001b[0margs\u001b[0m\u001b[0;34m,\u001b[0m \u001b[0;34m**\u001b[0m\u001b[0mkwargs\u001b[0m\u001b[0;34m)\u001b[0m\u001b[0;34m\u001b[0m\u001b[0;34m\u001b[0m\u001b[0m\n\u001b[0m\u001b[1;32m     68\u001b[0m \u001b[0;34m\u001b[0m\u001b[0m\n\u001b[1;32m     69\u001b[0m             \u001b[0;31m# Note that the returned function here is no longer a bound method,\u001b[0m\u001b[0;34m\u001b[0m\u001b[0;34m\u001b[0m\u001b[0;34m\u001b[0m\u001b[0m\n",
      "\u001b[0;32m~/anaconda3/envs/tavqvae/lib/python3.8/site-packages/torch/autograd/grad_mode.py\u001b[0m in \u001b[0;36mdecorate_context\u001b[0;34m(*args, **kwargs)\u001b[0m\n\u001b[1;32m     24\u001b[0m         \u001b[0;32mdef\u001b[0m \u001b[0mdecorate_context\u001b[0m\u001b[0;34m(\u001b[0m\u001b[0;34m*\u001b[0m\u001b[0margs\u001b[0m\u001b[0;34m,\u001b[0m \u001b[0;34m**\u001b[0m\u001b[0mkwargs\u001b[0m\u001b[0;34m)\u001b[0m\u001b[0;34m:\u001b[0m\u001b[0;34m\u001b[0m\u001b[0;34m\u001b[0m\u001b[0m\n\u001b[1;32m     25\u001b[0m             \u001b[0;32mwith\u001b[0m \u001b[0mself\u001b[0m\u001b[0;34m.\u001b[0m\u001b[0m__class__\u001b[0m\u001b[0;34m(\u001b[0m\u001b[0;34m)\u001b[0m\u001b[0;34m:\u001b[0m\u001b[0;34m\u001b[0m\u001b[0;34m\u001b[0m\u001b[0m\n\u001b[0;32m---> 26\u001b[0;31m                 \u001b[0;32mreturn\u001b[0m \u001b[0mfunc\u001b[0m\u001b[0;34m(\u001b[0m\u001b[0;34m*\u001b[0m\u001b[0margs\u001b[0m\u001b[0;34m,\u001b[0m \u001b[0;34m**\u001b[0m\u001b[0mkwargs\u001b[0m\u001b[0;34m)\u001b[0m\u001b[0;34m\u001b[0m\u001b[0;34m\u001b[0m\u001b[0m\n\u001b[0m\u001b[1;32m     27\u001b[0m         \u001b[0;32mreturn\u001b[0m \u001b[0mcast\u001b[0m\u001b[0;34m(\u001b[0m\u001b[0mF\u001b[0m\u001b[0;34m,\u001b[0m \u001b[0mdecorate_context\u001b[0m\u001b[0;34m)\u001b[0m\u001b[0;34m\u001b[0m\u001b[0;34m\u001b[0m\u001b[0m\n\u001b[1;32m     28\u001b[0m \u001b[0;34m\u001b[0m\u001b[0m\n",
      "\u001b[0;32m~/anaconda3/envs/tavqvae/lib/python3.8/site-packages/torch/optim/adam.py\u001b[0m in \u001b[0;36mstep\u001b[0;34m(self, closure)\u001b[0m\n\u001b[1;32m    106\u001b[0m \u001b[0;34m\u001b[0m\u001b[0m\n\u001b[1;32m    107\u001b[0m             \u001b[0mbeta1\u001b[0m\u001b[0;34m,\u001b[0m \u001b[0mbeta2\u001b[0m \u001b[0;34m=\u001b[0m \u001b[0mgroup\u001b[0m\u001b[0;34m[\u001b[0m\u001b[0;34m'betas'\u001b[0m\u001b[0;34m]\u001b[0m\u001b[0;34m\u001b[0m\u001b[0;34m\u001b[0m\u001b[0m\n\u001b[0;32m--> 108\u001b[0;31m             F.adam(params_with_grad,\n\u001b[0m\u001b[1;32m    109\u001b[0m                    \u001b[0mgrads\u001b[0m\u001b[0;34m,\u001b[0m\u001b[0;34m\u001b[0m\u001b[0;34m\u001b[0m\u001b[0m\n\u001b[1;32m    110\u001b[0m                    \u001b[0mexp_avgs\u001b[0m\u001b[0;34m,\u001b[0m\u001b[0;34m\u001b[0m\u001b[0;34m\u001b[0m\u001b[0m\n",
      "\u001b[0;32m~/anaconda3/envs/tavqvae/lib/python3.8/site-packages/torch/optim/functional.py\u001b[0m in \u001b[0;36madam\u001b[0;34m(params, grads, exp_avgs, exp_avg_sqs, max_exp_avg_sqs, state_steps, amsgrad, beta1, beta2, lr, weight_decay, eps)\u001b[0m\n\u001b[1;32m     85\u001b[0m         \u001b[0;31m# Decay the first and second moment running average coefficient\u001b[0m\u001b[0;34m\u001b[0m\u001b[0;34m\u001b[0m\u001b[0;34m\u001b[0m\u001b[0m\n\u001b[1;32m     86\u001b[0m         \u001b[0mexp_avg\u001b[0m\u001b[0;34m.\u001b[0m\u001b[0mmul_\u001b[0m\u001b[0;34m(\u001b[0m\u001b[0mbeta1\u001b[0m\u001b[0;34m)\u001b[0m\u001b[0;34m.\u001b[0m\u001b[0madd_\u001b[0m\u001b[0;34m(\u001b[0m\u001b[0mgrad\u001b[0m\u001b[0;34m,\u001b[0m \u001b[0malpha\u001b[0m\u001b[0;34m=\u001b[0m\u001b[0;36m1\u001b[0m \u001b[0;34m-\u001b[0m \u001b[0mbeta1\u001b[0m\u001b[0;34m)\u001b[0m\u001b[0;34m\u001b[0m\u001b[0;34m\u001b[0m\u001b[0m\n\u001b[0;32m---> 87\u001b[0;31m         \u001b[0mexp_avg_sq\u001b[0m\u001b[0;34m.\u001b[0m\u001b[0mmul_\u001b[0m\u001b[0;34m(\u001b[0m\u001b[0mbeta2\u001b[0m\u001b[0;34m)\u001b[0m\u001b[0;34m.\u001b[0m\u001b[0maddcmul_\u001b[0m\u001b[0;34m(\u001b[0m\u001b[0mgrad\u001b[0m\u001b[0;34m,\u001b[0m \u001b[0mgrad\u001b[0m\u001b[0;34m,\u001b[0m \u001b[0mvalue\u001b[0m\u001b[0;34m=\u001b[0m\u001b[0;36m1\u001b[0m \u001b[0;34m-\u001b[0m \u001b[0mbeta2\u001b[0m\u001b[0;34m)\u001b[0m\u001b[0;34m\u001b[0m\u001b[0;34m\u001b[0m\u001b[0m\n\u001b[0m\u001b[1;32m     88\u001b[0m         \u001b[0;32mif\u001b[0m \u001b[0mamsgrad\u001b[0m\u001b[0;34m:\u001b[0m\u001b[0;34m\u001b[0m\u001b[0;34m\u001b[0m\u001b[0m\n\u001b[1;32m     89\u001b[0m             \u001b[0;31m# Maintains the maximum of all 2nd moment running avg. till now\u001b[0m\u001b[0;34m\u001b[0m\u001b[0;34m\u001b[0m\u001b[0;34m\u001b[0m\u001b[0m\n",
      "\u001b[0;31mKeyboardInterrupt\u001b[0m: "
     ]
    }
   ],
   "source": [
    "print(\"Device in use: {}\".format(CONFIG.DEVICE))\n",
    "\n",
    "iteration = 0\n",
    "for epoch in range(CONFIG.NUM_EPOCHS):\n",
    "    for x, label in train_loader:\n",
    "        x = x.to(CONFIG.DEVICE)\n",
    "        \n",
    "        with torch.no_grad():\n",
    "            real = dvae.ng_q_encode(x)\n",
    "            real = F.softmax(real + torch.rand(real.size(), device=real.device), dim=1)\n",
    "\n",
    "        current_batch_dim = real.size(0)\n",
    "        labels_real = torch.full((current_batch_dim,), 1.0, device=CONFIG.DEVICE)\n",
    "        labels_fake = torch.full((current_batch_dim,), 0.0, device=CONFIG.DEVICE)\n",
    "\n",
    "        D.zero_grad()\n",
    "        G.zero_grad()\n",
    "        \n",
    "        ############################\n",
    "        ### Update Discriminator ###\n",
    "        ############################\n",
    "        \n",
    "        noise = torch.randn(current_batch_dim, CONFIG.noise_dim, 1, 1, device=CONFIG.DEVICE)\n",
    "        fake = G(noise=noise)\n",
    "\n",
    "        labels_D_real = D(real)\n",
    "        d_loss_real = F.binary_cross_entropy(labels_D_real, labels_real)\n",
    "\n",
    "        labels_D_fake = D(fake.detach())\n",
    "        d_loss_fake = F.binary_cross_entropy(labels_D_fake, labels_fake)\n",
    "\n",
    "        d_loss = d_loss_real + d_loss_fake\n",
    "        d_loss.backward()\n",
    "        optimizer_D.step()\n",
    "\n",
    "        avg_label_D_real = labels_D_real.mean().item()\n",
    "        avg_label_D_fake = labels_D_fake.mean().item()\n",
    "\n",
    "        ############################\n",
    "        ##### Update Generator #####\n",
    "        ############################\n",
    "\n",
    "        labels_D_fake = D(fake)\n",
    "\n",
    "        g_loss = F.binary_cross_entropy(labels_D_fake, labels_real)\n",
    "        g_loss.backward()\n",
    "        optimizer_G.step()\n",
    "\n",
    "        iteration += 1\n",
    "\n",
    "        if iteration % 55 == 0:\n",
    "            print(\"Epoch: {} Iter: {} GLoss: {} DLoss: {} Avg_D_real {} Avg_D_fake {}\".format(\n",
    "                epoch, \n",
    "                iteration, \n",
    "                round(g_loss.item(), 5), \n",
    "                round(d_loss.item(), 5), \n",
    "                round(avg_label_D_real, 5), \n",
    "                round(avg_label_D_fake, 5),\n",
    "                #round(temp, 5)\n",
    "            ))\n",
    "    \n",
    "    if (epoch + 1) % 5 == 0:\n",
    "        with torch.no_grad():\n",
    "            fake_img = dvae.ng_q_decode(fake[:8, :, :, :])\n",
    "        img_grid = make_grid(fake_img.detach().cpu())\n",
    "        print(\"====== Epoch {} ======\".format(epoch))\n",
    "        show(img_grid)\n",
    "        print(\"======================\")"
   ]
  },
  {
   "cell_type": "code",
   "execution_count": null,
   "id": "39881be7",
   "metadata": {},
   "outputs": [],
   "source": []
  },
  {
   "cell_type": "code",
   "execution_count": null,
   "id": "ba52b5cf",
   "metadata": {},
   "outputs": [],
   "source": []
  },
  {
   "cell_type": "code",
   "execution_count": null,
   "id": "bb6a7c20",
   "metadata": {},
   "outputs": [],
   "source": []
  },
  {
   "cell_type": "code",
   "execution_count": null,
   "id": "f77683bf",
   "metadata": {},
   "outputs": [],
   "source": []
  },
  {
   "cell_type": "code",
   "execution_count": null,
   "id": "94e0d3d7",
   "metadata": {},
   "outputs": [],
   "source": []
  },
  {
   "cell_type": "code",
   "execution_count": null,
   "id": "3630ea46",
   "metadata": {},
   "outputs": [],
   "source": []
  },
  {
   "cell_type": "code",
   "execution_count": null,
   "id": "fb75a52c",
   "metadata": {},
   "outputs": [],
   "source": []
  },
  {
   "cell_type": "code",
   "execution_count": null,
   "id": "ceb77368",
   "metadata": {},
   "outputs": [],
   "source": [
    "# x, label = next(iter(train_loader))\n",
    "# x = x.to(CONFIG.DEVICE)\n",
    "\n",
    "# with torch.no_grad():\n",
    "#     real = dvae.ng_q_encode(x)"
   ]
  },
  {
   "cell_type": "code",
   "execution_count": null,
   "id": "8e12d045",
   "metadata": {},
   "outputs": [],
   "source": []
  },
  {
   "cell_type": "code",
   "execution_count": null,
   "id": "cf538a33",
   "metadata": {},
   "outputs": [],
   "source": []
  },
  {
   "cell_type": "code",
   "execution_count": null,
   "id": "98ddcdd2",
   "metadata": {},
   "outputs": [],
   "source": []
  },
  {
   "cell_type": "code",
   "execution_count": null,
   "id": "e9ba8b2a",
   "metadata": {},
   "outputs": [],
   "source": []
  },
  {
   "cell_type": "code",
   "execution_count": null,
   "id": "1d26e99d",
   "metadata": {},
   "outputs": [],
   "source": []
  },
  {
   "cell_type": "code",
   "execution_count": null,
   "id": "4b1f10ed",
   "metadata": {},
   "outputs": [],
   "source": []
  },
  {
   "cell_type": "code",
   "execution_count": null,
   "id": "fba47fd7",
   "metadata": {},
   "outputs": [],
   "source": []
  },
  {
   "cell_type": "code",
   "execution_count": null,
   "id": "ccc8f5de",
   "metadata": {},
   "outputs": [],
   "source": [
    "# def compute_norm_weights(log_w):\n",
    "#     log_n = torch.log(torch.tensor(float(log_w.shape[0])))\n",
    "#     log_z_est = torch.logsumexp(log_w - log_n, dim=0)\n",
    "#     log_w_tilde = log_w - log_z_est - log_n\n",
    "\n",
    "#     w_tilde = torch.exp(log_w_tilde)\n",
    "\n",
    "#     return w_tilde\n",
    "\n",
    "# def multinomial_bgan_loss(D, fake_logits, reals, n_samples=8):\n",
    "#     batch_size = reals.size(0)\n",
    "#     n_channels = fake_logits.size(1)\n",
    "#     spatial_dims = fake_logits.shape[2:]\n",
    "\n",
    "#     fake_p = torch.softmax(fake_logits, dim=1).view(batch_size, n_channels, -1).transpose(1, 2)\n",
    "#     fake_p = fake_p.repeat(n_samples, 1, 1).view(-1, n_channels)\n",
    "\n",
    "#     samples = torch.multinomial(fake_p, num_samples=1)\n",
    "#     samples = samples.view(n_samples, batch_size, *spatial_dims)\n",
    "\n",
    "#     samples_one_hot = F.one_hot(samples, num_classes=n_channels).type(torch.float)\n",
    "#     samples_one_hot = samples_one_hot.permute(0, 1, 4, 2, 3)\n",
    "\n",
    "#     real_out = D(reals)\n",
    "#     fake_out = D(samples_one_hot.view(-1, *samples_one_hot.shape[2:]))\n",
    "\n",
    "#     log_w = fake_out.view(n_samples, batch_size)\n",
    "#     log_g = -(samples_one_hot * (\n",
    "#         fake_logits - torch.logsumexp(fake_logits, dim=1, keepdim=True)\n",
    "#     ).unsqueeze(0)).mean(dim=(2, 3, 4))\n",
    "\n",
    "#     w_tilde = compute_norm_weights(log_w).detach()\n",
    "\n",
    "#     d_loss = F.binary_cross_entropy_with_logits(real_out, torch.ones_like(real_out)) + \\\n",
    "#              F.binary_cross_entropy_with_logits(fake_out, torch.zeros_like(fake_out))\n",
    "#     g_loss = (w_tilde * log_g).sum(0).mean()\n",
    "\n",
    "#     p_fake = (fake_out < 0).type(torch.float).mean().detach()\n",
    "#     p_real = (real_out > 0).type(torch.float).mean().detach()\n",
    "\n",
    "#     return d_loss, g_loss, p_fake, p_real"
   ]
  },
  {
   "cell_type": "code",
   "execution_count": null,
   "id": "5b652db9",
   "metadata": {
    "scrolled": true
   },
   "outputs": [],
   "source": [
    "# print(\"Device in use: {}\".format(CONFIG.DEVICE))\n",
    "\n",
    "# iteration = 0\n",
    "# for epoch in range(CONFIG.NUM_EPOCHS):\n",
    "#     for x, label in train_loader:\n",
    "#         x = x.to(CONFIG.DEVICE)\n",
    "        \n",
    "#         with torch.no_grad():\n",
    "#             real = dvae.q_encode(x, hard=True)\n",
    "\n",
    "#         current_batch_dim = real.size(0)\n",
    "        \n",
    "#         #D.zero_grad()\n",
    "#         #G.zero_grad()\n",
    "        \n",
    "#         noise = torch.randn(current_batch_dim, CONFIG.noise_dim, 1, 1, device=CONFIG.DEVICE)\n",
    "#         fake = G(noise=noise)\n",
    "        \n",
    "#         d_loss, g_loss, p_fake, p_real = multinomial_bgan_loss(\n",
    "#             D=D,\n",
    "#             fake_logits=fake,\n",
    "#             reals=real,\n",
    "#             n_samples=20)\n",
    "        \n",
    "#         optimizer_D.zero_grad()\n",
    "#         optimizer_G.zero_grad()\n",
    "\n",
    "#         torch.autograd.backward([d_loss, g_loss])\n",
    "\n",
    "#         optimizer_D.step()\n",
    "#         optimizer_G.step()\n",
    "        \n",
    "#         iteration += 1\n",
    "\n",
    "#         if iteration % 25 == 0:\n",
    "#             print(\"Epoch: {} Iter: {} GLoss: {} DLoss: {}\".format(\n",
    "#                 epoch, \n",
    "#                 iteration, \n",
    "#                 round(g_loss.item(), 5), \n",
    "#                 round(d_loss.item(), 5)\n",
    "#             ))\n",
    "    \n",
    "#     if (epoch + 1) % 5 == 0:\n",
    "#         with torch.no_grad():\n",
    "#             fake_img = dvae.q_decode(fake[:8, :, :, :], hard=True)\n",
    "#         img_grid = make_grid(fake_img.detach().cpu())\n",
    "#         print(\"====== Epoch {} ======\".format(epoch))\n",
    "#         show(img_grid)\n",
    "#         print(\"======================\")"
   ]
  },
  {
   "cell_type": "code",
   "execution_count": null,
   "id": "3f1c8224",
   "metadata": {},
   "outputs": [],
   "source": []
  },
  {
   "cell_type": "code",
   "execution_count": null,
   "id": "7f6096ef",
   "metadata": {},
   "outputs": [],
   "source": []
  },
  {
   "cell_type": "code",
   "execution_count": null,
   "id": "861329f1",
   "metadata": {},
   "outputs": [],
   "source": []
  },
  {
   "cell_type": "code",
   "execution_count": null,
   "id": "3789406f",
   "metadata": {},
   "outputs": [],
   "source": []
  },
  {
   "cell_type": "code",
   "execution_count": null,
   "id": "535af797",
   "metadata": {},
   "outputs": [],
   "source": []
  },
  {
   "cell_type": "code",
   "execution_count": null,
   "id": "0ec0388c",
   "metadata": {},
   "outputs": [],
   "source": []
  },
  {
   "cell_type": "code",
   "execution_count": null,
   "id": "e84c1d2f",
   "metadata": {},
   "outputs": [],
   "source": []
  },
  {
   "cell_type": "code",
   "execution_count": null,
   "id": "39078ba1",
   "metadata": {},
   "outputs": [],
   "source": []
  },
  {
   "cell_type": "code",
   "execution_count": null,
   "id": "daf6d6a4",
   "metadata": {},
   "outputs": [],
   "source": []
  },
  {
   "cell_type": "code",
   "execution_count": null,
   "id": "dac565d6",
   "metadata": {},
   "outputs": [],
   "source": []
  },
  {
   "cell_type": "code",
   "execution_count": null,
   "id": "9771bc9f",
   "metadata": {},
   "outputs": [],
   "source": []
  },
  {
   "cell_type": "code",
   "execution_count": null,
   "id": "1e36ecf5",
   "metadata": {},
   "outputs": [],
   "source": []
  },
  {
   "cell_type": "code",
   "execution_count": null,
   "id": "87b9650e",
   "metadata": {},
   "outputs": [],
   "source": []
  },
  {
   "cell_type": "code",
   "execution_count": null,
   "id": "be961a89",
   "metadata": {},
   "outputs": [],
   "source": []
  },
  {
   "cell_type": "code",
   "execution_count": null,
   "id": "59a3566e",
   "metadata": {},
   "outputs": [],
   "source": []
  },
  {
   "cell_type": "code",
   "execution_count": null,
   "id": "b3fd1f34",
   "metadata": {},
   "outputs": [],
   "source": []
  },
  {
   "cell_type": "code",
   "execution_count": null,
   "id": "27450f7e",
   "metadata": {},
   "outputs": [],
   "source": []
  },
  {
   "cell_type": "code",
   "execution_count": null,
   "id": "e27a8c75",
   "metadata": {},
   "outputs": [],
   "source": []
  },
  {
   "cell_type": "code",
   "execution_count": null,
   "id": "53197d87",
   "metadata": {},
   "outputs": [],
   "source": []
  },
  {
   "cell_type": "code",
   "execution_count": null,
   "id": "6de53df4",
   "metadata": {},
   "outputs": [],
   "source": []
  },
  {
   "cell_type": "code",
   "execution_count": null,
   "id": "887bc55e",
   "metadata": {},
   "outputs": [],
   "source": []
  },
  {
   "cell_type": "code",
   "execution_count": null,
   "id": "d2ab5967",
   "metadata": {},
   "outputs": [],
   "source": []
  },
  {
   "cell_type": "code",
   "execution_count": null,
   "id": "4a285620",
   "metadata": {},
   "outputs": [],
   "source": []
  },
  {
   "cell_type": "code",
   "execution_count": null,
   "id": "f24c86ab",
   "metadata": {},
   "outputs": [],
   "source": []
  },
  {
   "cell_type": "code",
   "execution_count": null,
   "id": "1cfc778c",
   "metadata": {},
   "outputs": [],
   "source": []
  },
  {
   "cell_type": "code",
   "execution_count": null,
   "id": "d4ec2c12",
   "metadata": {},
   "outputs": [],
   "source": []
  },
  {
   "cell_type": "code",
   "execution_count": null,
   "id": "87e6fd79",
   "metadata": {},
   "outputs": [],
   "source": []
  },
  {
   "cell_type": "code",
   "execution_count": null,
   "id": "5c9bde4b",
   "metadata": {},
   "outputs": [],
   "source": []
  }
 ],
 "metadata": {
  "kernelspec": {
   "display_name": "Python 3",
   "language": "python",
   "name": "python3"
  },
  "language_info": {
   "codemirror_mode": {
    "name": "ipython",
    "version": 3
   },
   "file_extension": ".py",
   "mimetype": "text/x-python",
   "name": "python",
   "nbconvert_exporter": "python",
   "pygments_lexer": "ipython3",
   "version": "3.8.5"
  }
 },
 "nbformat": 4,
 "nbformat_minor": 5
}
