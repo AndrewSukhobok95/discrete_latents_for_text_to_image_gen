{
 "cells": [
  {
   "cell_type": "code",
   "execution_count": 1,
   "id": "159420cd",
   "metadata": {},
   "outputs": [],
   "source": [
    "import os\n",
    "import numpy as np\n",
    "import matplotlib.pyplot as plt\n",
    "\n",
    "import torch\n",
    "import torch.nn.functional as F\n",
    "from torch.autograd import grad\n",
    "from torch import nn, optim\n",
    "\n",
    "from torchvision import datasets, transforms\n",
    "from torch.utils.data import DataLoader\n",
    "from torchvision.utils import save_image\n",
    "from torch.optim.lr_scheduler import MultiStepLR\n",
    "from torchvision.utils import make_grid\n",
    "from torchvision import transforms as torch_transforms"
   ]
  },
  {
   "cell_type": "code",
   "execution_count": 2,
   "id": "4ad6bccb",
   "metadata": {},
   "outputs": [],
   "source": [
    "import sys\n",
    "sys.path.append(\"./../\")\n",
    "\n",
    "from modules.dvae.model import DVAE"
   ]
  },
  {
   "cell_type": "code",
   "execution_count": 3,
   "id": "263a51ab",
   "metadata": {},
   "outputs": [],
   "source": [
    "def show(img, figsize=(8, 4)):\n",
    "    plt.figure(figsize=figsize)\n",
    "    npimg = img.numpy()\n",
    "    fig = plt.imshow(np.transpose(npimg, (1,2,0)), interpolation='nearest')\n",
    "    fig.axes.get_xaxis().set_visible(False)\n",
    "    fig.axes.get_yaxis().set_visible(False)\n",
    "    plt.show()"
   ]
  },
  {
   "cell_type": "code",
   "execution_count": 5,
   "id": "930bec60",
   "metadata": {},
   "outputs": [],
   "source": [
    "class Config:\n",
    "    DEVICE                      = torch.device(\"cuda\" if torch.cuda.is_available() else \"cpu\")\n",
    "\n",
    "    img_channels                = 1\n",
    "    vocab_size                  = 32\n",
    "\n",
    "    noise_dim                   = 16\n",
    "    hidden_height               = 7\n",
    "    hidden_width                = 7\n",
    "\n",
    "    num_blocks                  = 10\n",
    "    n_attn_heads                = 8\n",
    "    hidden_dim                  = 256\n",
    "    dropout_prob                = 0.1\n",
    "\n",
    "    dvae_num_x2upsamples        = 2\n",
    "    dvae_num_resids_downsample  = 3\n",
    "    dvae_num_resids_bottleneck  = 4\n",
    "    dvae_hidden_dim             = 256\n",
    "\n",
    "    load_dvae_path              = \"/m/home/home8/82/sukhoba1/data/Desktop/TA-VQVAE/models/dvae_S_mnist/\"\n",
    "    dvae_model_name             = \"dvae_S_mnist\"\n",
    "    data_path                   = \"/m/home/home8/82/sukhoba1/data/Desktop/TA-VQVAE/data/MNIST/\"\n",
    "\n",
    "    temp_start                  = 10\n",
    "    temp_end                    = 0.01\n",
    "    temp_steps                  = 100 * 50\n",
    "    \n",
    "    NUM_EPOCHS                  = 100\n",
    "    BATCH_SIZE                  = 512\n",
    "    LR                          = 0.01\n",
    "    LR_gamma                    = 0.1\n",
    "    step_LR_milestones          = [5, 10]\n",
    "\n",
    "\n",
    "CONFIG = Config()"
   ]
  },
  {
   "cell_type": "code",
   "execution_count": 6,
   "id": "8a3d4e43",
   "metadata": {},
   "outputs": [],
   "source": [
    "data_transforms = torch_transforms.Compose([\n",
    "    torch_transforms.RandomRotation(10),\n",
    "    torch_transforms.ToTensor()\n",
    "])\n",
    "\n",
    "trainset = datasets.MNIST(\n",
    "    CONFIG.data_path,\n",
    "    train=True,\n",
    "    download=False,\n",
    "    transform=data_transforms)\n",
    "\n",
    "train_loader = DataLoader(\n",
    "    trainset,\n",
    "    batch_size=CONFIG.BATCH_SIZE,\n",
    "    shuffle=True)"
   ]
  },
  {
   "cell_type": "code",
   "execution_count": null,
   "id": "2791761d",
   "metadata": {},
   "outputs": [],
   "source": [
    "class TrEncoderBlock(nn.Module):\n",
    "    def __init__(self, n_features, n_attn_heads, n_hidden=64, dropout_prob=0.1):\n",
    "        super(TrEncoderBlock, self).__init__()\n",
    "\n",
    "        self.attn = nn.MultiheadAttention(n_features, n_attn_heads)\n",
    "        self.ln1 = nn.LayerNorm(n_features)\n",
    "        self.dropout1 = nn.Dropout(dropout_prob)\n",
    "\n",
    "        self.mlp = nn.Sequential(\n",
    "            nn.Linear(n_features, n_hidden),\n",
    "            nn.Dropout(dropout_prob),\n",
    "            nn.GELU(),\n",
    "            nn.Linear(n_hidden, n_features)\n",
    "        )\n",
    "        self.ln2 = nn.LayerNorm(n_features)\n",
    "        self.dropout2 = nn.Dropout(dropout_prob)\n",
    "\n",
    "    def forward(self, x, pad_mask=None, attn_mask=None):\n",
    "        xn = self.ln1(x)\n",
    "        dx, _ = self.attn(query=xn, key=xn, value=xn, \n",
    "                          key_padding_mask=pad_mask, \n",
    "                          attn_mask=attn_mask)\n",
    "        x = x + self.dropout1(dx)\n",
    "        \n",
    "        xn = self.ln2(x)\n",
    "        dx = self.mlp(xn)\n",
    "        x = x + self.dropout2(dx)\n",
    "        \n",
    "        return x"
   ]
  },
  {
   "cell_type": "code",
   "execution_count": null,
   "id": "87e3fa04",
   "metadata": {},
   "outputs": [],
   "source": [
    "class Generator(nn.Module):\n",
    "    def __init__(self,\n",
    "                 noise_dim,\n",
    "                 hidden_width,\n",
    "                 hidden_height,\n",
    "                 embedding_dim,\n",
    "                 num_blocks,\n",
    "                 hidden_dim,\n",
    "                 n_attn_heads,\n",
    "                 dropout_prob):\n",
    "        super(Generator, self).__init__()\n",
    "\n",
    "        self.hidden_width = hidden_width\n",
    "        self.hidden_height = hidden_height\n",
    "        self.embedding_dim = embedding_dim\n",
    "        \n",
    "        self.tr_encoder_blocks = nn.ModuleList([\n",
    "            TrEncoderBlock(n_features=embedding_dim,\n",
    "                           n_attn_heads=n_attn_heads,\n",
    "                           n_hidden=hidden_dim,\n",
    "                           dropout_prob=dropout_prob)\n",
    "            for _ in range(num_blocks)\n",
    "        ])\n",
    "\n",
    "    def forward(self, noise, tau=1/16, hard=False):\n",
    "        x = self.noise_converter(noise)\n",
    "        z_logits = self.residual(x)\n",
    "        #z = self.quantize(z_logits, tau=tau, hard=hard)\n",
    "        z = F.softmax(z_logits, dim=1)\n",
    "        return z\n",
    "\n",
    "\n",
    "class Discriminator(nn.Module):\n",
    "    def __init__(self,\n",
    "                 embedding_dim,\n",
    "                 hidden_height,\n",
    "                 hidden_width,\n",
    "                 num_blocks,\n",
    "                 n_attn_heads,\n",
    "                 hidden_dim,\n",
    "                 dropout_prob):\n",
    "        super(Discriminator, self).__init__()\n",
    "        \n",
    "        n_classes = 1\n",
    "        \n",
    "        num_latent_positions = hidden_height * hidden_width + 1\n",
    "        self.pe = nn.Parameter(torch.randn(1, num_latent_positions, embedding_dim))\n",
    "        \n",
    "        self.lin_proj = nn.Linear(embedding_dim, embedding_dim)\n",
    "        \n",
    "        self.cls_token = nn.Parameter(torch.randn(1, 1, embedding_dim))\n",
    "\n",
    "        self.tr_encoder_blocks = nn.ModuleList([\n",
    "            TrEncoderBlock(n_features=embedding_dim,\n",
    "                           n_attn_heads=n_attn_heads,\n",
    "                           n_hidden=hidden_dim,\n",
    "                           dropout_prob=dropout_prob)\n",
    "            for _ in range(num_blocks)\n",
    "        ])\n",
    "\n",
    "        self.mlp_head = nn.Sequential(\n",
    "            nn.LayerNorm(embedding_dim),\n",
    "            nn.Linear(embedding_dim, n_classes),\n",
    "        )\n",
    "\n",
    "    def forward(self, img_latent):\n",
    "        b, c, h, w = img_latent.size()\n",
    "        x = img_latent.view(b, c, h * w).permute(0, 2, 1)  # -> b, h*w, c\n",
    "\n",
    "        x = self.lin_proj(x)\n",
    "        cls_tokens = self.cls_token.expand(b, -1, -1)\n",
    "        x = torch.cat((cls_tokens, x), dim=1)\n",
    "        x += self.pe\n",
    "\n",
    "        x = x.permute(1, 0, 2)  # -> h*w, b, c\n",
    "\n",
    "        for i, block in enumerate(self.tr_encoder_blocks):\n",
    "            x = block(x)\n",
    "\n",
    "        #cls_input = x.mean(dim=0)\n",
    "        cls_input = x[0, :, :]\n",
    "            \n",
    "        cls = self.mlp_head(cls_input).squeeze()\n",
    "\n",
    "        return torch.sigmoid(cls)"
   ]
  },
  {
   "cell_type": "code",
   "execution_count": 10,
   "id": "10eb185f",
   "metadata": {},
   "outputs": [],
   "source": [
    "dvae = DVAE(\n",
    "    in_channels=CONFIG.img_channels,\n",
    "    vocab_size=CONFIG.vocab_size,\n",
    "    num_x2downsamples=CONFIG.dvae_num_x2upsamples,\n",
    "    num_resids_downsample=CONFIG.dvae_num_resids_downsample,\n",
    "    num_resids_bottleneck=CONFIG.dvae_num_resids_bottleneck,\n",
    "    hidden_dim=CONFIG.dvae_hidden_dim)\n",
    "\n",
    "G = Generator(\n",
    "    noise_dim=CONFIG.noise_dim,\n",
    "    hidden_width=CONFIG.hidden_width,\n",
    "    hidden_height=CONFIG.hidden_height,\n",
    "    embedding_dim=CONFIG.vocab_size,\n",
    "    num_blocks=CONFIG.num_blocks,\n",
    "    dropout_prob=CONFIG.dropout_prob)\n",
    "\n",
    "D = Discriminator(\n",
    "    embedding_dim=CONFIG.vocab_size,\n",
    "    num_blocks=CONFIG.num_blocks)\n",
    "\n",
    "optimizer_G = optim.Adam(G.parameters(), lr=CONFIG.LR)\n",
    "optimizer_D = optim.Adam(D.parameters(), lr=CONFIG.LR)\n",
    "\n",
    "lr_scheduler_G = MultiStepLR(optimizer_G, milestones=CONFIG.step_LR_milestones, gamma=CONFIG.LR_gamma)\n",
    "lr_scheduler_D = MultiStepLR(optimizer_D, milestones=CONFIG.step_LR_milestones, gamma=CONFIG.LR_gamma)\n"
   ]
  },
  {
   "cell_type": "code",
   "execution_count": 11,
   "id": "1c530d9a",
   "metadata": {},
   "outputs": [],
   "source": [
    "dvae.eval()\n",
    "G.train()\n",
    "D.train()\n",
    "\n",
    "dvae.load_model(\n",
    "    root_path=CONFIG.load_dvae_path,\n",
    "    model_name=CONFIG.dvae_model_name)\n",
    "\n",
    "dvae.to(CONFIG.DEVICE)\n",
    "G.to(CONFIG.DEVICE)\n",
    "D.to(CONFIG.DEVICE)\n",
    "\n",
    "pass"
   ]
  },
  {
   "cell_type": "code",
   "execution_count": 12,
   "id": "3ee8646c",
   "metadata": {},
   "outputs": [],
   "source": [
    "x, label = next(iter(train_loader))\n",
    "x = x.to(CONFIG.DEVICE)\n",
    "\n",
    "with torch.no_grad():\n",
    "    real = dvae.q_encode(x)"
   ]
  },
  {
   "cell_type": "code",
   "execution_count": 13,
   "id": "4597c164",
   "metadata": {},
   "outputs": [
    {
     "data": {
      "text/plain": [
       "tensor([ 705.5516,  694.5093,  867.3759,  645.2083,  787.8571,  797.4626,\n",
       "         865.4717,  624.0052,  866.8207,  864.2506,  632.0852,  690.4192,\n",
       "         568.3417, 1035.5022,  669.7661,  846.6742,  811.3206,  686.9405,\n",
       "         584.7153,  820.7687,  970.4913,  938.6367,  800.9491,  513.3019,\n",
       "         795.5044,  760.9655,  766.3215,  983.1505,  640.2144,  825.6377,\n",
       "        1200.0547,  827.7253], device='cuda:0')"
      ]
     },
     "execution_count": 13,
     "metadata": {},
     "output_type": "execute_result"
    }
   ],
   "source": [
    "real.permute(1, 0, 2, 3).reshape(32, -1).sum(dim=1)"
   ]
  },
  {
   "cell_type": "code",
   "execution_count": null,
   "id": "a6250780",
   "metadata": {},
   "outputs": [],
   "source": []
  },
  {
   "cell_type": "code",
   "execution_count": null,
   "id": "6a4020da",
   "metadata": {},
   "outputs": [],
   "source": []
  },
  {
   "cell_type": "code",
   "execution_count": null,
   "id": "d509cc6f",
   "metadata": {},
   "outputs": [],
   "source": []
  },
  {
   "cell_type": "code",
   "execution_count": 14,
   "id": "d401436d",
   "metadata": {
    "scrolled": true
   },
   "outputs": [
    {
     "name": "stdout",
     "output_type": "stream",
     "text": [
      "Device in use: cuda\n",
      "Epoch: 0 Iter: 55 GLoss: 100.0 DLoss: 50.0 Avg_D_real 0.0 Avg_D_fake 0.0\n",
      "Epoch: 0 Iter: 110 GLoss: 100.0 DLoss: 50.0 Avg_D_real 0.0 Avg_D_fake 0.0\n",
      "Epoch: 1 Iter: 165 GLoss: 100.0 DLoss: 50.0 Avg_D_real 0.0 Avg_D_fake 0.0\n",
      "Epoch: 1 Iter: 220 GLoss: 100.0 DLoss: 50.0 Avg_D_real 0.0 Avg_D_fake 0.0\n",
      "Epoch: 2 Iter: 275 GLoss: 100.0 DLoss: 50.0 Avg_D_real 0.0 Avg_D_fake 0.0\n",
      "Epoch: 2 Iter: 330 GLoss: 100.0 DLoss: 50.0 Avg_D_real 0.0 Avg_D_fake 0.0\n",
      "Epoch: 3 Iter: 385 GLoss: 100.0 DLoss: 50.0 Avg_D_real 0.0 Avg_D_fake 0.0\n",
      "Epoch: 3 Iter: 440 GLoss: 100.0 DLoss: 50.0 Avg_D_real 0.0 Avg_D_fake 0.0\n",
      "Epoch: 4 Iter: 495 GLoss: 100.0 DLoss: 50.0 Avg_D_real 0.0 Avg_D_fake 0.0\n",
      "Epoch: 4 Iter: 550 GLoss: 100.0 DLoss: 50.0 Avg_D_real 0.0 Avg_D_fake 0.0\n",
      "====== Epoch 4 ======\n"
     ]
    },
    {
     "data": {
      "image/png": "[encoded data removed]",
      "text/plain": [
       "<Figure size 576x288 with 1 Axes>"
      ]
     },
     "metadata": {
      "needs_background": "light"
     },
     "output_type": "display_data"
    },
    {
     "name": "stdout",
     "output_type": "stream",
     "text": [
      "======================\n",
      "Epoch: 5 Iter: 605 GLoss: 100.0 DLoss: 50.0 Avg_D_real 0.0 Avg_D_fake 0.0\n",
      "Epoch: 5 Iter: 660 GLoss: 100.0 DLoss: 50.0 Avg_D_real 0.0 Avg_D_fake 0.0\n",
      "Epoch: 6 Iter: 715 GLoss: 100.0 DLoss: 50.0 Avg_D_real 0.0 Avg_D_fake 0.0\n",
      "Epoch: 6 Iter: 770 GLoss: 100.0 DLoss: 50.0 Avg_D_real 0.0 Avg_D_fake 0.0\n",
      "Epoch: 6 Iter: 825 GLoss: 100.0 DLoss: 50.0 Avg_D_real 0.0 Avg_D_fake 0.0\n",
      "Epoch: 7 Iter: 880 GLoss: 100.0 DLoss: 50.0 Avg_D_real 0.0 Avg_D_fake 0.0\n",
      "Epoch: 7 Iter: 935 GLoss: 100.0 DLoss: 50.0 Avg_D_real 0.0 Avg_D_fake 0.0\n",
      "Epoch: 8 Iter: 990 GLoss: 100.0 DLoss: 50.0 Avg_D_real 0.0 Avg_D_fake 0.0\n",
      "Epoch: 8 Iter: 1045 GLoss: 100.0 DLoss: 50.0 Avg_D_real 0.0 Avg_D_fake 0.0\n",
      "Epoch: 9 Iter: 1100 GLoss: 100.0 DLoss: 50.0 Avg_D_real 0.0 Avg_D_fake 0.0\n",
      "Epoch: 9 Iter: 1155 GLoss: 100.0 DLoss: 50.0 Avg_D_real 0.0 Avg_D_fake 0.0\n",
      "====== Epoch 9 ======\n"
     ]
    },
    {
     "data": {
      "image/png": "[encoded data removed]",
      "text/plain": [
       "<Figure size 576x288 with 1 Axes>"
      ]
     },
     "metadata": {
      "needs_background": "light"
     },
     "output_type": "display_data"
    },
    {
     "name": "stdout",
     "output_type": "stream",
     "text": [
      "======================\n",
      "Epoch: 10 Iter: 1210 GLoss: 100.0 DLoss: 50.0 Avg_D_real 0.0 Avg_D_fake 0.0\n",
      "Epoch: 10 Iter: 1265 GLoss: 100.0 DLoss: 50.0 Avg_D_real 0.0 Avg_D_fake 0.0\n",
      "Epoch: 11 Iter: 1320 GLoss: 100.0 DLoss: 50.0 Avg_D_real 0.0 Avg_D_fake 0.0\n",
      "Epoch: 11 Iter: 1375 GLoss: 100.0 DLoss: 50.0 Avg_D_real 0.0 Avg_D_fake 0.0\n",
      "Epoch: 12 Iter: 1430 GLoss: 100.0 DLoss: 50.0 Avg_D_real 0.0 Avg_D_fake 0.0\n",
      "Epoch: 12 Iter: 1485 GLoss: 100.0 DLoss: 50.0 Avg_D_real 0.0 Avg_D_fake 0.0\n",
      "Epoch: 13 Iter: 1540 GLoss: 100.0 DLoss: 50.0 Avg_D_real 0.0 Avg_D_fake 0.0\n",
      "Epoch: 13 Iter: 1595 GLoss: 100.0 DLoss: 50.0 Avg_D_real 0.0 Avg_D_fake 0.0\n",
      "Epoch: 13 Iter: 1650 GLoss: 100.0 DLoss: 50.0 Avg_D_real 0.0 Avg_D_fake 0.0\n",
      "Epoch: 14 Iter: 1705 GLoss: 100.0 DLoss: 50.0 Avg_D_real 0.0 Avg_D_fake 0.0\n",
      "Epoch: 14 Iter: 1760 GLoss: 100.0 DLoss: 50.0 Avg_D_real 0.0 Avg_D_fake 0.0\n",
      "====== Epoch 14 ======\n"
     ]
    },
    {
     "data": {
      "image/png": "[encoded data removed]",
      "text/plain": [
       "<Figure size 576x288 with 1 Axes>"
      ]
     },
     "metadata": {
      "needs_background": "light"
     },
     "output_type": "display_data"
    },
    {
     "name": "stdout",
     "output_type": "stream",
     "text": [
      "======================\n",
      "Epoch: 15 Iter: 1815 GLoss: 100.0 DLoss: 50.0 Avg_D_real 0.0 Avg_D_fake 0.0\n",
      "Epoch: 15 Iter: 1870 GLoss: 100.0 DLoss: 50.0 Avg_D_real 0.0 Avg_D_fake 0.0\n",
      "Epoch: 16 Iter: 1925 GLoss: 100.0 DLoss: 50.0 Avg_D_real 0.0 Avg_D_fake 0.0\n",
      "Epoch: 16 Iter: 1980 GLoss: 100.0 DLoss: 50.0 Avg_D_real 0.0 Avg_D_fake 0.0\n",
      "Epoch: 17 Iter: 2035 GLoss: 100.0 DLoss: 50.0 Avg_D_real 0.0 Avg_D_fake 0.0\n",
      "Epoch: 17 Iter: 2090 GLoss: 100.0 DLoss: 50.0 Avg_D_real 0.0 Avg_D_fake 0.0\n",
      "Epoch: 18 Iter: 2145 GLoss: 100.0 DLoss: 50.0 Avg_D_real 0.0 Avg_D_fake 0.0\n",
      "Epoch: 18 Iter: 2200 GLoss: 100.0 DLoss: 50.0 Avg_D_real 0.0 Avg_D_fake 0.0\n",
      "Epoch: 19 Iter: 2255 GLoss: 100.0 DLoss: 50.0 Avg_D_real 0.0 Avg_D_fake 0.0\n",
      "Epoch: 19 Iter: 2310 GLoss: 100.0 DLoss: 50.0 Avg_D_real 0.0 Avg_D_fake 0.0\n",
      "====== Epoch 19 ======\n"
     ]
    },
    {
     "data": {
      "image/png": "[encoded data removed]",
      "text/plain": [
       "<Figure size 576x288 with 1 Axes>"
      ]
     },
     "metadata": {
      "needs_background": "light"
     },
     "output_type": "display_data"
    },
    {
     "name": "stdout",
     "output_type": "stream",
     "text": [
      "======================\n",
      "Epoch: 20 Iter: 2365 GLoss: 100.0 DLoss: 50.0 Avg_D_real 0.0 Avg_D_fake 0.0\n",
      "Epoch: 20 Iter: 2420 GLoss: 100.0 DLoss: 50.0 Avg_D_real 0.0 Avg_D_fake 0.0\n",
      "Epoch: 20 Iter: 2475 GLoss: 100.0 DLoss: 50.0 Avg_D_real 0.0 Avg_D_fake 0.0\n",
      "Epoch: 21 Iter: 2530 GLoss: 100.0 DLoss: 50.0 Avg_D_real 0.0 Avg_D_fake 0.0\n",
      "Epoch: 21 Iter: 2585 GLoss: 100.0 DLoss: 50.0 Avg_D_real 0.0 Avg_D_fake 0.0\n",
      "Epoch: 22 Iter: 2640 GLoss: 100.0 DLoss: 50.0 Avg_D_real 0.0 Avg_D_fake 0.0\n",
      "Epoch: 22 Iter: 2695 GLoss: 100.0 DLoss: 50.0 Avg_D_real 0.0 Avg_D_fake 0.0\n",
      "Epoch: 23 Iter: 2750 GLoss: 100.0 DLoss: 50.0 Avg_D_real 0.0 Avg_D_fake 0.0\n",
      "Epoch: 23 Iter: 2805 GLoss: 100.0 DLoss: 50.0 Avg_D_real 0.0 Avg_D_fake 0.0\n",
      "Epoch: 24 Iter: 2860 GLoss: 100.0 DLoss: 50.0 Avg_D_real 0.0 Avg_D_fake 0.0\n",
      "Epoch: 24 Iter: 2915 GLoss: 100.0 DLoss: 50.0 Avg_D_real 0.0 Avg_D_fake 0.0\n",
      "====== Epoch 24 ======\n"
     ]
    },
    {
     "data": {
      "image/png": "[encoded data removed]",
      "text/plain": [
       "<Figure size 576x288 with 1 Axes>"
      ]
     },
     "metadata": {
      "needs_background": "light"
     },
     "output_type": "display_data"
    },
    {
     "name": "stdout",
     "output_type": "stream",
     "text": [
      "======================\n",
      "Epoch: 25 Iter: 2970 GLoss: 100.0 DLoss: 50.0 Avg_D_real 0.0 Avg_D_fake 0.0\n",
      "Epoch: 25 Iter: 3025 GLoss: 100.0 DLoss: 50.0 Avg_D_real 0.0 Avg_D_fake 0.0\n",
      "Epoch: 26 Iter: 3080 GLoss: 100.0 DLoss: 50.0 Avg_D_real 0.0 Avg_D_fake 0.0\n",
      "Epoch: 26 Iter: 3135 GLoss: 100.0 DLoss: 50.0 Avg_D_real 0.0 Avg_D_fake 0.0\n",
      "Epoch: 27 Iter: 3190 GLoss: 100.0 DLoss: 50.0 Avg_D_real 0.0 Avg_D_fake 0.0\n",
      "Epoch: 27 Iter: 3245 GLoss: 100.0 DLoss: 50.0 Avg_D_real 0.0 Avg_D_fake 0.0\n",
      "Epoch: 27 Iter: 3300 GLoss: 100.0 DLoss: 50.0 Avg_D_real 0.0 Avg_D_fake 0.0\n",
      "Epoch: 28 Iter: 3355 GLoss: 100.0 DLoss: 50.0 Avg_D_real 0.0 Avg_D_fake 0.0\n",
      "Epoch: 28 Iter: 3410 GLoss: 100.0 DLoss: 50.0 Avg_D_real 0.0 Avg_D_fake 0.0\n",
      "Epoch: 29 Iter: 3465 GLoss: 100.0 DLoss: 50.0 Avg_D_real 0.0 Avg_D_fake 0.0\n",
      "Epoch: 29 Iter: 3520 GLoss: 100.0 DLoss: 50.0 Avg_D_real 0.0 Avg_D_fake 0.0\n",
      "====== Epoch 29 ======\n"
     ]
    },
    {
     "data": {
      "image/png": "[encoded data removed]",
      "text/plain": [
       "<Figure size 576x288 with 1 Axes>"
      ]
     },
     "metadata": {
      "needs_background": "light"
     },
     "output_type": "display_data"
    },
    {
     "name": "stdout",
     "output_type": "stream",
     "text": [
      "======================\n",
      "Epoch: 30 Iter: 3575 GLoss: 100.0 DLoss: 50.0 Avg_D_real 0.0 Avg_D_fake 0.0\n",
      "Epoch: 30 Iter: 3630 GLoss: 100.0 DLoss: 50.0 Avg_D_real 0.0 Avg_D_fake 0.0\n",
      "Epoch: 31 Iter: 3685 GLoss: 100.0 DLoss: 50.0 Avg_D_real 0.0 Avg_D_fake 0.0\n",
      "Epoch: 31 Iter: 3740 GLoss: 100.0 DLoss: 50.0 Avg_D_real 0.0 Avg_D_fake 0.0\n",
      "Epoch: 32 Iter: 3795 GLoss: 100.0 DLoss: 50.0 Avg_D_real 0.0 Avg_D_fake 0.0\n",
      "Epoch: 32 Iter: 3850 GLoss: 100.0 DLoss: 50.0 Avg_D_real 0.0 Avg_D_fake 0.0\n",
      "Epoch: 33 Iter: 3905 GLoss: 100.0 DLoss: 50.0 Avg_D_real 0.0 Avg_D_fake 0.0\n",
      "Epoch: 33 Iter: 3960 GLoss: 100.0 DLoss: 50.0 Avg_D_real 0.0 Avg_D_fake 0.0\n",
      "Epoch: 34 Iter: 4015 GLoss: 100.0 DLoss: 50.0 Avg_D_real 0.0 Avg_D_fake 0.0\n",
      "Epoch: 34 Iter: 4070 GLoss: 100.0 DLoss: 50.0 Avg_D_real 0.0 Avg_D_fake 0.0\n",
      "Epoch: 34 Iter: 4125 GLoss: 100.0 DLoss: 50.0 Avg_D_real 0.0 Avg_D_fake 0.0\n",
      "====== Epoch 34 ======\n"
     ]
    },
    {
     "data": {
      "image/png": "[encoded data removed]",
      "text/plain": [
       "<Figure size 576x288 with 1 Axes>"
      ]
     },
     "metadata": {
      "needs_background": "light"
     },
     "output_type": "display_data"
    },
    {
     "name": "stdout",
     "output_type": "stream",
     "text": [
      "======================\n",
      "Epoch: 35 Iter: 4180 GLoss: 100.0 DLoss: 50.0 Avg_D_real 0.0 Avg_D_fake 0.0\n",
      "Epoch: 35 Iter: 4235 GLoss: 100.0 DLoss: 50.0 Avg_D_real 0.0 Avg_D_fake 0.0\n",
      "Epoch: 36 Iter: 4290 GLoss: 100.0 DLoss: 50.0 Avg_D_real 0.0 Avg_D_fake 0.0\n",
      "Epoch: 36 Iter: 4345 GLoss: 100.0 DLoss: 50.0 Avg_D_real 0.0 Avg_D_fake 0.0\n",
      "Epoch: 37 Iter: 4400 GLoss: 100.0 DLoss: 50.0 Avg_D_real 0.0 Avg_D_fake 0.0\n",
      "Epoch: 37 Iter: 4455 GLoss: 100.0 DLoss: 50.0 Avg_D_real 0.0 Avg_D_fake 0.0\n",
      "Epoch: 38 Iter: 4510 GLoss: 100.0 DLoss: 50.0 Avg_D_real 0.0 Avg_D_fake 0.0\n",
      "Epoch: 38 Iter: 4565 GLoss: 100.0 DLoss: 50.0 Avg_D_real 0.0 Avg_D_fake 0.0\n",
      "Epoch: 39 Iter: 4620 GLoss: 100.0 DLoss: 50.0 Avg_D_real 0.0 Avg_D_fake 0.0\n",
      "Epoch: 39 Iter: 4675 GLoss: 100.0 DLoss: 50.0 Avg_D_real 0.0 Avg_D_fake 0.0\n",
      "====== Epoch 39 ======\n"
     ]
    },
    {
     "data": {
      "image/png": "[encoded data removed]",
      "text/plain": [
       "<Figure size 576x288 with 1 Axes>"
      ]
     },
     "metadata": {
      "needs_background": "light"
     },
     "output_type": "display_data"
    },
    {
     "name": "stdout",
     "output_type": "stream",
     "text": [
      "======================\n",
      "Epoch: 40 Iter: 4730 GLoss: 100.0 DLoss: 50.0 Avg_D_real 0.0 Avg_D_fake 0.0\n",
      "Epoch: 40 Iter: 4785 GLoss: 100.0 DLoss: 50.0 Avg_D_real 0.0 Avg_D_fake 0.0\n",
      "Epoch: 41 Iter: 4840 GLoss: 100.0 DLoss: 50.0 Avg_D_real 0.0 Avg_D_fake 0.0\n",
      "Epoch: 41 Iter: 4895 GLoss: 100.0 DLoss: 50.0 Avg_D_real 0.0 Avg_D_fake 0.0\n",
      "Epoch: 41 Iter: 4950 GLoss: 100.0 DLoss: 50.0 Avg_D_real 0.0 Avg_D_fake 0.0\n",
      "Epoch: 42 Iter: 5005 GLoss: 100.0 DLoss: 50.0 Avg_D_real 0.0 Avg_D_fake 0.0\n",
      "Epoch: 42 Iter: 5060 GLoss: 100.0 DLoss: 50.0 Avg_D_real 0.0 Avg_D_fake 0.0\n",
      "Epoch: 43 Iter: 5115 GLoss: 100.0 DLoss: 50.0 Avg_D_real 0.0 Avg_D_fake 0.0\n",
      "Epoch: 43 Iter: 5170 GLoss: 100.0 DLoss: 50.0 Avg_D_real 0.0 Avg_D_fake 0.0\n",
      "Epoch: 44 Iter: 5225 GLoss: 100.0 DLoss: 50.0 Avg_D_real 0.0 Avg_D_fake 0.0\n",
      "Epoch: 44 Iter: 5280 GLoss: 100.0 DLoss: 50.0 Avg_D_real 0.0 Avg_D_fake 0.0\n",
      "====== Epoch 44 ======\n"
     ]
    },
    {
     "data": {
      "image/png": "[encoded data removed]",
      "text/plain": [
       "<Figure size 576x288 with 1 Axes>"
      ]
     },
     "metadata": {
      "needs_background": "light"
     },
     "output_type": "display_data"
    },
    {
     "name": "stdout",
     "output_type": "stream",
     "text": [
      "======================\n",
      "Epoch: 45 Iter: 5335 GLoss: 100.0 DLoss: 50.0 Avg_D_real 0.0 Avg_D_fake 0.0\n",
      "Epoch: 45 Iter: 5390 GLoss: 100.0 DLoss: 50.0 Avg_D_real 0.0 Avg_D_fake 0.0\n",
      "Epoch: 46 Iter: 5445 GLoss: 100.0 DLoss: 50.0 Avg_D_real 0.0 Avg_D_fake 0.0\n",
      "Epoch: 46 Iter: 5500 GLoss: 100.0 DLoss: 50.0 Avg_D_real 0.0 Avg_D_fake 0.0\n",
      "Epoch: 47 Iter: 5555 GLoss: 100.0 DLoss: 50.0 Avg_D_real 0.0 Avg_D_fake 0.0\n",
      "Epoch: 47 Iter: 5610 GLoss: 100.0 DLoss: 50.0 Avg_D_real 0.0 Avg_D_fake 0.0\n",
      "Epoch: 48 Iter: 5665 GLoss: 100.0 DLoss: 50.0 Avg_D_real 0.0 Avg_D_fake 0.0\n",
      "Epoch: 48 Iter: 5720 GLoss: 100.0 DLoss: 50.0 Avg_D_real 0.0 Avg_D_fake 0.0\n",
      "Epoch: 48 Iter: 5775 GLoss: 100.0 DLoss: 50.0 Avg_D_real 0.0 Avg_D_fake 0.0\n",
      "Epoch: 49 Iter: 5830 GLoss: 100.0 DLoss: 50.0 Avg_D_real 0.0 Avg_D_fake 0.0\n",
      "Epoch: 49 Iter: 5885 GLoss: 100.0 DLoss: 50.0 Avg_D_real 0.0 Avg_D_fake 0.0\n",
      "====== Epoch 49 ======\n"
     ]
    },
    {
     "data": {
      "image/png": "[encoded data removed]",
      "text/plain": [
       "<Figure size 576x288 with 1 Axes>"
      ]
     },
     "metadata": {
      "needs_background": "light"
     },
     "output_type": "display_data"
    },
    {
     "name": "stdout",
     "output_type": "stream",
     "text": [
      "======================\n",
      "Epoch: 50 Iter: 5940 GLoss: 100.0 DLoss: 50.0 Avg_D_real 0.0 Avg_D_fake 0.0\n",
      "Epoch: 50 Iter: 5995 GLoss: 100.0 DLoss: 50.0 Avg_D_real 0.0 Avg_D_fake 0.0\n",
      "Epoch: 51 Iter: 6050 GLoss: 100.0 DLoss: 50.0 Avg_D_real 0.0 Avg_D_fake 0.0\n",
      "Epoch: 51 Iter: 6105 GLoss: 100.0 DLoss: 50.0 Avg_D_real 0.0 Avg_D_fake 0.0\n",
      "Epoch: 52 Iter: 6160 GLoss: 100.0 DLoss: 50.0 Avg_D_real 0.0 Avg_D_fake 0.0\n",
      "Epoch: 52 Iter: 6215 GLoss: 100.0 DLoss: 50.0 Avg_D_real 0.0 Avg_D_fake 0.0\n",
      "Epoch: 53 Iter: 6270 GLoss: 100.0 DLoss: 50.0 Avg_D_real 0.0 Avg_D_fake 0.0\n",
      "Epoch: 53 Iter: 6325 GLoss: 100.0 DLoss: 50.0 Avg_D_real 0.0 Avg_D_fake 0.0\n",
      "Epoch: 54 Iter: 6380 GLoss: 100.0 DLoss: 50.0 Avg_D_real 0.0 Avg_D_fake 0.0\n",
      "Epoch: 54 Iter: 6435 GLoss: 100.0 DLoss: 50.0 Avg_D_real 0.0 Avg_D_fake 0.0\n",
      "Epoch: 54 Iter: 6490 GLoss: 100.0 DLoss: 50.0 Avg_D_real 0.0 Avg_D_fake 0.0\n",
      "====== Epoch 54 ======\n"
     ]
    },
    {
     "data": {
      "image/png": "[encoded data removed]",
      "text/plain": [
       "<Figure size 576x288 with 1 Axes>"
      ]
     },
     "metadata": {
      "needs_background": "light"
     },
     "output_type": "display_data"
    },
    {
     "name": "stdout",
     "output_type": "stream",
     "text": [
      "======================\n",
      "Epoch: 55 Iter: 6545 GLoss: 100.0 DLoss: 50.0 Avg_D_real 0.0 Avg_D_fake 0.0\n",
      "Epoch: 55 Iter: 6600 GLoss: 100.0 DLoss: 50.0 Avg_D_real 0.0 Avg_D_fake 0.0\n",
      "Epoch: 56 Iter: 6655 GLoss: 100.0 DLoss: 50.0 Avg_D_real 0.0 Avg_D_fake 0.0\n",
      "Epoch: 56 Iter: 6710 GLoss: 100.0 DLoss: 50.0 Avg_D_real 0.0 Avg_D_fake 0.0\n",
      "Epoch: 57 Iter: 6765 GLoss: 100.0 DLoss: 50.0 Avg_D_real 0.0 Avg_D_fake 0.0\n",
      "Epoch: 57 Iter: 6820 GLoss: 100.0 DLoss: 50.0 Avg_D_real 0.0 Avg_D_fake 0.0\n",
      "Epoch: 58 Iter: 6875 GLoss: 100.0 DLoss: 50.0 Avg_D_real 0.0 Avg_D_fake 0.0\n",
      "Epoch: 58 Iter: 6930 GLoss: 100.0 DLoss: 50.0 Avg_D_real 0.0 Avg_D_fake 0.0\n",
      "Epoch: 59 Iter: 6985 GLoss: 100.0 DLoss: 50.0 Avg_D_real 0.0 Avg_D_fake 0.0\n",
      "Epoch: 59 Iter: 7040 GLoss: 100.0 DLoss: 50.0 Avg_D_real 0.0 Avg_D_fake 0.0\n",
      "====== Epoch 59 ======\n"
     ]
    },
    {
     "data": {
      "image/png": "[encoded data removed]",
      "text/plain": [
       "<Figure size 576x288 with 1 Axes>"
      ]
     },
     "metadata": {
      "needs_background": "light"
     },
     "output_type": "display_data"
    },
    {
     "name": "stdout",
     "output_type": "stream",
     "text": [
      "======================\n",
      "Epoch: 60 Iter: 7095 GLoss: 100.0 DLoss: 50.0 Avg_D_real 0.0 Avg_D_fake 0.0\n",
      "Epoch: 60 Iter: 7150 GLoss: 100.0 DLoss: 50.0 Avg_D_real 0.0 Avg_D_fake 0.0\n",
      "Epoch: 61 Iter: 7205 GLoss: 100.0 DLoss: 50.0 Avg_D_real 0.0 Avg_D_fake 0.0\n",
      "Epoch: 61 Iter: 7260 GLoss: 100.0 DLoss: 50.0 Avg_D_real 0.0 Avg_D_fake 0.0\n",
      "Epoch: 61 Iter: 7315 GLoss: 100.0 DLoss: 50.0 Avg_D_real 0.0 Avg_D_fake 0.0\n",
      "Epoch: 62 Iter: 7370 GLoss: 100.0 DLoss: 50.0 Avg_D_real 0.0 Avg_D_fake 0.0\n",
      "Epoch: 62 Iter: 7425 GLoss: 100.0 DLoss: 50.0 Avg_D_real 0.0 Avg_D_fake 0.0\n",
      "Epoch: 63 Iter: 7480 GLoss: 100.0 DLoss: 50.0 Avg_D_real 0.0 Avg_D_fake 0.0\n",
      "Epoch: 63 Iter: 7535 GLoss: 100.0 DLoss: 50.0 Avg_D_real 0.0 Avg_D_fake 0.0\n",
      "Epoch: 64 Iter: 7590 GLoss: 100.0 DLoss: 50.0 Avg_D_real 0.0 Avg_D_fake 0.0\n",
      "Epoch: 64 Iter: 7645 GLoss: 100.0 DLoss: 50.0 Avg_D_real 0.0 Avg_D_fake 0.0\n",
      "====== Epoch 64 ======\n"
     ]
    },
    {
     "data": {
      "image/png": "[encoded data removed]",
      "text/plain": [
       "<Figure size 576x288 with 1 Axes>"
      ]
     },
     "metadata": {
      "needs_background": "light"
     },
     "output_type": "display_data"
    },
    {
     "name": "stdout",
     "output_type": "stream",
     "text": [
      "======================\n",
      "Epoch: 65 Iter: 7700 GLoss: 100.0 DLoss: 50.0 Avg_D_real 0.0 Avg_D_fake 0.0\n",
      "Epoch: 65 Iter: 7755 GLoss: 100.0 DLoss: 50.0 Avg_D_real 0.0 Avg_D_fake 0.0\n",
      "Epoch: 66 Iter: 7810 GLoss: 100.0 DLoss: 50.0 Avg_D_real 0.0 Avg_D_fake 0.0\n",
      "Epoch: 66 Iter: 7865 GLoss: 100.0 DLoss: 50.0 Avg_D_real 0.0 Avg_D_fake 0.0\n",
      "Epoch: 67 Iter: 7920 GLoss: 100.0 DLoss: 50.0 Avg_D_real 0.0 Avg_D_fake 0.0\n",
      "Epoch: 67 Iter: 7975 GLoss: 100.0 DLoss: 50.0 Avg_D_real 0.0 Avg_D_fake 0.0\n",
      "Epoch: 68 Iter: 8030 GLoss: 100.0 DLoss: 50.0 Avg_D_real 0.0 Avg_D_fake 0.0\n",
      "Epoch: 68 Iter: 8085 GLoss: 100.0 DLoss: 50.0 Avg_D_real 0.0 Avg_D_fake 0.0\n",
      "Epoch: 68 Iter: 8140 GLoss: 100.0 DLoss: 50.0 Avg_D_real 0.0 Avg_D_fake 0.0\n",
      "Epoch: 69 Iter: 8195 GLoss: 100.0 DLoss: 50.0 Avg_D_real 0.0 Avg_D_fake 0.0\n",
      "Epoch: 69 Iter: 8250 GLoss: 100.0 DLoss: 50.0 Avg_D_real 0.0 Avg_D_fake 0.0\n",
      "====== Epoch 69 ======\n"
     ]
    },
    {
     "data": {
      "image/png": "[encoded data removed]",
      "text/plain": [
       "<Figure size 576x288 with 1 Axes>"
      ]
     },
     "metadata": {
      "needs_background": "light"
     },
     "output_type": "display_data"
    },
    {
     "name": "stdout",
     "output_type": "stream",
     "text": [
      "======================\n",
      "Epoch: 70 Iter: 8305 GLoss: 100.0 DLoss: 50.0 Avg_D_real 0.0 Avg_D_fake 0.0\n",
      "Epoch: 70 Iter: 8360 GLoss: 100.0 DLoss: 50.0 Avg_D_real 0.0 Avg_D_fake 0.0\n",
      "Epoch: 71 Iter: 8415 GLoss: 100.0 DLoss: 50.0 Avg_D_real 0.0 Avg_D_fake 0.0\n",
      "Epoch: 71 Iter: 8470 GLoss: 100.0 DLoss: 50.0 Avg_D_real 0.0 Avg_D_fake 0.0\n",
      "Epoch: 72 Iter: 8525 GLoss: 100.0 DLoss: 50.0 Avg_D_real 0.0 Avg_D_fake 0.0\n",
      "Epoch: 72 Iter: 8580 GLoss: 100.0 DLoss: 50.0 Avg_D_real 0.0 Avg_D_fake 0.0\n",
      "Epoch: 73 Iter: 8635 GLoss: 100.0 DLoss: 50.0 Avg_D_real 0.0 Avg_D_fake 0.0\n",
      "Epoch: 73 Iter: 8690 GLoss: 100.0 DLoss: 50.0 Avg_D_real 0.0 Avg_D_fake 0.0\n",
      "Epoch: 74 Iter: 8745 GLoss: 100.0 DLoss: 50.0 Avg_D_real 0.0 Avg_D_fake 0.0\n",
      "Epoch: 74 Iter: 8800 GLoss: 100.0 DLoss: 50.0 Avg_D_real 0.0 Avg_D_fake 0.0\n",
      "====== Epoch 74 ======\n"
     ]
    },
    {
     "data": {
      "image/png": "[encoded data removed]",
      "text/plain": [
       "<Figure size 576x288 with 1 Axes>"
      ]
     },
     "metadata": {
      "needs_background": "light"
     },
     "output_type": "display_data"
    },
    {
     "name": "stdout",
     "output_type": "stream",
     "text": [
      "======================\n",
      "Epoch: 75 Iter: 8855 GLoss: 100.0 DLoss: 50.0 Avg_D_real 0.0 Avg_D_fake 0.0\n",
      "Epoch: 75 Iter: 8910 GLoss: 100.0 DLoss: 50.0 Avg_D_real 0.0 Avg_D_fake 0.0\n",
      "Epoch: 75 Iter: 8965 GLoss: 100.0 DLoss: 50.0 Avg_D_real 0.0 Avg_D_fake 0.0\n",
      "Epoch: 76 Iter: 9020 GLoss: 100.0 DLoss: 50.0 Avg_D_real 0.0 Avg_D_fake 0.0\n",
      "Epoch: 76 Iter: 9075 GLoss: 100.0 DLoss: 50.0 Avg_D_real 0.0 Avg_D_fake 0.0\n",
      "Epoch: 77 Iter: 9130 GLoss: 100.0 DLoss: 50.0 Avg_D_real 0.0 Avg_D_fake 0.0\n",
      "Epoch: 77 Iter: 9185 GLoss: 100.0 DLoss: 50.0 Avg_D_real 0.0 Avg_D_fake 0.0\n",
      "Epoch: 78 Iter: 9240 GLoss: 100.0 DLoss: 50.0 Avg_D_real 0.0 Avg_D_fake 0.0\n",
      "Epoch: 78 Iter: 9295 GLoss: 100.0 DLoss: 50.0 Avg_D_real 0.0 Avg_D_fake 0.0\n",
      "Epoch: 79 Iter: 9350 GLoss: 100.0 DLoss: 50.0 Avg_D_real 0.0 Avg_D_fake 0.0\n",
      "Epoch: 79 Iter: 9405 GLoss: 100.0 DLoss: 50.0 Avg_D_real 0.0 Avg_D_fake 0.0\n",
      "====== Epoch 79 ======\n"
     ]
    },
    {
     "data": {
      "image/png": "[encoded data removed]",
      "text/plain": [
       "<Figure size 576x288 with 1 Axes>"
      ]
     },
     "metadata": {
      "needs_background": "light"
     },
     "output_type": "display_data"
    },
    {
     "name": "stdout",
     "output_type": "stream",
     "text": [
      "======================\n",
      "Epoch: 80 Iter: 9460 GLoss: 100.0 DLoss: 50.0 Avg_D_real 0.0 Avg_D_fake 0.0\n",
      "Epoch: 80 Iter: 9515 GLoss: 100.0 DLoss: 50.0 Avg_D_real 0.0 Avg_D_fake 0.0\n",
      "Epoch: 81 Iter: 9570 GLoss: 100.0 DLoss: 50.0 Avg_D_real 0.0 Avg_D_fake 0.0\n",
      "Epoch: 81 Iter: 9625 GLoss: 100.0 DLoss: 50.0 Avg_D_real 0.0 Avg_D_fake 0.0\n",
      "Epoch: 82 Iter: 9680 GLoss: 100.0 DLoss: 50.0 Avg_D_real 0.0 Avg_D_fake 0.0\n",
      "Epoch: 82 Iter: 9735 GLoss: 100.0 DLoss: 50.0 Avg_D_real 0.0 Avg_D_fake 0.0\n",
      "Epoch: 82 Iter: 9790 GLoss: 100.0 DLoss: 50.0 Avg_D_real 0.0 Avg_D_fake 0.0\n",
      "Epoch: 83 Iter: 9845 GLoss: 100.0 DLoss: 50.0 Avg_D_real 0.0 Avg_D_fake 0.0\n",
      "Epoch: 83 Iter: 9900 GLoss: 100.0 DLoss: 50.0 Avg_D_real 0.0 Avg_D_fake 0.0\n",
      "Epoch: 84 Iter: 9955 GLoss: 100.0 DLoss: 50.0 Avg_D_real 0.0 Avg_D_fake 0.0\n",
      "Epoch: 84 Iter: 10010 GLoss: 100.0 DLoss: 50.0 Avg_D_real 0.0 Avg_D_fake 0.0\n",
      "====== Epoch 84 ======\n"
     ]
    },
    {
     "data": {
      "image/png": "[encoded data removed]",
      "text/plain": [
       "<Figure size 576x288 with 1 Axes>"
      ]
     },
     "metadata": {
      "needs_background": "light"
     },
     "output_type": "display_data"
    },
    {
     "name": "stdout",
     "output_type": "stream",
     "text": [
      "======================\n",
      "Epoch: 85 Iter: 10065 GLoss: 100.0 DLoss: 50.0 Avg_D_real 0.0 Avg_D_fake 0.0\n",
      "Epoch: 85 Iter: 10120 GLoss: 100.0 DLoss: 50.0 Avg_D_real 0.0 Avg_D_fake 0.0\n",
      "Epoch: 86 Iter: 10175 GLoss: 100.0 DLoss: 50.0 Avg_D_real 0.0 Avg_D_fake 0.0\n",
      "Epoch: 86 Iter: 10230 GLoss: 100.0 DLoss: 50.0 Avg_D_real 0.0 Avg_D_fake 0.0\n",
      "Epoch: 87 Iter: 10285 GLoss: 100.0 DLoss: 50.0 Avg_D_real 0.0 Avg_D_fake 0.0\n",
      "Epoch: 87 Iter: 10340 GLoss: 100.0 DLoss: 50.0 Avg_D_real 0.0 Avg_D_fake 0.0\n",
      "Epoch: 88 Iter: 10395 GLoss: 100.0 DLoss: 50.0 Avg_D_real 0.0 Avg_D_fake 0.0\n",
      "Epoch: 88 Iter: 10450 GLoss: 100.0 DLoss: 50.0 Avg_D_real 0.0 Avg_D_fake 0.0\n",
      "Epoch: 89 Iter: 10505 GLoss: 100.0 DLoss: 50.0 Avg_D_real 0.0 Avg_D_fake 0.0\n",
      "Epoch: 89 Iter: 10560 GLoss: 100.0 DLoss: 50.0 Avg_D_real 0.0 Avg_D_fake 0.0\n",
      "Epoch: 89 Iter: 10615 GLoss: 100.0 DLoss: 50.0 Avg_D_real 0.0 Avg_D_fake 0.0\n",
      "====== Epoch 89 ======\n"
     ]
    },
    {
     "data": {
      "image/png": "[encoded data removed]",
      "text/plain": [
       "<Figure size 576x288 with 1 Axes>"
      ]
     },
     "metadata": {
      "needs_background": "light"
     },
     "output_type": "display_data"
    },
    {
     "name": "stdout",
     "output_type": "stream",
     "text": [
      "======================\n",
      "Epoch: 90 Iter: 10670 GLoss: 100.0 DLoss: 50.0 Avg_D_real 0.0 Avg_D_fake 0.0\n",
      "Epoch: 90 Iter: 10725 GLoss: 100.0 DLoss: 50.0 Avg_D_real 0.0 Avg_D_fake 0.0\n",
      "Epoch: 91 Iter: 10780 GLoss: 100.0 DLoss: 50.0 Avg_D_real 0.0 Avg_D_fake 0.0\n",
      "Epoch: 91 Iter: 10835 GLoss: 100.0 DLoss: 50.0 Avg_D_real 0.0 Avg_D_fake 0.0\n",
      "Epoch: 92 Iter: 10890 GLoss: 100.0 DLoss: 50.0 Avg_D_real 0.0 Avg_D_fake 0.0\n",
      "Epoch: 92 Iter: 10945 GLoss: 100.0 DLoss: 50.0 Avg_D_real 0.0 Avg_D_fake 0.0\n"
     ]
    },
    {
     "ename": "KeyboardInterrupt",
     "evalue": "",
     "output_type": "error",
     "traceback": [
      "\u001b[0;31m---------------------------------------------------------------------------\u001b[0m",
      "\u001b[0;31mKeyboardInterrupt\u001b[0m                         Traceback (most recent call last)",
      "\u001b[0;32m<ipython-input-14-6bb43f759502>\u001b[0m in \u001b[0;36m<module>\u001b[0;34m\u001b[0m\n\u001b[1;32m      3\u001b[0m \u001b[0miteration\u001b[0m \u001b[0;34m=\u001b[0m \u001b[0;36m0\u001b[0m\u001b[0;34m\u001b[0m\u001b[0;34m\u001b[0m\u001b[0m\n\u001b[1;32m      4\u001b[0m \u001b[0;32mfor\u001b[0m \u001b[0mepoch\u001b[0m \u001b[0;32min\u001b[0m \u001b[0mrange\u001b[0m\u001b[0;34m(\u001b[0m\u001b[0mCONFIG\u001b[0m\u001b[0;34m.\u001b[0m\u001b[0mNUM_EPOCHS\u001b[0m\u001b[0;34m)\u001b[0m\u001b[0;34m:\u001b[0m\u001b[0;34m\u001b[0m\u001b[0;34m\u001b[0m\u001b[0m\n\u001b[0;32m----> 5\u001b[0;31m     \u001b[0;32mfor\u001b[0m \u001b[0mx\u001b[0m\u001b[0;34m,\u001b[0m \u001b[0mlabel\u001b[0m \u001b[0;32min\u001b[0m \u001b[0mtrain_loader\u001b[0m\u001b[0;34m:\u001b[0m\u001b[0;34m\u001b[0m\u001b[0;34m\u001b[0m\u001b[0m\n\u001b[0m\u001b[1;32m      6\u001b[0m         \u001b[0mx\u001b[0m \u001b[0;34m=\u001b[0m \u001b[0mx\u001b[0m\u001b[0;34m.\u001b[0m\u001b[0mto\u001b[0m\u001b[0;34m(\u001b[0m\u001b[0mCONFIG\u001b[0m\u001b[0;34m.\u001b[0m\u001b[0mDEVICE\u001b[0m\u001b[0;34m)\u001b[0m\u001b[0;34m\u001b[0m\u001b[0;34m\u001b[0m\u001b[0m\n\u001b[1;32m      7\u001b[0m \u001b[0;34m\u001b[0m\u001b[0m\n",
      "\u001b[0;32m~/anaconda3/envs/tavqvae/lib/python3.8/site-packages/torch/utils/data/dataloader.py\u001b[0m in \u001b[0;36m__next__\u001b[0;34m(self)\u001b[0m\n\u001b[1;32m    433\u001b[0m         \u001b[0;32mif\u001b[0m \u001b[0mself\u001b[0m\u001b[0;34m.\u001b[0m\u001b[0m_sampler_iter\u001b[0m \u001b[0;32mis\u001b[0m \u001b[0;32mNone\u001b[0m\u001b[0;34m:\u001b[0m\u001b[0;34m\u001b[0m\u001b[0;34m\u001b[0m\u001b[0m\n\u001b[1;32m    434\u001b[0m             \u001b[0mself\u001b[0m\u001b[0;34m.\u001b[0m\u001b[0m_reset\u001b[0m\u001b[0;34m(\u001b[0m\u001b[0;34m)\u001b[0m\u001b[0;34m\u001b[0m\u001b[0;34m\u001b[0m\u001b[0m\n\u001b[0;32m--> 435\u001b[0;31m         \u001b[0mdata\u001b[0m \u001b[0;34m=\u001b[0m \u001b[0mself\u001b[0m\u001b[0;34m.\u001b[0m\u001b[0m_next_data\u001b[0m\u001b[0;34m(\u001b[0m\u001b[0;34m)\u001b[0m\u001b[0;34m\u001b[0m\u001b[0;34m\u001b[0m\u001b[0m\n\u001b[0m\u001b[1;32m    436\u001b[0m         \u001b[0mself\u001b[0m\u001b[0;34m.\u001b[0m\u001b[0m_num_yielded\u001b[0m \u001b[0;34m+=\u001b[0m \u001b[0;36m1\u001b[0m\u001b[0;34m\u001b[0m\u001b[0;34m\u001b[0m\u001b[0m\n\u001b[1;32m    437\u001b[0m         \u001b[0;32mif\u001b[0m \u001b[0mself\u001b[0m\u001b[0;34m.\u001b[0m\u001b[0m_dataset_kind\u001b[0m \u001b[0;34m==\u001b[0m \u001b[0m_DatasetKind\u001b[0m\u001b[0;34m.\u001b[0m\u001b[0mIterable\u001b[0m \u001b[0;32mand\u001b[0m\u001b[0;31m \u001b[0m\u001b[0;31m\\\u001b[0m\u001b[0;34m\u001b[0m\u001b[0;34m\u001b[0m\u001b[0m\n",
      "\u001b[0;32m~/anaconda3/envs/tavqvae/lib/python3.8/site-packages/torch/utils/data/dataloader.py\u001b[0m in \u001b[0;36m_next_data\u001b[0;34m(self)\u001b[0m\n\u001b[1;32m    473\u001b[0m     \u001b[0;32mdef\u001b[0m \u001b[0m_next_data\u001b[0m\u001b[0;34m(\u001b[0m\u001b[0mself\u001b[0m\u001b[0;34m)\u001b[0m\u001b[0;34m:\u001b[0m\u001b[0;34m\u001b[0m\u001b[0;34m\u001b[0m\u001b[0m\n\u001b[1;32m    474\u001b[0m         \u001b[0mindex\u001b[0m \u001b[0;34m=\u001b[0m \u001b[0mself\u001b[0m\u001b[0;34m.\u001b[0m\u001b[0m_next_index\u001b[0m\u001b[0;34m(\u001b[0m\u001b[0;34m)\u001b[0m  \u001b[0;31m# may raise StopIteration\u001b[0m\u001b[0;34m\u001b[0m\u001b[0;34m\u001b[0m\u001b[0m\n\u001b[0;32m--> 475\u001b[0;31m         \u001b[0mdata\u001b[0m \u001b[0;34m=\u001b[0m \u001b[0mself\u001b[0m\u001b[0;34m.\u001b[0m\u001b[0m_dataset_fetcher\u001b[0m\u001b[0;34m.\u001b[0m\u001b[0mfetch\u001b[0m\u001b[0;34m(\u001b[0m\u001b[0mindex\u001b[0m\u001b[0;34m)\u001b[0m  \u001b[0;31m# may raise StopIteration\u001b[0m\u001b[0;34m\u001b[0m\u001b[0;34m\u001b[0m\u001b[0m\n\u001b[0m\u001b[1;32m    476\u001b[0m         \u001b[0;32mif\u001b[0m \u001b[0mself\u001b[0m\u001b[0;34m.\u001b[0m\u001b[0m_pin_memory\u001b[0m\u001b[0;34m:\u001b[0m\u001b[0;34m\u001b[0m\u001b[0;34m\u001b[0m\u001b[0m\n\u001b[1;32m    477\u001b[0m             \u001b[0mdata\u001b[0m \u001b[0;34m=\u001b[0m \u001b[0m_utils\u001b[0m\u001b[0;34m.\u001b[0m\u001b[0mpin_memory\u001b[0m\u001b[0;34m.\u001b[0m\u001b[0mpin_memory\u001b[0m\u001b[0;34m(\u001b[0m\u001b[0mdata\u001b[0m\u001b[0;34m)\u001b[0m\u001b[0;34m\u001b[0m\u001b[0;34m\u001b[0m\u001b[0m\n",
      "\u001b[0;32m~/anaconda3/envs/tavqvae/lib/python3.8/site-packages/torch/utils/data/_utils/fetch.py\u001b[0m in \u001b[0;36mfetch\u001b[0;34m(self, possibly_batched_index)\u001b[0m\n\u001b[1;32m     42\u001b[0m     \u001b[0;32mdef\u001b[0m \u001b[0mfetch\u001b[0m\u001b[0;34m(\u001b[0m\u001b[0mself\u001b[0m\u001b[0;34m,\u001b[0m \u001b[0mpossibly_batched_index\u001b[0m\u001b[0;34m)\u001b[0m\u001b[0;34m:\u001b[0m\u001b[0;34m\u001b[0m\u001b[0;34m\u001b[0m\u001b[0m\n\u001b[1;32m     43\u001b[0m         \u001b[0;32mif\u001b[0m \u001b[0mself\u001b[0m\u001b[0;34m.\u001b[0m\u001b[0mauto_collation\u001b[0m\u001b[0;34m:\u001b[0m\u001b[0;34m\u001b[0m\u001b[0;34m\u001b[0m\u001b[0m\n\u001b[0;32m---> 44\u001b[0;31m             \u001b[0mdata\u001b[0m \u001b[0;34m=\u001b[0m \u001b[0;34m[\u001b[0m\u001b[0mself\u001b[0m\u001b[0;34m.\u001b[0m\u001b[0mdataset\u001b[0m\u001b[0;34m[\u001b[0m\u001b[0midx\u001b[0m\u001b[0;34m]\u001b[0m \u001b[0;32mfor\u001b[0m \u001b[0midx\u001b[0m \u001b[0;32min\u001b[0m \u001b[0mpossibly_batched_index\u001b[0m\u001b[0;34m]\u001b[0m\u001b[0;34m\u001b[0m\u001b[0;34m\u001b[0m\u001b[0m\n\u001b[0m\u001b[1;32m     45\u001b[0m         \u001b[0;32melse\u001b[0m\u001b[0;34m:\u001b[0m\u001b[0;34m\u001b[0m\u001b[0;34m\u001b[0m\u001b[0m\n\u001b[1;32m     46\u001b[0m             \u001b[0mdata\u001b[0m \u001b[0;34m=\u001b[0m \u001b[0mself\u001b[0m\u001b[0;34m.\u001b[0m\u001b[0mdataset\u001b[0m\u001b[0;34m[\u001b[0m\u001b[0mpossibly_batched_index\u001b[0m\u001b[0;34m]\u001b[0m\u001b[0;34m\u001b[0m\u001b[0;34m\u001b[0m\u001b[0m\n",
      "\u001b[0;32m~/anaconda3/envs/tavqvae/lib/python3.8/site-packages/torch/utils/data/_utils/fetch.py\u001b[0m in \u001b[0;36m<listcomp>\u001b[0;34m(.0)\u001b[0m\n\u001b[1;32m     42\u001b[0m     \u001b[0;32mdef\u001b[0m \u001b[0mfetch\u001b[0m\u001b[0;34m(\u001b[0m\u001b[0mself\u001b[0m\u001b[0;34m,\u001b[0m \u001b[0mpossibly_batched_index\u001b[0m\u001b[0;34m)\u001b[0m\u001b[0;34m:\u001b[0m\u001b[0;34m\u001b[0m\u001b[0;34m\u001b[0m\u001b[0m\n\u001b[1;32m     43\u001b[0m         \u001b[0;32mif\u001b[0m \u001b[0mself\u001b[0m\u001b[0;34m.\u001b[0m\u001b[0mauto_collation\u001b[0m\u001b[0;34m:\u001b[0m\u001b[0;34m\u001b[0m\u001b[0;34m\u001b[0m\u001b[0m\n\u001b[0;32m---> 44\u001b[0;31m             \u001b[0mdata\u001b[0m \u001b[0;34m=\u001b[0m \u001b[0;34m[\u001b[0m\u001b[0mself\u001b[0m\u001b[0;34m.\u001b[0m\u001b[0mdataset\u001b[0m\u001b[0;34m[\u001b[0m\u001b[0midx\u001b[0m\u001b[0;34m]\u001b[0m \u001b[0;32mfor\u001b[0m \u001b[0midx\u001b[0m \u001b[0;32min\u001b[0m \u001b[0mpossibly_batched_index\u001b[0m\u001b[0;34m]\u001b[0m\u001b[0;34m\u001b[0m\u001b[0;34m\u001b[0m\u001b[0m\n\u001b[0m\u001b[1;32m     45\u001b[0m         \u001b[0;32melse\u001b[0m\u001b[0;34m:\u001b[0m\u001b[0;34m\u001b[0m\u001b[0;34m\u001b[0m\u001b[0m\n\u001b[1;32m     46\u001b[0m             \u001b[0mdata\u001b[0m \u001b[0;34m=\u001b[0m \u001b[0mself\u001b[0m\u001b[0;34m.\u001b[0m\u001b[0mdataset\u001b[0m\u001b[0;34m[\u001b[0m\u001b[0mpossibly_batched_index\u001b[0m\u001b[0;34m]\u001b[0m\u001b[0;34m\u001b[0m\u001b[0;34m\u001b[0m\u001b[0m\n",
      "\u001b[0;32m~/anaconda3/envs/tavqvae/lib/python3.8/site-packages/torchvision/datasets/mnist.py\u001b[0m in \u001b[0;36m__getitem__\u001b[0;34m(self, index)\u001b[0m\n\u001b[1;32m    104\u001b[0m \u001b[0;34m\u001b[0m\u001b[0m\n\u001b[1;32m    105\u001b[0m         \u001b[0;32mif\u001b[0m \u001b[0mself\u001b[0m\u001b[0;34m.\u001b[0m\u001b[0mtransform\u001b[0m \u001b[0;32mis\u001b[0m \u001b[0;32mnot\u001b[0m \u001b[0;32mNone\u001b[0m\u001b[0;34m:\u001b[0m\u001b[0;34m\u001b[0m\u001b[0;34m\u001b[0m\u001b[0m\n\u001b[0;32m--> 106\u001b[0;31m             \u001b[0mimg\u001b[0m \u001b[0;34m=\u001b[0m \u001b[0mself\u001b[0m\u001b[0;34m.\u001b[0m\u001b[0mtransform\u001b[0m\u001b[0;34m(\u001b[0m\u001b[0mimg\u001b[0m\u001b[0;34m)\u001b[0m\u001b[0;34m\u001b[0m\u001b[0;34m\u001b[0m\u001b[0m\n\u001b[0m\u001b[1;32m    107\u001b[0m \u001b[0;34m\u001b[0m\u001b[0m\n\u001b[1;32m    108\u001b[0m         \u001b[0;32mif\u001b[0m \u001b[0mself\u001b[0m\u001b[0;34m.\u001b[0m\u001b[0mtarget_transform\u001b[0m \u001b[0;32mis\u001b[0m \u001b[0;32mnot\u001b[0m \u001b[0;32mNone\u001b[0m\u001b[0;34m:\u001b[0m\u001b[0;34m\u001b[0m\u001b[0;34m\u001b[0m\u001b[0m\n",
      "\u001b[0;32m~/anaconda3/envs/tavqvae/lib/python3.8/site-packages/torchvision/transforms/transforms.py\u001b[0m in \u001b[0;36m__call__\u001b[0;34m(self, img)\u001b[0m\n\u001b[1;32m     65\u001b[0m     \u001b[0;32mdef\u001b[0m \u001b[0m__call__\u001b[0m\u001b[0;34m(\u001b[0m\u001b[0mself\u001b[0m\u001b[0;34m,\u001b[0m \u001b[0mimg\u001b[0m\u001b[0;34m)\u001b[0m\u001b[0;34m:\u001b[0m\u001b[0;34m\u001b[0m\u001b[0;34m\u001b[0m\u001b[0m\n\u001b[1;32m     66\u001b[0m         \u001b[0;32mfor\u001b[0m \u001b[0mt\u001b[0m \u001b[0;32min\u001b[0m \u001b[0mself\u001b[0m\u001b[0;34m.\u001b[0m\u001b[0mtransforms\u001b[0m\u001b[0;34m:\u001b[0m\u001b[0;34m\u001b[0m\u001b[0;34m\u001b[0m\u001b[0m\n\u001b[0;32m---> 67\u001b[0;31m             \u001b[0mimg\u001b[0m \u001b[0;34m=\u001b[0m \u001b[0mt\u001b[0m\u001b[0;34m(\u001b[0m\u001b[0mimg\u001b[0m\u001b[0;34m)\u001b[0m\u001b[0;34m\u001b[0m\u001b[0;34m\u001b[0m\u001b[0m\n\u001b[0m\u001b[1;32m     68\u001b[0m         \u001b[0;32mreturn\u001b[0m \u001b[0mimg\u001b[0m\u001b[0;34m\u001b[0m\u001b[0;34m\u001b[0m\u001b[0m\n\u001b[1;32m     69\u001b[0m \u001b[0;34m\u001b[0m\u001b[0m\n",
      "\u001b[0;32m~/anaconda3/envs/tavqvae/lib/python3.8/site-packages/torch/nn/modules/module.py\u001b[0m in \u001b[0;36m_call_impl\u001b[0;34m(self, *input, **kwargs)\u001b[0m\n\u001b[1;32m    725\u001b[0m             \u001b[0mresult\u001b[0m \u001b[0;34m=\u001b[0m \u001b[0mself\u001b[0m\u001b[0;34m.\u001b[0m\u001b[0m_slow_forward\u001b[0m\u001b[0;34m(\u001b[0m\u001b[0;34m*\u001b[0m\u001b[0minput\u001b[0m\u001b[0;34m,\u001b[0m \u001b[0;34m**\u001b[0m\u001b[0mkwargs\u001b[0m\u001b[0;34m)\u001b[0m\u001b[0;34m\u001b[0m\u001b[0;34m\u001b[0m\u001b[0m\n\u001b[1;32m    726\u001b[0m         \u001b[0;32melse\u001b[0m\u001b[0;34m:\u001b[0m\u001b[0;34m\u001b[0m\u001b[0;34m\u001b[0m\u001b[0m\n\u001b[0;32m--> 727\u001b[0;31m             \u001b[0mresult\u001b[0m \u001b[0;34m=\u001b[0m \u001b[0mself\u001b[0m\u001b[0;34m.\u001b[0m\u001b[0mforward\u001b[0m\u001b[0;34m(\u001b[0m\u001b[0;34m*\u001b[0m\u001b[0minput\u001b[0m\u001b[0;34m,\u001b[0m \u001b[0;34m**\u001b[0m\u001b[0mkwargs\u001b[0m\u001b[0;34m)\u001b[0m\u001b[0;34m\u001b[0m\u001b[0;34m\u001b[0m\u001b[0m\n\u001b[0m\u001b[1;32m    728\u001b[0m         for hook in itertools.chain(\n\u001b[1;32m    729\u001b[0m                 \u001b[0m_global_forward_hooks\u001b[0m\u001b[0;34m.\u001b[0m\u001b[0mvalues\u001b[0m\u001b[0;34m(\u001b[0m\u001b[0;34m)\u001b[0m\u001b[0;34m,\u001b[0m\u001b[0;34m\u001b[0m\u001b[0;34m\u001b[0m\u001b[0m\n",
      "\u001b[0;32m~/anaconda3/envs/tavqvae/lib/python3.8/site-packages/torchvision/transforms/transforms.py\u001b[0m in \u001b[0;36mforward\u001b[0;34m(self, img)\u001b[0m\n\u001b[1;32m   1186\u001b[0m         \"\"\"\n\u001b[1;32m   1187\u001b[0m         \u001b[0mangle\u001b[0m \u001b[0;34m=\u001b[0m \u001b[0mself\u001b[0m\u001b[0;34m.\u001b[0m\u001b[0mget_params\u001b[0m\u001b[0;34m(\u001b[0m\u001b[0mself\u001b[0m\u001b[0;34m.\u001b[0m\u001b[0mdegrees\u001b[0m\u001b[0;34m)\u001b[0m\u001b[0;34m\u001b[0m\u001b[0;34m\u001b[0m\u001b[0m\n\u001b[0;32m-> 1188\u001b[0;31m         \u001b[0;32mreturn\u001b[0m \u001b[0mF\u001b[0m\u001b[0;34m.\u001b[0m\u001b[0mrotate\u001b[0m\u001b[0;34m(\u001b[0m\u001b[0mimg\u001b[0m\u001b[0;34m,\u001b[0m \u001b[0mangle\u001b[0m\u001b[0;34m,\u001b[0m \u001b[0mself\u001b[0m\u001b[0;34m.\u001b[0m\u001b[0mresample\u001b[0m\u001b[0;34m,\u001b[0m \u001b[0mself\u001b[0m\u001b[0;34m.\u001b[0m\u001b[0mexpand\u001b[0m\u001b[0;34m,\u001b[0m \u001b[0mself\u001b[0m\u001b[0;34m.\u001b[0m\u001b[0mcenter\u001b[0m\u001b[0;34m,\u001b[0m \u001b[0mself\u001b[0m\u001b[0;34m.\u001b[0m\u001b[0mfill\u001b[0m\u001b[0;34m)\u001b[0m\u001b[0;34m\u001b[0m\u001b[0;34m\u001b[0m\u001b[0m\n\u001b[0m\u001b[1;32m   1189\u001b[0m \u001b[0;34m\u001b[0m\u001b[0m\n\u001b[1;32m   1190\u001b[0m     \u001b[0;32mdef\u001b[0m \u001b[0m__repr__\u001b[0m\u001b[0;34m(\u001b[0m\u001b[0mself\u001b[0m\u001b[0;34m)\u001b[0m\u001b[0;34m:\u001b[0m\u001b[0;34m\u001b[0m\u001b[0;34m\u001b[0m\u001b[0m\n",
      "\u001b[0;32m~/anaconda3/envs/tavqvae/lib/python3.8/site-packages/torchvision/transforms/functional.py\u001b[0m in \u001b[0;36mrotate\u001b[0;34m(img, angle, resample, expand, center, fill)\u001b[0m\n\u001b[1;32m    832\u001b[0m \u001b[0;34m\u001b[0m\u001b[0m\n\u001b[1;32m    833\u001b[0m     \u001b[0;32mif\u001b[0m \u001b[0;32mnot\u001b[0m \u001b[0misinstance\u001b[0m\u001b[0;34m(\u001b[0m\u001b[0mimg\u001b[0m\u001b[0;34m,\u001b[0m \u001b[0mtorch\u001b[0m\u001b[0;34m.\u001b[0m\u001b[0mTensor\u001b[0m\u001b[0;34m)\u001b[0m\u001b[0;34m:\u001b[0m\u001b[0;34m\u001b[0m\u001b[0;34m\u001b[0m\u001b[0m\n\u001b[0;32m--> 834\u001b[0;31m         \u001b[0;32mreturn\u001b[0m \u001b[0mF_pil\u001b[0m\u001b[0;34m.\u001b[0m\u001b[0mrotate\u001b[0m\u001b[0;34m(\u001b[0m\u001b[0mimg\u001b[0m\u001b[0;34m,\u001b[0m \u001b[0mangle\u001b[0m\u001b[0;34m=\u001b[0m\u001b[0mangle\u001b[0m\u001b[0;34m,\u001b[0m \u001b[0mresample\u001b[0m\u001b[0;34m=\u001b[0m\u001b[0mresample\u001b[0m\u001b[0;34m,\u001b[0m \u001b[0mexpand\u001b[0m\u001b[0;34m=\u001b[0m\u001b[0mexpand\u001b[0m\u001b[0;34m,\u001b[0m \u001b[0mcenter\u001b[0m\u001b[0;34m=\u001b[0m\u001b[0mcenter\u001b[0m\u001b[0;34m,\u001b[0m \u001b[0mfill\u001b[0m\u001b[0;34m=\u001b[0m\u001b[0mfill\u001b[0m\u001b[0;34m)\u001b[0m\u001b[0;34m\u001b[0m\u001b[0;34m\u001b[0m\u001b[0m\n\u001b[0m\u001b[1;32m    835\u001b[0m \u001b[0;34m\u001b[0m\u001b[0m\n\u001b[1;32m    836\u001b[0m     \u001b[0mcenter_f\u001b[0m \u001b[0;34m=\u001b[0m \u001b[0;34m[\u001b[0m\u001b[0;36m0.0\u001b[0m\u001b[0;34m,\u001b[0m \u001b[0;36m0.0\u001b[0m\u001b[0;34m]\u001b[0m\u001b[0;34m\u001b[0m\u001b[0;34m\u001b[0m\u001b[0m\n",
      "\u001b[0;32m~/anaconda3/envs/tavqvae/lib/python3.8/site-packages/torchvision/transforms/functional_pil.py\u001b[0m in \u001b[0;36mrotate\u001b[0;34m(img, angle, resample, expand, center, fill)\u001b[0m\n\u001b[1;32m    539\u001b[0m \u001b[0;34m\u001b[0m\u001b[0m\n\u001b[1;32m    540\u001b[0m     \u001b[0mopts\u001b[0m \u001b[0;34m=\u001b[0m \u001b[0m_parse_fill\u001b[0m\u001b[0;34m(\u001b[0m\u001b[0mfill\u001b[0m\u001b[0;34m,\u001b[0m \u001b[0mimg\u001b[0m\u001b[0;34m,\u001b[0m \u001b[0;34m'5.2.0'\u001b[0m\u001b[0;34m)\u001b[0m\u001b[0;34m\u001b[0m\u001b[0;34m\u001b[0m\u001b[0m\n\u001b[0;32m--> 541\u001b[0;31m     \u001b[0;32mreturn\u001b[0m \u001b[0mimg\u001b[0m\u001b[0;34m.\u001b[0m\u001b[0mrotate\u001b[0m\u001b[0;34m(\u001b[0m\u001b[0mangle\u001b[0m\u001b[0;34m,\u001b[0m \u001b[0mresample\u001b[0m\u001b[0;34m,\u001b[0m \u001b[0mexpand\u001b[0m\u001b[0;34m,\u001b[0m \u001b[0mcenter\u001b[0m\u001b[0;34m,\u001b[0m \u001b[0;34m**\u001b[0m\u001b[0mopts\u001b[0m\u001b[0;34m)\u001b[0m\u001b[0;34m\u001b[0m\u001b[0;34m\u001b[0m\u001b[0m\n\u001b[0m\u001b[1;32m    542\u001b[0m \u001b[0;34m\u001b[0m\u001b[0m\n\u001b[1;32m    543\u001b[0m \u001b[0;34m\u001b[0m\u001b[0m\n",
      "\u001b[0;32m~/anaconda3/envs/tavqvae/lib/python3.8/site-packages/PIL/Image.py\u001b[0m in \u001b[0;36mrotate\u001b[0;34m(self, angle, resample, expand, center, translate, fillcolor)\u001b[0m\n\u001b[1;32m   2083\u001b[0m             \u001b[0mw\u001b[0m\u001b[0;34m,\u001b[0m \u001b[0mh\u001b[0m \u001b[0;34m=\u001b[0m \u001b[0mnw\u001b[0m\u001b[0;34m,\u001b[0m \u001b[0mnh\u001b[0m\u001b[0;34m\u001b[0m\u001b[0;34m\u001b[0m\u001b[0m\n\u001b[1;32m   2084\u001b[0m \u001b[0;34m\u001b[0m\u001b[0m\n\u001b[0;32m-> 2085\u001b[0;31m         \u001b[0;32mreturn\u001b[0m \u001b[0mself\u001b[0m\u001b[0;34m.\u001b[0m\u001b[0mtransform\u001b[0m\u001b[0;34m(\u001b[0m\u001b[0;34m(\u001b[0m\u001b[0mw\u001b[0m\u001b[0;34m,\u001b[0m \u001b[0mh\u001b[0m\u001b[0;34m)\u001b[0m\u001b[0;34m,\u001b[0m \u001b[0mAFFINE\u001b[0m\u001b[0;34m,\u001b[0m \u001b[0mmatrix\u001b[0m\u001b[0;34m,\u001b[0m \u001b[0mresample\u001b[0m\u001b[0;34m,\u001b[0m \u001b[0mfillcolor\u001b[0m\u001b[0;34m=\u001b[0m\u001b[0mfillcolor\u001b[0m\u001b[0;34m)\u001b[0m\u001b[0;34m\u001b[0m\u001b[0;34m\u001b[0m\u001b[0m\n\u001b[0m\u001b[1;32m   2086\u001b[0m \u001b[0;34m\u001b[0m\u001b[0m\n\u001b[1;32m   2087\u001b[0m     \u001b[0;32mdef\u001b[0m \u001b[0msave\u001b[0m\u001b[0;34m(\u001b[0m\u001b[0mself\u001b[0m\u001b[0;34m,\u001b[0m \u001b[0mfp\u001b[0m\u001b[0;34m,\u001b[0m \u001b[0mformat\u001b[0m\u001b[0;34m=\u001b[0m\u001b[0;32mNone\u001b[0m\u001b[0;34m,\u001b[0m \u001b[0;34m**\u001b[0m\u001b[0mparams\u001b[0m\u001b[0;34m)\u001b[0m\u001b[0;34m:\u001b[0m\u001b[0;34m\u001b[0m\u001b[0;34m\u001b[0m\u001b[0m\n",
      "\u001b[0;32m~/anaconda3/envs/tavqvae/lib/python3.8/site-packages/PIL/Image.py\u001b[0m in \u001b[0;36mtransform\u001b[0;34m(self, size, method, data, resample, fill, fillcolor)\u001b[0m\n\u001b[1;32m   2417\u001b[0m             \u001b[0;32mraise\u001b[0m \u001b[0mValueError\u001b[0m\u001b[0;34m(\u001b[0m\u001b[0;34m\"missing method data\"\u001b[0m\u001b[0;34m)\u001b[0m\u001b[0;34m\u001b[0m\u001b[0;34m\u001b[0m\u001b[0m\n\u001b[1;32m   2418\u001b[0m \u001b[0;34m\u001b[0m\u001b[0m\n\u001b[0;32m-> 2419\u001b[0;31m         \u001b[0mim\u001b[0m \u001b[0;34m=\u001b[0m \u001b[0mnew\u001b[0m\u001b[0;34m(\u001b[0m\u001b[0mself\u001b[0m\u001b[0;34m.\u001b[0m\u001b[0mmode\u001b[0m\u001b[0;34m,\u001b[0m \u001b[0msize\u001b[0m\u001b[0;34m,\u001b[0m \u001b[0mfillcolor\u001b[0m\u001b[0;34m)\u001b[0m\u001b[0;34m\u001b[0m\u001b[0;34m\u001b[0m\u001b[0m\n\u001b[0m\u001b[1;32m   2420\u001b[0m         \u001b[0mim\u001b[0m\u001b[0;34m.\u001b[0m\u001b[0minfo\u001b[0m \u001b[0;34m=\u001b[0m \u001b[0mself\u001b[0m\u001b[0;34m.\u001b[0m\u001b[0minfo\u001b[0m\u001b[0;34m.\u001b[0m\u001b[0mcopy\u001b[0m\u001b[0;34m(\u001b[0m\u001b[0;34m)\u001b[0m\u001b[0;34m\u001b[0m\u001b[0;34m\u001b[0m\u001b[0m\n\u001b[1;32m   2421\u001b[0m         \u001b[0;32mif\u001b[0m \u001b[0mmethod\u001b[0m \u001b[0;34m==\u001b[0m \u001b[0mMESH\u001b[0m\u001b[0;34m:\u001b[0m\u001b[0;34m\u001b[0m\u001b[0;34m\u001b[0m\u001b[0m\n",
      "\u001b[0;32m~/anaconda3/envs/tavqvae/lib/python3.8/site-packages/PIL/Image.py\u001b[0m in \u001b[0;36mnew\u001b[0;34m(mode, size, color)\u001b[0m\n\u001b[1;32m   2625\u001b[0m         \u001b[0mcolor\u001b[0m \u001b[0;34m=\u001b[0m \u001b[0mImageColor\u001b[0m\u001b[0;34m.\u001b[0m\u001b[0mgetcolor\u001b[0m\u001b[0;34m(\u001b[0m\u001b[0mcolor\u001b[0m\u001b[0;34m,\u001b[0m \u001b[0mmode\u001b[0m\u001b[0;34m)\u001b[0m\u001b[0;34m\u001b[0m\u001b[0;34m\u001b[0m\u001b[0m\n\u001b[1;32m   2626\u001b[0m \u001b[0;34m\u001b[0m\u001b[0m\n\u001b[0;32m-> 2627\u001b[0;31m     \u001b[0mim\u001b[0m \u001b[0;34m=\u001b[0m \u001b[0mImage\u001b[0m\u001b[0;34m(\u001b[0m\u001b[0;34m)\u001b[0m\u001b[0;34m\u001b[0m\u001b[0;34m\u001b[0m\u001b[0m\n\u001b[0m\u001b[1;32m   2628\u001b[0m     \u001b[0;32mif\u001b[0m \u001b[0mmode\u001b[0m \u001b[0;34m==\u001b[0m \u001b[0;34m\"P\"\u001b[0m \u001b[0;32mand\u001b[0m \u001b[0misinstance\u001b[0m\u001b[0;34m(\u001b[0m\u001b[0mcolor\u001b[0m\u001b[0;34m,\u001b[0m \u001b[0;34m(\u001b[0m\u001b[0mlist\u001b[0m\u001b[0;34m,\u001b[0m \u001b[0mtuple\u001b[0m\u001b[0;34m)\u001b[0m\u001b[0;34m)\u001b[0m \u001b[0;32mand\u001b[0m \u001b[0mlen\u001b[0m\u001b[0;34m(\u001b[0m\u001b[0mcolor\u001b[0m\u001b[0;34m)\u001b[0m \u001b[0;32min\u001b[0m \u001b[0;34m[\u001b[0m\u001b[0;36m3\u001b[0m\u001b[0;34m,\u001b[0m \u001b[0;36m4\u001b[0m\u001b[0;34m]\u001b[0m\u001b[0;34m:\u001b[0m\u001b[0;34m\u001b[0m\u001b[0;34m\u001b[0m\u001b[0m\n\u001b[1;32m   2629\u001b[0m         \u001b[0;31m# RGB or RGBA value for a P image\u001b[0m\u001b[0;34m\u001b[0m\u001b[0;34m\u001b[0m\u001b[0;34m\u001b[0m\u001b[0m\n",
      "\u001b[0;32m~/anaconda3/envs/tavqvae/lib/python3.8/site-packages/PIL/Image.py\u001b[0m in \u001b[0;36m__init__\u001b[0;34m(self)\u001b[0m\n\u001b[1;32m    528\u001b[0m     \u001b[0m_close_exclusive_fp_after_loading\u001b[0m \u001b[0;34m=\u001b[0m \u001b[0;32mTrue\u001b[0m\u001b[0;34m\u001b[0m\u001b[0;34m\u001b[0m\u001b[0m\n\u001b[1;32m    529\u001b[0m \u001b[0;34m\u001b[0m\u001b[0m\n\u001b[0;32m--> 530\u001b[0;31m     \u001b[0;32mdef\u001b[0m \u001b[0m__init__\u001b[0m\u001b[0;34m(\u001b[0m\u001b[0mself\u001b[0m\u001b[0;34m)\u001b[0m\u001b[0;34m:\u001b[0m\u001b[0;34m\u001b[0m\u001b[0;34m\u001b[0m\u001b[0m\n\u001b[0m\u001b[1;32m    531\u001b[0m         \u001b[0;31m# FIXME: take \"new\" parameters / other image?\u001b[0m\u001b[0;34m\u001b[0m\u001b[0;34m\u001b[0m\u001b[0;34m\u001b[0m\u001b[0m\n\u001b[1;32m    532\u001b[0m         \u001b[0;31m# FIXME: turn mode and size into delegating properties?\u001b[0m\u001b[0;34m\u001b[0m\u001b[0;34m\u001b[0m\u001b[0;34m\u001b[0m\u001b[0m\n",
      "\u001b[0;31mKeyboardInterrupt\u001b[0m: "
     ]
    }
   ],
   "source": [
    "print(\"Device in use: {}\".format(CONFIG.DEVICE))\n",
    "\n",
    "iteration = 0\n",
    "for epoch in range(CONFIG.NUM_EPOCHS):\n",
    "    for x, label in train_loader:\n",
    "        x = x.to(CONFIG.DEVICE)\n",
    "        \n",
    "        with torch.no_grad():\n",
    "            real = dvae.sm_encode(x)\n",
    "\n",
    "        current_batch_dim = real.size(0)\n",
    "        labels_real = torch.full((current_batch_dim,), 1.0, device=CONFIG.DEVICE)\n",
    "        labels_fake = torch.full((current_batch_dim,), 0.0, device=CONFIG.DEVICE)\n",
    "\n",
    "        D.zero_grad()\n",
    "        G.zero_grad()\n",
    "        \n",
    "        ############################\n",
    "        ### Update Discriminator ###\n",
    "        ############################\n",
    "        \n",
    "        noise = torch.randn(current_batch_dim, CONFIG.noise_dim, 1, 1, device=CONFIG.DEVICE)\n",
    "        fake = G(noise=noise)\n",
    "\n",
    "        labels_D_real = D(real)\n",
    "        d_loss_real = F.binary_cross_entropy(labels_D_real, labels_real)\n",
    "\n",
    "        labels_D_fake = D(fake.detach())\n",
    "        d_loss_fake = F.binary_cross_entropy(labels_D_fake, labels_fake)\n",
    "\n",
    "        d_loss = (d_loss_real + d_loss_fake) / 2\n",
    "        d_loss.backward()\n",
    "        optimizer_D.step()\n",
    "\n",
    "        avg_label_D_real = labels_D_real.mean().item()\n",
    "        avg_label_D_fake = labels_D_fake.mean().item()\n",
    "\n",
    "        ############################\n",
    "        ##### Update Generator #####\n",
    "        ############################\n",
    "\n",
    "        labels_D_fake = D(fake)\n",
    "\n",
    "        g_loss = F.binary_cross_entropy(labels_D_fake, labels_real)\n",
    "        g_loss.backward()\n",
    "        optimizer_G.step()\n",
    "\n",
    "        iteration += 1\n",
    "\n",
    "        if iteration % 55 == 0:\n",
    "            print(\"Epoch: {} Iter: {} GLoss: {} DLoss: {} Avg_D_real {} Avg_D_fake {}\".format(\n",
    "                epoch, \n",
    "                iteration, \n",
    "                round(g_loss.item(), 5), \n",
    "                round(d_loss.item(), 5), \n",
    "                round(avg_label_D_real, 5), \n",
    "                round(avg_label_D_fake, 5),\n",
    "                #round(temp, 5)\n",
    "            ))\n",
    "    \n",
    "    if (epoch + 1) % 5 == 0:\n",
    "        with torch.no_grad():\n",
    "            fake_img = dvae.q_decode(fake[:8, :, :, :], hard=True)\n",
    "        img_grid = make_grid(fake_img.detach().cpu())\n",
    "        print(\"====== Epoch {} ======\".format(epoch))\n",
    "        show(img_grid)\n",
    "        print(\"======================\")"
   ]
  },
  {
   "cell_type": "code",
   "execution_count": null,
   "id": "39881be7",
   "metadata": {},
   "outputs": [],
   "source": []
  },
  {
   "cell_type": "code",
   "execution_count": null,
   "id": "ba52b5cf",
   "metadata": {},
   "outputs": [],
   "source": []
  },
  {
   "cell_type": "code",
   "execution_count": null,
   "id": "bb6a7c20",
   "metadata": {},
   "outputs": [],
   "source": []
  },
  {
   "cell_type": "code",
   "execution_count": null,
   "id": "f77683bf",
   "metadata": {},
   "outputs": [],
   "source": []
  },
  {
   "cell_type": "code",
   "execution_count": null,
   "id": "94e0d3d7",
   "metadata": {},
   "outputs": [],
   "source": []
  },
  {
   "cell_type": "code",
   "execution_count": null,
   "id": "3630ea46",
   "metadata": {},
   "outputs": [],
   "source": []
  },
  {
   "cell_type": "code",
   "execution_count": null,
   "id": "fb75a52c",
   "metadata": {},
   "outputs": [],
   "source": []
  },
  {
   "cell_type": "code",
   "execution_count": null,
   "id": "ceb77368",
   "metadata": {},
   "outputs": [],
   "source": []
  },
  {
   "cell_type": "code",
   "execution_count": null,
   "id": "0d8c273e",
   "metadata": {},
   "outputs": [],
   "source": []
  },
  {
   "cell_type": "code",
   "execution_count": null,
   "id": "4700e6e0",
   "metadata": {},
   "outputs": [],
   "source": []
  },
  {
   "cell_type": "code",
   "execution_count": null,
   "id": "8e12d045",
   "metadata": {},
   "outputs": [],
   "source": []
  },
  {
   "cell_type": "code",
   "execution_count": null,
   "id": "cf538a33",
   "metadata": {},
   "outputs": [],
   "source": []
  },
  {
   "cell_type": "code",
   "execution_count": null,
   "id": "98ddcdd2",
   "metadata": {},
   "outputs": [],
   "source": []
  },
  {
   "cell_type": "code",
   "execution_count": null,
   "id": "e9ba8b2a",
   "metadata": {},
   "outputs": [],
   "source": []
  },
  {
   "cell_type": "code",
   "execution_count": null,
   "id": "1d26e99d",
   "metadata": {},
   "outputs": [],
   "source": []
  },
  {
   "cell_type": "code",
   "execution_count": null,
   "id": "4b1f10ed",
   "metadata": {},
   "outputs": [],
   "source": []
  },
  {
   "cell_type": "code",
   "execution_count": null,
   "id": "fba47fd7",
   "metadata": {},
   "outputs": [],
   "source": []
  },
  {
   "cell_type": "code",
   "execution_count": null,
   "id": "3f1c8224",
   "metadata": {},
   "outputs": [],
   "source": []
  },
  {
   "cell_type": "code",
   "execution_count": null,
   "id": "7f6096ef",
   "metadata": {},
   "outputs": [],
   "source": []
  },
  {
   "cell_type": "code",
   "execution_count": null,
   "id": "861329f1",
   "metadata": {},
   "outputs": [],
   "source": []
  },
  {
   "cell_type": "code",
   "execution_count": null,
   "id": "3789406f",
   "metadata": {},
   "outputs": [],
   "source": []
  },
  {
   "cell_type": "code",
   "execution_count": null,
   "id": "535af797",
   "metadata": {},
   "outputs": [],
   "source": []
  },
  {
   "cell_type": "code",
   "execution_count": null,
   "id": "0ec0388c",
   "metadata": {},
   "outputs": [],
   "source": []
  },
  {
   "cell_type": "code",
   "execution_count": null,
   "id": "e84c1d2f",
   "metadata": {},
   "outputs": [],
   "source": []
  },
  {
   "cell_type": "code",
   "execution_count": null,
   "id": "39078ba1",
   "metadata": {},
   "outputs": [],
   "source": []
  },
  {
   "cell_type": "code",
   "execution_count": null,
   "id": "daf6d6a4",
   "metadata": {},
   "outputs": [],
   "source": []
  },
  {
   "cell_type": "code",
   "execution_count": null,
   "id": "dac565d6",
   "metadata": {},
   "outputs": [],
   "source": []
  },
  {
   "cell_type": "code",
   "execution_count": null,
   "id": "9771bc9f",
   "metadata": {},
   "outputs": [],
   "source": []
  },
  {
   "cell_type": "code",
   "execution_count": null,
   "id": "b3fd1f34",
   "metadata": {},
   "outputs": [],
   "source": []
  },
  {
   "cell_type": "code",
   "execution_count": null,
   "id": "27450f7e",
   "metadata": {},
   "outputs": [],
   "source": []
  },
  {
   "cell_type": "code",
   "execution_count": null,
   "id": "e27a8c75",
   "metadata": {},
   "outputs": [],
   "source": []
  },
  {
   "cell_type": "code",
   "execution_count": null,
   "id": "53197d87",
   "metadata": {},
   "outputs": [],
   "source": []
  },
  {
   "cell_type": "code",
   "execution_count": null,
   "id": "6de53df4",
   "metadata": {},
   "outputs": [],
   "source": []
  },
  {
   "cell_type": "code",
   "execution_count": null,
   "id": "887bc55e",
   "metadata": {},
   "outputs": [],
   "source": []
  },
  {
   "cell_type": "code",
   "execution_count": null,
   "id": "d2ab5967",
   "metadata": {},
   "outputs": [],
   "source": []
  },
  {
   "cell_type": "code",
   "execution_count": null,
   "id": "4a285620",
   "metadata": {},
   "outputs": [],
   "source": []
  },
  {
   "cell_type": "code",
   "execution_count": null,
   "id": "f24c86ab",
   "metadata": {},
   "outputs": [],
   "source": []
  },
  {
   "cell_type": "code",
   "execution_count": null,
   "id": "1cfc778c",
   "metadata": {},
   "outputs": [],
   "source": []
  },
  {
   "cell_type": "code",
   "execution_count": null,
   "id": "d4ec2c12",
   "metadata": {},
   "outputs": [],
   "source": []
  }
 ],
 "metadata": {
  "kernelspec": {
   "display_name": "Python 3",
   "language": "python",
   "name": "python3"
  },
  "language_info": {
   "codemirror_mode": {
    "name": "ipython",
    "version": 3
   },
   "file_extension": ".py",
   "mimetype": "text/x-python",
   "name": "python",
   "nbconvert_exporter": "python",
   "pygments_lexer": "ipython3",
   "version": "3.8.5"
  }
 },
 "nbformat": 4,
 "nbformat_minor": 5
}
