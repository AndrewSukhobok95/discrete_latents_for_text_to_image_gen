{
 "cells": [
  {
   "cell_type": "code",
   "execution_count": 11,
   "id": "convinced-validity",
   "metadata": {},
   "outputs": [],
   "source": [
    "import sys\n",
    "sys.path.append(\"./../\")\n",
    "\n",
    "import os\n",
    "import io, requests\n",
    "import torch\n",
    "import torch.nn as nn"
   ]
  },
  {
   "cell_type": "code",
   "execution_count": 4,
   "id": "handed-planning",
   "metadata": {},
   "outputs": [],
   "source": [
    "def load_model(path: str, device: torch.device = None) -> nn.Module:\n",
    "    if path.startswith('http://') or path.startswith('https://'):\n",
    "        resp = requests.get(path)\n",
    "        resp.raise_for_status()\n",
    "        with io.BytesIO(resp.content) as buf:\n",
    "            return torch.load(buf, map_location=device)\n",
    "    else:\n",
    "        with open(path, 'rb') as f:\n",
    "            return torch.load(f, map_location=device)"
   ]
  },
  {
   "cell_type": "code",
   "execution_count": 6,
   "id": "variable-paste",
   "metadata": {},
   "outputs": [],
   "source": [
    "device = torch.device(\"cpu\")\n",
    "encoder = load_model(\"https://cdn.openai.com/dall-e/encoder.pkl\", device)\n",
    "decoder = load_model(\"https://cdn.openai.com/dall-e/decoder.pkl\", device)"
   ]
  },
  {
   "cell_type": "code",
   "execution_count": 12,
   "id": "fuzzy-marker",
   "metadata": {},
   "outputs": [],
   "source": [
    "weights_path = \"./../models/DALLE_dvae/\"\n",
    "if not os.path.exists(weights_path):\n",
    "    os.makedirs(weights_path)\n",
    "\n",
    "torch.save(encoder.state_dict(), weights_path + \"dvae_encoder.pth\")\n",
    "torch.save(decoder.state_dict(), weights_path + \"dvae_decoder.pth\")"
   ]
  },
  {
   "cell_type": "code",
   "execution_count": null,
   "id": "crucial-conversation",
   "metadata": {},
   "outputs": [],
   "source": []
  }
 ],
 "metadata": {
  "kernelspec": {
   "display_name": "Python 3",
   "language": "python",
   "name": "python3"
  },
  "language_info": {
   "codemirror_mode": {
    "name": "ipython",
    "version": 3
   },
   "file_extension": ".py",
   "mimetype": "text/x-python",
   "name": "python",
   "nbconvert_exporter": "python",
   "pygments_lexer": "ipython3",
   "version": "3.8.5"
  }
 },
 "nbformat": 4,
 "nbformat_minor": 5
}
