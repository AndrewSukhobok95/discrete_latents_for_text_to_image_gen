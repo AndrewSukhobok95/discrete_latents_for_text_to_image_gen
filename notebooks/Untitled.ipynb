{
 "cells": [
  {
   "cell_type": "code",
   "execution_count": 58,
   "id": "30b71709",
   "metadata": {},
   "outputs": [],
   "source": [
    "import numpy as np\n",
    "import tensorflow as tf\n",
    "\n",
    "import torch\n",
    "import torch.nn as nn\n",
    "import torch.nn.functional as F\n",
    "\n",
    "import matplotlib.pyplot as plt"
   ]
  },
  {
   "cell_type": "code",
   "execution_count": null,
   "id": "6113bc19",
   "metadata": {},
   "outputs": [],
   "source": []
  },
  {
   "cell_type": "code",
   "execution_count": 53,
   "id": "ba638969",
   "metadata": {},
   "outputs": [],
   "source": [
    "def get_attn_mask(n, attn_mode, local_attn_ctx=None):\n",
    "    if attn_mode == 'all':\n",
    "        b = tf.linalg.band_part(tf.ones([n, n]), -1, 0)\n",
    "    elif attn_mode == 'local':\n",
    "        bandwidth = local_attn_ctx\n",
    "        ctx = tf.minimum(n - 1, bandwidth - 1)\n",
    "        b = tf.linalg.band_part(tf.ones([n, n]), ctx, 0)\n",
    "    elif attn_mode == 'strided':\n",
    "        stride = local_attn_ctx\n",
    "        x = tf.reshape(tf.range(n, dtype=tf.int32), [n, 1])\n",
    "        y = tf.transpose(x)\n",
    "        z = tf.zeros([n, n], dtype=tf.int32)\n",
    "        q = z + x\n",
    "        k = z + y\n",
    "        c1 = q >= k\n",
    "        c2 = tf.equal(tf.math.floormod(q - k, stride), 0)\n",
    "        c3 = tf.logical_and(c1, c2)\n",
    "        b = tf.cast(c3, tf.float32)\n",
    "    else:\n",
    "        raise ValueError('Not yet implemented')\n",
    "    b = tf.reshape(b, [1, 1, n, n])\n",
    "    return b"
   ]
  },
  {
   "cell_type": "code",
   "execution_count": 44,
   "id": "4de32489",
   "metadata": {},
   "outputs": [
    {
     "data": {
      "text/plain": [
       "<matplotlib.image.AxesImage at 0x7f6961ba0a60>"
      ]
     },
     "execution_count": 44,
     "metadata": {},
     "output_type": "execute_result"
    },
    {
     "data": {
      "image/png": "[encoded data removed]",
      "text/plain": [
       "<Figure size 432x288 with 1 Axes>"
      ]
     },
     "metadata": {
      "needs_background": "light"
     },
     "output_type": "display_data"
    }
   ],
   "source": [
    "m = get_attn_mask(n=16, attn_mode='all', local_attn_ctx=4)\n",
    "\n",
    "plt.imshow(m[0,0,:,:].numpy())"
   ]
  },
  {
   "cell_type": "code",
   "execution_count": 50,
   "id": "98a3d0a7",
   "metadata": {},
   "outputs": [
    {
     "data": {
      "text/plain": [
       "<matplotlib.image.AxesImage at 0x7f696195a430>"
      ]
     },
     "execution_count": 50,
     "metadata": {},
     "output_type": "execute_result"
    },
    {
     "data": {
      "image/png": "[encoded data removed]",
      "text/plain": [
       "<Figure size 432x288 with 1 Axes>"
      ]
     },
     "metadata": {
      "needs_background": "light"
     },
     "output_type": "display_data"
    }
   ],
   "source": [
    "m = get_attn_mask(n=16, attn_mode='local', local_attn_ctx=4)\n",
    "\n",
    "plt.imshow(m[0,0,:,:].numpy())"
   ]
  },
  {
   "cell_type": "code",
   "execution_count": 57,
   "id": "cdd73f4d",
   "metadata": {},
   "outputs": [
    {
     "data": {
      "text/plain": [
       "<matplotlib.image.AxesImage at 0x7f6961750a90>"
      ]
     },
     "execution_count": 57,
     "metadata": {},
     "output_type": "execute_result"
    },
    {
     "data": {
      "image/png": "[encoded data removed]",
      "text/plain": [
       "<Figure size 432x288 with 1 Axes>"
      ]
     },
     "metadata": {
      "needs_background": "light"
     },
     "output_type": "display_data"
    }
   ],
   "source": [
    "m = get_attn_mask(n=16, attn_mode='strided', local_attn_ctx=2)\n",
    "\n",
    "plt.imshow(m[0,0,:,:].numpy())"
   ]
  },
  {
   "cell_type": "code",
   "execution_count": null,
   "id": "7eba8f88",
   "metadata": {},
   "outputs": [],
   "source": []
  },
  {
   "cell_type": "code",
   "execution_count": null,
   "id": "d6cc00e5",
   "metadata": {},
   "outputs": [],
   "source": []
  },
  {
   "cell_type": "code",
   "execution_count": null,
   "id": "afb4ac35",
   "metadata": {},
   "outputs": [],
   "source": []
  },
  {
   "cell_type": "code",
   "execution_count": null,
   "id": "33780746",
   "metadata": {},
   "outputs": [],
   "source": []
  },
  {
   "cell_type": "code",
   "execution_count": null,
   "id": "d3657da8",
   "metadata": {},
   "outputs": [],
   "source": []
  },
  {
   "cell_type": "code",
   "execution_count": null,
   "id": "63d949f7",
   "metadata": {},
   "outputs": [],
   "source": []
  },
  {
   "cell_type": "code",
   "execution_count": null,
   "id": "30ad34f5",
   "metadata": {},
   "outputs": [],
   "source": []
  },
  {
   "cell_type": "code",
   "execution_count": null,
   "id": "1f579889",
   "metadata": {},
   "outputs": [],
   "source": []
  },
  {
   "cell_type": "code",
   "execution_count": null,
   "id": "3b9c7877",
   "metadata": {},
   "outputs": [],
   "source": []
  },
  {
   "cell_type": "code",
   "execution_count": null,
   "id": "00561718",
   "metadata": {},
   "outputs": [],
   "source": []
  },
  {
   "cell_type": "code",
   "execution_count": null,
   "id": "d4e1a097",
   "metadata": {},
   "outputs": [],
   "source": []
  },
  {
   "cell_type": "code",
   "execution_count": null,
   "id": "4cc2a9d1",
   "metadata": {},
   "outputs": [],
   "source": []
  }
 ],
 "metadata": {
  "kernelspec": {
   "display_name": "Python 3",
   "language": "python",
   "name": "python3"
  },
  "language_info": {
   "codemirror_mode": {
    "name": "ipython",
    "version": 3
   },
   "file_extension": ".py",
   "mimetype": "text/x-python",
   "name": "python",
   "nbconvert_exporter": "python",
   "pygments_lexer": "ipython3",
   "version": "3.8.5"
  }
 },
 "nbformat": 4,
 "nbformat_minor": 5
}
